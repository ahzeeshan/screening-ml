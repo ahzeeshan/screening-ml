{
 "cells": [
  {
   "cell_type": "code",
   "execution_count": 1,
   "metadata": {},
   "outputs": [
    {
     "name": "stdout",
     "output_type": "stream",
     "text": [
      "Once deleted, variables cannot be recovered. Proceed (y/[n])? y\n"
     ]
    }
   ],
   "source": [
    "%reset"
   ]
  },
  {
   "cell_type": "code",
   "execution_count": 2,
   "metadata": {},
   "outputs": [
    {
     "data": {
      "text/plain": [
       "avg atomic mass                 12.948441\n",
       "vol per atom                    14.704852\n",
       "std Li neighbor count            1.549193\n",
       "std Li bond ionicity             0.543691\n",
       "Li bond ionicity                 0.475357\n",
       "Li neighbor count               15.000000\n",
       "Li-Li bonds per Li              11.333333\n",
       "avg Li bond length               2.951745\n",
       "sublattice bond ionicity         1.210000\n",
       "sublattice neighbor count       11.000000\n",
       "anion framework coordination    12.000000\n",
       "min anion-anion sep dist         4.371248\n",
       "vol per anion                   58.819406\n",
       "min Li-anion sep dist            2.501538\n",
       "Li number conc                   0.051004\n",
       "mass density                     1.462163\n",
       "min Li-Li sep dist               2.590842\n",
       "sublattice electronegativity     2.190000\n",
       "RBI                              0.392857\n",
       "RNB                              1.363636\n",
       "Name: 2598, dtype: float64"
      ]
     },
     "execution_count": 2,
     "metadata": {},
     "output_type": "execute_result"
    }
   ],
   "source": [
    "import numpy as np\n",
    "import pandas as pd\n",
    "#Column names from Table 2\n",
    "#column_names = ['avg atomic mass','vol per atom','std Li neighbor count','std Li bond ionicity','Li bond ionicity','Li neighbor count','Li-Li bonds per Li','avg Li bond length','sublattice bond ionicity','sublattice neighbor count','anion framework coordination','min anion-anion sep dist','vol per anion','min Li-anion sep dist','Li number conc','mass density','min Li-Li sep dist','sublattice electronegativity','ratio of 4 and 7','ratio of 5 and 8']\n",
    "column_names = ['avg atomic mass','vol per atom','std Li neighbor count','std Li bond ionicity','Li bond ionicity','Li neighbor count','Li-Li bonds per Li','avg Li bond length','sublattice bond ionicity','sublattice neighbor count','anion framework coordination','min anion-anion sep dist','vol per anion','min Li-anion sep dist','Li number conc','mass density','min Li-Li sep dist','sublattice electronegativity','RBI','RNB']\n",
    "\n",
    "data = pd.read_csv('full_parms_1A_for_EDC.txt', usecols=np.arange(1,21,1), header=None,delimiter='\\t',names=column_names)\n",
    "fmp = pd.read_csv('full_parms_1A_for_EDC.txt',delimiter=' ',dtype = str,usecols=[0],header=None,names=['mp'])\n",
    "data = data.apply(pd.to_numeric, errors='coerce')\n",
    "data.head()\n",
    "data.iloc[2598]"
   ]
  },
  {
   "cell_type": "code",
   "execution_count": 3,
   "metadata": {},
   "outputs": [],
   "source": [
    "#data.iloc[360]"
   ]
  },
  {
   "cell_type": "code",
   "execution_count": 66,
   "metadata": {},
   "outputs": [],
   "source": [
    "#Training data means and stds from Table 2\n",
    "means = np.array([13.342, 1.766, 0.858, 1.403, 21.359, 6.218, 0.978, 20.660, 10.073, 3.395, 36.614, 2.072, 2.730, 2.780, 0.465, 0.234, 0.852, 2.535, 1.611, 1.057])\n",
    "stds = np.array([4.582, 1.430, 0.274, 0.372, 6.393, 4.432, 0.330, 7.087, 2.202, 0.708, 35.131, 0.288, 0.746, 0.306, 0.173, 0.186, 0.247, 0.707, 0.719, 0.152])\n",
    "datan = (data - means)/stds"
   ]
  },
  {
   "cell_type": "code",
   "execution_count": 6,
   "metadata": {},
   "outputs": [
    {
     "name": "stdout",
     "output_type": "stream",
     "text": [
      "0        0.869649\n",
      "1       -0.924901\n",
      "2        3.757157\n",
      "3        2.332780\n",
      "4        2.216177\n",
      "5        1.946722\n",
      "6        2.065869\n",
      "7        5.105696\n",
      "8        2.451650\n",
      "9        6.086554\n",
      "10       6.563502\n",
      "11       4.723451\n",
      "12       2.485844\n",
      "13       1.740425\n",
      "14       6.249586\n",
      "15      -1.892382\n",
      "16      -3.877871\n",
      "17      -6.112936\n",
      "18            NaN\n",
      "19      -2.629723\n",
      "20       3.427311\n",
      "21       5.040853\n",
      "22       4.523879\n",
      "23      -2.249991\n",
      "24       4.163414\n",
      "25       0.634153\n",
      "26      -7.472940\n",
      "27      -5.446671\n",
      "28      -1.444007\n",
      "29      -6.930119\n",
      "           ...   \n",
      "12715   -3.589078\n",
      "12716   -7.072497\n",
      "12717   -4.678545\n",
      "12718    7.499979\n",
      "12719   -3.364463\n",
      "12720   -2.687309\n",
      "12721   -3.011650\n",
      "12722   -4.030500\n",
      "12723   -2.375662\n",
      "12724   -2.673769\n",
      "12725   -2.704118\n",
      "12726   -2.256684\n",
      "12727    0.430195\n",
      "12728   -2.432422\n",
      "12729    0.863039\n",
      "12730    0.844338\n",
      "12731    0.894297\n",
      "12732    0.641916\n",
      "12733    0.625158\n",
      "12734    1.101940\n",
      "12735   -3.395019\n",
      "12736   -4.146439\n",
      "12737   -2.939534\n",
      "12738   -2.373594\n",
      "12739   -3.084694\n",
      "12740   -2.661270\n",
      "12741   -7.631537\n",
      "12742   -8.105520\n",
      "12743   -3.358653\n",
      "12744   -3.382984\n",
      "Length: 12745, dtype: float64\n",
      "0        0.704673\n",
      "1        0.283960\n",
      "2        0.977183\n",
      "3        0.911556\n",
      "4        0.901693\n",
      "5        0.875089\n",
      "6        0.887541\n",
      "7        0.993974\n",
      "8        0.920682\n",
      "9        0.997732\n",
      "10       0.998591\n",
      "11       0.991194\n",
      "12       0.923143\n",
      "13       0.850741\n",
      "14       0.998072\n",
      "15       0.130973\n",
      "16       0.020275\n",
      "17       0.002209\n",
      "18            NaN\n",
      "19       0.067250\n",
      "20       0.968547\n",
      "21       0.993573\n",
      "22       0.989270\n",
      "23       0.095350\n",
      "24       0.984684\n",
      "25       0.653431\n",
      "26       0.000568\n",
      "27       0.004292\n",
      "28       0.190926\n",
      "29       0.000977\n",
      "           ...   \n",
      "12715    0.026881\n",
      "12716    0.000847\n",
      "12717    0.009207\n",
      "12718    0.999447\n",
      "12719    0.033425\n",
      "12720    0.063726\n",
      "12721    0.046902\n",
      "12722    0.017455\n",
      "12723    0.085047\n",
      "12724    0.064539\n",
      "12725    0.062731\n",
      "12726    0.094774\n",
      "12727    0.605920\n",
      "12728    0.080734\n",
      "12729    0.703295\n",
      "12730    0.699378\n",
      "12731    0.709776\n",
      "12732    0.655186\n",
      "12733    0.651391\n",
      "12734    0.750624\n",
      "12735    0.032451\n",
      "12736    0.015574\n",
      "12737    0.050234\n",
      "12738    0.085209\n",
      "12739    0.043743\n",
      "12740    0.065298\n",
      "12741    0.000485\n",
      "12742    0.000302\n",
      "12743    0.033613\n",
      "12744    0.032832\n",
      "Length: 12745, dtype: float64\n"
     ]
    },
    {
     "ename": "NameError",
     "evalue": "name 'datan' is not defined",
     "output_type": "error",
     "traceback": [
      "\u001b[0;31m---------------------------------------------------------------------------\u001b[0m",
      "\u001b[0;31mNameError\u001b[0m                                 Traceback (most recent call last)",
      "\u001b[0;32m<ipython-input-6-b85615316709>\u001b[0m in \u001b[0;36m<module>\u001b[0;34m()\u001b[0m\n\u001b[1;32m      3\u001b[0m \u001b[0mprint\u001b[0m\u001b[0;34m(\u001b[0m\u001b[0mthetax\u001b[0m\u001b[0;34m)\u001b[0m\u001b[0;34m\u001b[0m\u001b[0m\n\u001b[1;32m      4\u001b[0m \u001b[0mprint\u001b[0m\u001b[0;34m(\u001b[0m\u001b[0mPion\u001b[0m\u001b[0;34m)\u001b[0m\u001b[0;34m\u001b[0m\u001b[0m\n\u001b[0;32m----> 5\u001b[0;31m \u001b[0mthetax1\u001b[0m \u001b[0;34m=\u001b[0m \u001b[0;36m0.817\u001b[0m \u001b[0;34m*\u001b[0m \u001b[0mdatan\u001b[0m\u001b[0;34m[\u001b[0m\u001b[0;34m'Li-Li bonds per Li'\u001b[0m\u001b[0;34m]\u001b[0m \u001b[0;34m-\u001b[0m \u001b[0;36m1.323\u001b[0m \u001b[0;34m*\u001b[0m \u001b[0mdatan\u001b[0m\u001b[0;34m[\u001b[0m\u001b[0;34m'sublattice bond ionicity'\u001b[0m\u001b[0;34m]\u001b[0m \u001b[0;34m-\u001b[0m \u001b[0;36m1.028\u001b[0m \u001b[0;34m*\u001b[0m \u001b[0mdatan\u001b[0m\u001b[0;34m[\u001b[0m\u001b[0;34m'anion framework coordination'\u001b[0m\u001b[0;34m]\u001b[0m \u001b[0;34m+\u001b[0m \u001b[0;36m2.509\u001b[0m \u001b[0;34m*\u001b[0m \u001b[0mdatan\u001b[0m\u001b[0;34m[\u001b[0m\u001b[0;34m'min Li-anion sep dist'\u001b[0m\u001b[0;34m]\u001b[0m \u001b[0;34m-\u001b[0m \u001b[0;36m1.619\u001b[0m \u001b[0;34m*\u001b[0m \u001b[0mdatan\u001b[0m\u001b[0;34m[\u001b[0m\u001b[0;34m'min Li-Li sep dist'\u001b[0m\u001b[0;34m]\u001b[0m \u001b[0;34m-\u001b[0m \u001b[0;36m1.944\u001b[0m\u001b[0;34m\u001b[0m\u001b[0m\n\u001b[0m\u001b[1;32m      6\u001b[0m \u001b[0mPion1\u001b[0m \u001b[0;34m=\u001b[0m \u001b[0;36m1\u001b[0m \u001b[0;34m/\u001b[0m \u001b[0;34m(\u001b[0m\u001b[0;36m1\u001b[0m \u001b[0;34m+\u001b[0m \u001b[0mnp\u001b[0m\u001b[0;34m.\u001b[0m\u001b[0mexp\u001b[0m\u001b[0;34m(\u001b[0m \u001b[0;34m-\u001b[0m\u001b[0mthetax1\u001b[0m \u001b[0;34m)\u001b[0m\u001b[0;34m)\u001b[0m\u001b[0;34m\u001b[0m\u001b[0m\n\u001b[1;32m      7\u001b[0m \u001b[0;31m#fmp[2052]\u001b[0m\u001b[0;34m\u001b[0m\u001b[0;34m\u001b[0m\u001b[0m\n",
      "\u001b[0;31mNameError\u001b[0m: name 'datan' is not defined"
     ]
    }
   ],
   "source": [
    "thetax = 0.184 * data['Li-Li bonds per Li'] - 4.009 * data['sublattice bond ionicity'] - 0.467 * data['anion framework coordination'] + 8.699 * data['min Li-anion sep dist'] - 2.170 * data['min Li-Li sep dist'] - 6.564\n",
    "Pion = 1 / ( 1 + np.exp( -thetax ))\n",
    "print(thetax)\n",
    "print(Pion)\n",
    "thetax1 = 0.817 * datan['Li-Li bonds per Li'] - 1.323 * datan['sublattice bond ionicity'] - 1.028 * datan['anion framework coordination'] + 2.509 * datan['min Li-anion sep dist'] - 1.619 * datan['min Li-Li sep dist'] - 1.944\n",
    "Pion1 = 1 / (1 + np.exp( -thetax1 ))\n",
    "#fmp[2052]"
   ]
  },
  {
   "cell_type": "code",
   "execution_count": 7,
   "metadata": {},
   "outputs": [
    {
     "name": "stdout",
     "output_type": "stream",
     "text": [
      "393\n",
      "685\n",
      "1812\n",
      "2179\n",
      "2700\n",
      "11903\n",
      "12172\n",
      "12237\n"
     ]
    }
   ],
   "source": [
    "for i in range(len(fmp)):\n",
    "    if fmp.values[i][0] == 'mp-23856':\n",
    "        print(i)\n",
    "for i in range(len(fmp)):\n",
    "    if fmp.values[i][0] == 'mp-29520':\n",
    "        print(i)\n",
    "for i in range(len(fmp)):\n",
    "    if fmp.values[i][0] == 'mp-567967':\n",
    "        print(i)\n",
    "for i in range(len(fmp)):\n",
    "    if fmp.values[i][0] == 'mp-675926':\n",
    "        print(i)\n",
    "for i in range(len(fmp)):\n",
    "    if fmp.values[i][0] == 'mp-753195':\n",
    "        print(i)\n",
    "for i in range(len(fmp)):\n",
    "    if fmp.values[i][0] == 'mp-861660':\n",
    "        print(i)\n",
    "for i in range(len(fmp)):\n",
    "    if fmp.values[i][0] == 'mp-867108':\n",
    "        print(i)\n",
    "for i in range(len(fmp)):\n",
    "    if fmp.values[i][0] == 'mp-867695':\n",
    "        print(i)"
   ]
  },
  {
   "cell_type": "code",
   "execution_count": 8,
   "metadata": {},
   "outputs": [
    {
     "name": "stdout",
     "output_type": "stream",
     "text": [
      "0.05028307381269875 0.9358792303617274 0.18066600790448326 0.26946881713588877 0.14855803963037606 0.9912777392151676 0.9970340765906519 0.2250188613357236\n"
     ]
    }
   ],
   "source": [
    "print(Pion[393], Pion[685], Pion[1812], Pion[2179], Pion[2700], Pion[11903], Pion[12172], Pion[12237])\n",
    "\n",
    "#In table 3, it is 0.589"
   ]
  },
  {
   "cell_type": "code",
   "execution_count": 70,
   "metadata": {},
   "outputs": [
    {
     "name": "stdout",
     "output_type": "stream",
     "text": [
      "360\n"
     ]
    }
   ],
   "source": [
    "for i in range(len(fmp)):\n",
    "    if fmp.values[i][0] == 'mp-22899':\n",
    "        print(i)"
   ]
  },
  {
   "cell_type": "code",
   "execution_count": 71,
   "metadata": {},
   "outputs": [
    {
     "data": {
      "text/plain": [
       "array([12.969202,  8.511076,  0.      ,  1.532262,  1.941176, 23.      ,\n",
       "       12.      ,  2.807873,  1.434783, 23.      , 12.      ,  2.887419,\n",
       "       17.022151,  2.041714,  0.058747,  2.530275,  2.887419,  3.98    ,\n",
       "        1.352941,  1.      ])"
      ]
     },
     "execution_count": 71,
     "metadata": {},
     "output_type": "execute_result"
    }
   ],
   "source": [
    "data.values[58]"
   ]
  },
  {
   "cell_type": "code",
   "execution_count": 80,
   "metadata": {},
   "outputs": [
    {
     "name": "stdout",
     "output_type": "stream",
     "text": [
      "2598\n",
      "360\n"
     ]
    }
   ],
   "source": [
    "for i in range(len(fmp)):\n",
    "    if fmp.values[i][0] == 'mp-736':\n",
    "        print(i)\n",
    "for i in range(len(fmp)):\n",
    "    if fmp.values[i][0] == 'mp-22899':\n",
    "        print(i)"
   ]
  },
  {
   "cell_type": "code",
   "execution_count": 42,
   "metadata": {},
   "outputs": [
    {
     "data": {
      "text/plain": [
       "ratio of 5 and 8                         7.982333\n",
       "vol per atom                             9.480945\n",
       "std Li neighbor count                    0.000000\n",
       "std Li bond ionicity                     1.009489\n",
       "Li bond ionicity                         1.472000\n",
       "Li neighbor count                       24.000000\n",
       "Li-Li bonds per Li                       8.000000\n",
       "sublattice neighbor count                2.968856\n",
       "sublattice bond ionicity                 1.002500\n",
       "min anion-anion sep dist                32.000000\n",
       "anion framework coordination            12.000000\n",
       "xx                                       3.453704\n",
       "vol per anion                           28.442836\n",
       "min Li-anion sep dist                    1.987262\n",
       "sublattice electronegativity             0.035158\n",
       "full packing fraction                    1.398032\n",
       "min Li-Li sep dist                       2.539477\n",
       "straight line path width                 2.820000\n",
       "straight line path electronegativity     1.468329\n",
       "ratio of 4 and 7                         0.750000\n",
       "Name: 393, dtype: float64"
      ]
     },
     "execution_count": 42,
     "metadata": {},
     "output_type": "execute_result"
    }
   ],
   "source": [
    "data.iloc[393]"
   ]
  },
  {
   "cell_type": "code",
   "execution_count": 48,
   "metadata": {},
   "outputs": [
    {
     "data": {
      "text/plain": [
       "ratio of 5 and 8                        12.948441\n",
       "vol per atom                            14.704852\n",
       "std Li neighbor count                    1.549193\n",
       "std Li bond ionicity                     0.543691\n",
       "Li bond ionicity                         0.475357\n",
       "Li neighbor count                       15.000000\n",
       "Li-Li bonds per Li                      11.333333\n",
       "sublattice neighbor count                2.951745\n",
       "sublattice bond ionicity                 1.210000\n",
       "min anion-anion sep dist                11.000000\n",
       "anion framework coordination            12.000000\n",
       "xx                                       4.371248\n",
       "vol per anion                           58.819406\n",
       "min Li-anion sep dist                    2.501538\n",
       "sublattice electronegativity             0.051004\n",
       "full packing fraction                    1.462163\n",
       "min Li-Li sep dist                       2.590842\n",
       "straight line path width                 2.190000\n",
       "straight line path electronegativity     0.392857\n",
       "ratio of 4 and 7                         1.363636\n",
       "Name: 2598, dtype: float64"
      ]
     },
     "execution_count": 48,
     "metadata": {},
     "output_type": "execute_result"
    }
   ],
   "source": [
    "data.iloc[2598]"
   ]
  },
  {
   "cell_type": "code",
   "execution_count": null,
   "metadata": {},
   "outputs": [],
   "source": []
  },
  {
   "cell_type": "code",
   "execution_count": 72,
   "metadata": {},
   "outputs": [
    {
     "data": {
      "text/html": [
       "<div>\n",
       "<style scoped>\n",
       "    .dataframe tbody tr th:only-of-type {\n",
       "        vertical-align: middle;\n",
       "    }\n",
       "\n",
       "    .dataframe tbody tr th {\n",
       "        vertical-align: top;\n",
       "    }\n",
       "\n",
       "    .dataframe thead th {\n",
       "        text-align: right;\n",
       "    }\n",
       "</style>\n",
       "<table border=\"1\" class=\"dataframe\">\n",
       "  <thead>\n",
       "    <tr style=\"text-align: right;\">\n",
       "      <th></th>\n",
       "      <th>vol per atom</th>\n",
       "      <th>std Li neighbor count</th>\n",
       "      <th>std Li bond ionicity</th>\n",
       "      <th>Li bond ionicity</th>\n",
       "      <th>Li neighbor count</th>\n",
       "      <th>Li-Li bonds per Li</th>\n",
       "      <th>sublattice bond ionicity</th>\n",
       "      <th>sublattice neighbor count</th>\n",
       "      <th>anion framework coordination</th>\n",
       "      <th>min anion-anion sep dist</th>\n",
       "      <th>vol per anion</th>\n",
       "      <th>min Li-anion sep dist</th>\n",
       "      <th>min Li-Li sep dist</th>\n",
       "      <th>sublattice electronegativity</th>\n",
       "      <th>full packing fraction</th>\n",
       "      <th>sublattice packing fraction</th>\n",
       "      <th>straight line path width</th>\n",
       "      <th>straight line path electronegativity</th>\n",
       "      <th>ratio of 4 and 7</th>\n",
       "      <th>ratio of 5 and 8</th>\n",
       "    </tr>\n",
       "  </thead>\n",
       "  <tbody>\n",
       "    <tr>\n",
       "      <th>0</th>\n",
       "      <td>22.274394</td>\n",
       "      <td>21.223614</td>\n",
       "      <td>0.92157</td>\n",
       "      <td>0.649584</td>\n",
       "      <td>1.185133</td>\n",
       "      <td>11.208333</td>\n",
       "      <td>3.583333</td>\n",
       "      <td>3.164090</td>\n",
       "      <td>0.713032</td>\n",
       "      <td>10.623377</td>\n",
       "      <td>9.901639</td>\n",
       "      <td>3.841740</td>\n",
       "      <td>43.491012</td>\n",
       "      <td>2.441639</td>\n",
       "      <td>0.018093</td>\n",
       "      <td>1.742711</td>\n",
       "      <td>3.217922</td>\n",
       "      <td>2.498961</td>\n",
       "      <td>1.662104</td>\n",
       "      <td>1.055063</td>\n",
       "    </tr>\n",
       "    <tr>\n",
       "      <th>1</th>\n",
       "      <td>11.795200</td>\n",
       "      <td>13.011621</td>\n",
       "      <td>0.00000</td>\n",
       "      <td>0.686661</td>\n",
       "      <td>1.607742</td>\n",
       "      <td>17.000000</td>\n",
       "      <td>3.000000</td>\n",
       "      <td>3.160305</td>\n",
       "      <td>0.507073</td>\n",
       "      <td>20.500000</td>\n",
       "      <td>10.500000</td>\n",
       "      <td>3.529253</td>\n",
       "      <td>32.529053</td>\n",
       "      <td>2.081866</td>\n",
       "      <td>0.015371</td>\n",
       "      <td>1.505264</td>\n",
       "      <td>2.804930</td>\n",
       "      <td>2.795000</td>\n",
       "      <td>3.170631</td>\n",
       "      <td>0.829268</td>\n",
       "    </tr>\n",
       "    <tr>\n",
       "      <th>2</th>\n",
       "      <td>11.286571</td>\n",
       "      <td>8.660771</td>\n",
       "      <td>0.00000</td>\n",
       "      <td>0.426642</td>\n",
       "      <td>1.507200</td>\n",
       "      <td>26.000000</td>\n",
       "      <td>2.000000</td>\n",
       "      <td>2.964993</td>\n",
       "      <td>0.269143</td>\n",
       "      <td>23.333333</td>\n",
       "      <td>3.000000</td>\n",
       "      <td>1.441098</td>\n",
       "      <td>10.104233</td>\n",
       "      <td>2.363559</td>\n",
       "      <td>0.016495</td>\n",
       "      <td>2.163936</td>\n",
       "      <td>3.745368</td>\n",
       "      <td>2.550000</td>\n",
       "      <td>5.600000</td>\n",
       "      <td>1.114286</td>\n",
       "    </tr>\n",
       "    <tr>\n",
       "      <th>3</th>\n",
       "      <td>64.021000</td>\n",
       "      <td>20.466797</td>\n",
       "      <td>0.00000</td>\n",
       "      <td>0.770569</td>\n",
       "      <td>0.920000</td>\n",
       "      <td>14.000000</td>\n",
       "      <td>6.000000</td>\n",
       "      <td>3.259628</td>\n",
       "      <td>0.562727</td>\n",
       "      <td>14.666667</td>\n",
       "      <td>12.000000</td>\n",
       "      <td>3.873990</td>\n",
       "      <td>40.933595</td>\n",
       "      <td>2.734978</td>\n",
       "      <td>0.012215</td>\n",
       "      <td>5.194114</td>\n",
       "      <td>3.750609</td>\n",
       "      <td>2.143333</td>\n",
       "      <td>1.634895</td>\n",
       "      <td>0.954545</td>\n",
       "    </tr>\n",
       "    <tr>\n",
       "      <th>4</th>\n",
       "      <td>47.442000</td>\n",
       "      <td>19.793225</td>\n",
       "      <td>0.00000</td>\n",
       "      <td>0.677782</td>\n",
       "      <td>1.032000</td>\n",
       "      <td>18.000000</td>\n",
       "      <td>6.000000</td>\n",
       "      <td>3.440928</td>\n",
       "      <td>0.424444</td>\n",
       "      <td>18.000000</td>\n",
       "      <td>12.000000</td>\n",
       "      <td>3.825943</td>\n",
       "      <td>39.586450</td>\n",
       "      <td>2.671479</td>\n",
       "      <td>0.012631</td>\n",
       "      <td>3.980020</td>\n",
       "      <td>3.805264</td>\n",
       "      <td>2.373333</td>\n",
       "      <td>2.431414</td>\n",
       "      <td>1.000000</td>\n",
       "    </tr>\n",
       "  </tbody>\n",
       "</table>\n",
       "</div>"
      ],
      "text/plain": [
       "   vol per atom  std Li neighbor count  std Li bond ionicity  \\\n",
       "0     22.274394              21.223614               0.92157   \n",
       "1     11.795200              13.011621               0.00000   \n",
       "2     11.286571               8.660771               0.00000   \n",
       "3     64.021000              20.466797               0.00000   \n",
       "4     47.442000              19.793225               0.00000   \n",
       "\n",
       "   Li bond ionicity  Li neighbor count  Li-Li bonds per Li  \\\n",
       "0          0.649584           1.185133           11.208333   \n",
       "1          0.686661           1.607742           17.000000   \n",
       "2          0.426642           1.507200           26.000000   \n",
       "3          0.770569           0.920000           14.000000   \n",
       "4          0.677782           1.032000           18.000000   \n",
       "\n",
       "   sublattice bond ionicity  sublattice neighbor count  \\\n",
       "0                  3.583333                   3.164090   \n",
       "1                  3.000000                   3.160305   \n",
       "2                  2.000000                   2.964993   \n",
       "3                  6.000000                   3.259628   \n",
       "4                  6.000000                   3.440928   \n",
       "\n",
       "   anion framework coordination  min anion-anion sep dist  vol per anion  \\\n",
       "0                      0.713032                 10.623377       9.901639   \n",
       "1                      0.507073                 20.500000      10.500000   \n",
       "2                      0.269143                 23.333333       3.000000   \n",
       "3                      0.562727                 14.666667      12.000000   \n",
       "4                      0.424444                 18.000000      12.000000   \n",
       "\n",
       "   min Li-anion sep dist  min Li-Li sep dist  sublattice electronegativity  \\\n",
       "0               3.841740           43.491012                      2.441639   \n",
       "1               3.529253           32.529053                      2.081866   \n",
       "2               1.441098           10.104233                      2.363559   \n",
       "3               3.873990           40.933595                      2.734978   \n",
       "4               3.825943           39.586450                      2.671479   \n",
       "\n",
       "   full packing fraction  sublattice packing fraction  \\\n",
       "0               0.018093                     1.742711   \n",
       "1               0.015371                     1.505264   \n",
       "2               0.016495                     2.163936   \n",
       "3               0.012215                     5.194114   \n",
       "4               0.012631                     3.980020   \n",
       "\n",
       "   straight line path width  straight line path electronegativity  \\\n",
       "0                  3.217922                              2.498961   \n",
       "1                  2.804930                              2.795000   \n",
       "2                  3.745368                              2.550000   \n",
       "3                  3.750609                              2.143333   \n",
       "4                  3.805264                              2.373333   \n",
       "\n",
       "   ratio of 4 and 7  ratio of 5 and 8  \n",
       "0          1.662104          1.055063  \n",
       "1          3.170631          0.829268  \n",
       "2          5.600000          1.114286  \n",
       "3          1.634895          0.954545  \n",
       "4          2.431414          1.000000  "
      ]
     },
     "execution_count": 72,
     "metadata": {},
     "output_type": "execute_result"
    }
   ],
   "source": [
    "data.head()"
   ]
  },
  {
   "cell_type": "code",
   "execution_count": 25,
   "metadata": {},
   "outputs": [],
   "source": [
    "d = {'egap': [1.920, 1.987, 5.648, 4.006], 'mp': ['mp-867695','mp-753195', 'mp-675926', 'mp-23856']}\n",
    "df = pd.DataFrame(data=d)"
   ]
  },
  {
   "cell_type": "code",
   "execution_count": 29,
   "metadata": {},
   "outputs": [
    {
     "data": {
      "text/html": [
       "<div>\n",
       "<style scoped>\n",
       "    .dataframe tbody tr th:only-of-type {\n",
       "        vertical-align: middle;\n",
       "    }\n",
       "\n",
       "    .dataframe tbody tr th {\n",
       "        vertical-align: top;\n",
       "    }\n",
       "\n",
       "    .dataframe thead th {\n",
       "        text-align: right;\n",
       "    }\n",
       "</style>\n",
       "<table border=\"1\" class=\"dataframe\">\n",
       "  <thead>\n",
       "    <tr style=\"text-align: right;\">\n",
       "      <th></th>\n",
       "      <th>egap</th>\n",
       "      <th>mp</th>\n",
       "      <th>egapg0w0</th>\n",
       "      <th>egapexp</th>\n",
       "      <th>ehull</th>\n",
       "    </tr>\n",
       "  </thead>\n",
       "  <tbody>\n",
       "    <tr>\n",
       "      <th>0</th>\n",
       "      <td>1.920</td>\n",
       "      <td>mp-867695</td>\n",
       "      <td>3.511360</td>\n",
       "      <td>3.518337</td>\n",
       "      <td>0.037</td>\n",
       "    </tr>\n",
       "    <tr>\n",
       "      <th>1</th>\n",
       "      <td>1.987</td>\n",
       "      <td>mp-753195</td>\n",
       "      <td>3.602346</td>\n",
       "      <td>3.609141</td>\n",
       "      <td>0.032</td>\n",
       "    </tr>\n",
       "    <tr>\n",
       "      <th>2</th>\n",
       "      <td>5.648</td>\n",
       "      <td>mp-675926</td>\n",
       "      <td>8.573984</td>\n",
       "      <td>8.570836</td>\n",
       "      <td>0.071</td>\n",
       "    </tr>\n",
       "    <tr>\n",
       "      <th>3</th>\n",
       "      <td>4.006</td>\n",
       "      <td>mp-23856</td>\n",
       "      <td>6.344148</td>\n",
       "      <td>6.345460</td>\n",
       "      <td>0.000</td>\n",
       "    </tr>\n",
       "  </tbody>\n",
       "</table>\n",
       "</div>"
      ],
      "text/plain": [
       "    egap         mp  egapg0w0   egapexp  ehull\n",
       "0  1.920  mp-867695  3.511360  3.518337  0.037\n",
       "1  1.987  mp-753195  3.602346  3.609141  0.032\n",
       "2  5.648  mp-675926  8.573984  8.570836  0.071\n",
       "3  4.006   mp-23856  6.344148  6.345460  0.000"
      ]
     },
     "execution_count": 29,
     "metadata": {},
     "output_type": "execute_result"
    }
   ],
   "source": [
    "df['egapg0w0'] = df['egap'] * 1.358 + 0.904\n",
    "df['egapexp'] = df['egapg0w0'] * 0.998 + 0.014\n",
    "df['ehull'] = [0.037,0.032,0.071,0]\n",
    "df.head()"
   ]
  },
  {
   "cell_type": "code",
   "execution_count": null,
   "metadata": {},
   "outputs": [],
   "source": []
  }
 ],
 "metadata": {
  "kernelspec": {
   "display_name": "Python 3",
   "language": "python",
   "name": "python3"
  },
  "language_info": {
   "codemirror_mode": {
    "name": "ipython",
    "version": 3
   },
   "file_extension": ".py",
   "mimetype": "text/x-python",
   "name": "python",
   "nbconvert_exporter": "python",
   "pygments_lexer": "ipython3",
   "version": "3.6.4"
  }
 },
 "nbformat": 4,
 "nbformat_minor": 2
}
