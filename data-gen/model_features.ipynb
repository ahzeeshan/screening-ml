{
 "cells": [
  {
   "cell_type": "code",
   "execution_count": 1,
   "metadata": {},
   "outputs": [
    {
     "name": "stdout",
     "output_type": "stream",
     "text": [
      "Once deleted, variables cannot be recovered. Proceed (y/[n])? y\n"
     ]
    }
   ],
   "source": [
    "%reset"
   ]
  },
  {
   "cell_type": "code",
   "execution_count": 2,
   "metadata": {},
   "outputs": [],
   "source": [
    "import warnings\n",
    "warnings.filterwarnings('ignore')\n",
    "from sklearn.datasets import load_iris\n",
    "from matplotlib import pyplot as plt\n",
    "from sklearn.svm import SVC\n",
    "from sklearn.model_selection import GridSearchCV, cross_val_score, KFold\n",
    "import numpy as np\n",
    "from sklearn import linear_model\n",
    "import scipy.io as spio\n",
    "from sklearn.multioutput import MultiOutputRegressor\n",
    "from sklearn import preprocessing\n",
    "from sklearn.pipeline import Pipeline\n",
    "from sklearn.ensemble import AdaBoostRegressor, GradientBoostingRegressor, RandomForestRegressor\n",
    "from sklearn.tree import DecisionTreeRegressor\n",
    "from sklearn.svm import SVR\n",
    "from sklearn.kernel_ridge import KernelRidge\n",
    "from sklearn.gaussian_process import GaussianProcessRegressor, kernels\n",
    "import shelve\n",
    "import pandas as pd"
   ]
  },
  {
   "cell_type": "code",
   "execution_count": 5,
   "metadata": {},
   "outputs": [
    {
     "data": {
      "text/plain": [
       "(170, 17)"
      ]
     },
     "execution_count": 5,
     "metadata": {},
     "output_type": "execute_result"
    }
   ],
   "source": [
    "lattice = 'cubic'\n",
    "column_names = ['avg atomic mass','vol per atom','std Li neighbor count','std Li bond ionicity','Li bond ionicity','Li neighbor count','Li-Li bonds per Li','avg Li bond length','sublattice bond ionicity','sublattice neighbor count','anion framework coordination','min anion-anion sep dist','vol per anion','min Li-anion sep dist','Li number conc','mass density','min Li-Li sep dist','sublattice electronegativity','RBI','RNB']\n",
    "coeff=0\n",
    "data = spio.loadmat(lattice+'-data-posd-features.mat')\n",
    "xdatadf = pd.DataFrame(data['xdata'], columns = column_names)\n",
    "#column_names_old = ['avg atomic mass','vol per atom','std Li neighbor count','std Li bond ionicity','Li bond ionicity','Li neighbor count','Li-Li bonds per Li','avg Li bond length','sublattice bond ionicity','sublattice neighbor count','anion framework coordination','min anion-anion sep dist','vol per anion','min Li-anion sep dist','Li number conc','mass density','min Li-Li sep dist','sublattice electronegativity','RBI','RNB']\n",
    "column_names_for_ml = ['vol per atom','std Li neighbor count','std Li bond ionicity','Li bond ionicity','Li neighbor count','Li-Li bonds per Li','sublattice bond ionicity','sublattice neighbor count','anion framework coordination','min anion-anion sep dist','vol per anion','min Li-anion sep dist','mass density','min Li-Li sep dist','sublattice electronegativity','RBI','RNB']\n",
    "X = xdatadf[column_names_for_ml].values\n",
    "#X = np.hstack((xdatadf.values[:,:16],xdatadf.values[:,18:]))\n",
    "y = data['ydata'][:,coeff]\n",
    "X.shape"
   ]
  },
  {
   "cell_type": "code",
   "execution_count": 188,
   "metadata": {},
   "outputs": [
    {
     "name": "stdout",
     "output_type": "stream",
     "text": [
      "[14.727705  0.        0.630593  1.04     18.        6.        0.288889\n",
      " 18.        8.        2.751377 19.63694   2.751377 16.691922  3.891034\n",
      "  2.28      3.6       1.      ]\n"
     ]
    },
    {
     "data": {
      "text/plain": [
       "array(['mp-976334', 'mp-861936', 'mp-861931', 'mp-867226', 'mp-30765 ',\n",
       "       'mp-23259 ', 'mp-11248 ', 'mp-1646  ', 'mp-23222 ', 'mp-976023',\n",
       "       'mp-976256', 'mp-22905 ', 'mp-934   ', 'mp-1138  ', 'mp-11489 ',\n",
       "       'mp-1934  ', 'mp-1437  ', 'mp-2012  ', 'mp-30764 ', 'mp-567395',\n",
       "       'mp-569849', 'mp-11644 ', 'mp-10890 ', 'mp-23703 ', 'mp-2743  ',\n",
       "       'mp-22899 ', 'mp-2286  ', 'mp-1153  ', 'mp-755309', 'mp-865868',\n",
       "       'mp-865866', 'mp-861629', 'mp-862297', 'mp-867196', 'mp-16349 ',\n",
       "       'mp-865912', 'mp-867927', 'mp-865793', 'mp-867834', 'mp-865444',\n",
       "       'mp-867253', 'mp-542435', 'mp-3201  ', 'mp-865231', 'mp-10180 ',\n",
       "       'mp-31168 ', 'mp-5920  ', 'mp-862657', 'mp-864598', 'mp-861616',\n",
       "       'mp-862316', 'mp-16271 ', 'mp-12558 ', 'mp-864631', 'mp-7575  ',\n",
       "       'mp-3887  ', 'mp-13944 ', 'mp-21026 ', 'mp-11947 ', 'mp-11512 ',\n",
       "       'mp-862321', 'mp-861896', 'mp-864930', 'mp-21029 ', 'mp-12411 ',\n",
       "       'mp-861666', 'mp-865872', 'mp-861901', 'mp-865582', 'mp-865795',\n",
       "       'mp-862555', 'mp-867924', 'mp-865935', 'mp-760375', 'mp-862290',\n",
       "       'mp-30820 ', 'mp-9472  ', 'mp-3158  ', 'mp-862815', 'mp-864630',\n",
       "       'mp-12564 ', 'mp-867250', 'mp-30758 ', 'mp-867251', 'mp-864597',\n",
       "       'mp-864601', 'mp-861658', 'mp-4604  ', 'mp-570213', 'mp-30404 ',\n",
       "       'mp-30405 ', 'mp-867148', 'mp-867272', 'mp-30648 ', 'mp-863727',\n",
       "       'mp-865924', 'mp-30763 ', 'mp-866194', 'mp-865893', 'mp-865986',\n",
       "       'mp-864614', 'mp-14753 ', 'mp-862684', 'mp-863659', 'mp-11490 ',\n",
       "       'mp-29633 ', 'mp-30817 ', 'mp-867119', 'mp-30816 ', 'mp-861875',\n",
       "       'mp-867206', 'mp-861905', 'mp-16343 ', 'mp-20265 ', 'mp-865731',\n",
       "       'mp-12580 ', 'mp-3161  ', 'mp-867222', 'mp-865936', 'mp-10181 ',\n",
       "       'mp-9124  ', 'mp-16238 ', 'mp-867829', 'mp-13914 ', 'mp-30821 ',\n",
       "       'mp-861625', 'mp-867258', 'mp-867252', 'mp-862610', 'mp-862737',\n",
       "       'mp-867293', 'mp-864997', 'mp-861733', 'mp-14476 ', 'mp-672340',\n",
       "       'mp-862717', 'mp-862632', 'mp-864762', 'mp-865863', 'mp-865870',\n",
       "       'mp-862318', 'mp-867121', 'mp-2987  ', 'mp-10182 ', 'mp-13915 ',\n",
       "       'mp-14827 ', 'mp-15988 ', 'mp-20363 ', 'mp-25385 ', 'mp-30818 ',\n",
       "       'mp-30819 ', 'mp-30591 ', 'mp-35841 ', 'mp-36111 ', 'mp-3726  ',\n",
       "       'mp-37906 ', 'mp-5077  ', 'mp-530399', 'mp-5670  ', 'mp-567097',\n",
       "       'mp-7473  ', 'mp-759877', 'mp-765966', 'mp-5515  ', 'mp-989579',\n",
       "       'mp-989512', 'mp-11806 ', 'mp-570379', 'mp-567652', 'mp-989405'],\n",
       "      dtype='<U9')"
      ]
     },
     "execution_count": 188,
     "metadata": {},
     "output_type": "execute_result"
    }
   ],
   "source": [
    "print(X[2,:])\n",
    "data['mps']"
   ]
  },
  {
   "cell_type": "code",
   "execution_count": 189,
   "metadata": {},
   "outputs": [
    {
     "data": {
      "text/plain": [
       "array([[14.929776,  0.      ,  0.444402, ...,  1.9     ,  0.5     ,\n",
       "         1.      ],\n",
       "       [14.847659,  0.      ,  0.591787, ...,  2.2     ,  3.6     ,\n",
       "         1.      ],\n",
       "       [14.727705,  0.      ,  0.630593, ...,  2.28    ,  3.6     ,\n",
       "         1.      ],\n",
       "       ...,\n",
       "       [29.043597,  0.      ,  0.      , ...,  2.423333,  1.662119,\n",
       "         0.473684],\n",
       "       [29.899182,  0.      ,  0.      , ...,  2.417778,  1.655476,\n",
       "         0.473684],\n",
       "       [34.124211,  0.      ,  0.      , ...,  2.346667,  1.733641,\n",
       "         0.473684]])"
      ]
     },
     "execution_count": 189,
     "metadata": {},
     "output_type": "execute_result"
    }
   ],
   "source": [
    "X"
   ]
  },
  {
   "cell_type": "code",
   "execution_count": 3,
   "metadata": {},
   "outputs": [],
   "source": [
    "models_and_parameters = {\n",
    "  'lasso': (linear_model.Lasso(),\n",
    "              {'reg__alpha': [0.01, 0.1, 0.5, 1.,5.,10.]}),\n",
    "    'elnet': (linear_model.ElasticNet(),\n",
    "              {'reg__alpha':[0.01, 0.1, 0.5, 1, 5., 10.], 'reg__l1_ratio':[0.,0.1,0.5,1.,2.1]}),\n",
    "    'krg': (KernelRidge(),\n",
    "            {'reg__kernel':['rbf','linear'], 'reg__alpha': [1e0, 0.1, 1e-2, 1e-3], 'reg__gamma': np.logspace(-2, 2, 5)}),\n",
    "    'gpr': (GaussianProcessRegressor(kernel = kernels.RBF()),\n",
    "            {'reg__kernel__length_scale':[0.01, 0.1, 1., 2., 10., 100.], 'reg__kernel__length_scale_bounds':[(1e-2,1.),(1e-1,1.),(1e-1,10.),(1.,10.),(1.,100.)\\\n",
    ",(1e-2,1e2)]}),\n",
    "    'gbr': (GradientBoostingRegressor(learning_rate=0.01, min_samples_split=2, max_features='sqrt', loss='ls', subsample=0.4),\n",
    "            {'reg__max_depth': [2,3,4,10,20,50],'reg__min_samples_leaf': [2,3,4,10], 'reg__learning_rate':[0.01, 0.1], 'reg__max_features':['auto', 'sqrt', 'l\\\n",
    "og2']}),\n",
    "    'ada': (AdaBoostRegressor(base_estimator=DecisionTreeRegressor(),n_estimators=500,learning_rate=0.01),#max_depth alone doesn't work probably               \n",
    "            {'reg__base_estimator__max_depth': [2,3,4,10], 'reg__base_estimator':[DecisionTreeRegressor(max_depth = 4, max_features='auto'),\n",
    "                                                                                    DecisionTreeRegressor(max_depth = None, max_features='auto'),\n",
    "                                                                                    DecisionTreeRegressor(max_depth = 4, max_features='sqrt'),\n",
    "                                                                                     DecisionTreeRegressor(max_depth = None, max_features='sqrt')]}),\n",
    "    'svr': (SVR(),\n",
    "            {'reg__C': [0.01, 0.05, 0.1, 1], 'reg__kernel': ['linear', 'rbf']}),\n",
    "    'rf': (RandomForestRegressor(),\n",
    "           {'reg__max_depth': [None, 5, 10, 50]}),\n",
    "    'brg': (linear_model.BayesianRidge(fit_intercept=True),\n",
    "            {'reg__alpha_1': [1.e-6, 1.e-5]}),\n",
    "    'lars': (linear_model.Lars(fit_intercept = True, normalize=False),\n",
    "             {'reg__n_nonzero_coefs': [5, 10, 50, 500, np.inf]}),\n",
    "    'ard': (linear_model.ARDRegression(),\n",
    "            {'reg__alpha_1':[1.e-6, 1.e-5]})}"
   ]
  },
  {
   "cell_type": "code",
   "execution_count": 191,
   "metadata": {},
   "outputs": [],
   "source": [
    "scaler = preprocessing.StandardScaler()\n",
    "inner_cv = KFold(n_splits=3, shuffle=True)\n",
    "outer_cv = KFold(n_splits=3, shuffle=True)"
   ]
  },
  {
   "cell_type": "code",
   "execution_count": 135,
   "metadata": {},
   "outputs": [
    {
     "name": "stdout",
     "output_type": "stream",
     "text": [
      "[ 46. 154. 258.  30. 303.  37. 119.  33.  39.  33.  24.  54.  45. 125.\n",
      "  40.  56.  41.  44. 198.  41.  47.  25. 135.  84.  93.  36.  66.  83.\n",
      "  30. 192. 147. 131. 222.  70. 140. 112. 356. 131. 149. 131. 131. 216.\n",
      "  77.  64.  78.  56. 121. 144.  65. 153. 293.  45.  93. 247. 271. 242.\n",
      " 268.  76.  81. 163. 118.  73. 290.  67.  77. 340. 192.  95.  55. 140.\n",
      "  78.  99.  39.  32. 188. 109.  72.  93.  83.  51.  62.  88.  40. 109.\n",
      "  46.  91. 142. 220.  54.  60.  69. 227. 108.  52. 241. 109.  93.  35.\n",
      " 176.  66.  91. 212. 211.  66.  44. 128. 127. 134.  85. 211.  86.  83.\n",
      "  81.  91.  55.  47. 130.  74. 130. 159. 101.  55. 295. 243. 152.  69.\n",
      " 147.  99. 248. 104. 301. 155. 102. 152. 125. 113.  43.  56.  55. 213.\n",
      " 136. 113.  33. 128. 115. 209.  74. 105. 147. 113. 153.  69.  84. 112.\n",
      "  99. 259.  49. 302. 193. 103. 125.  62.  63. 213.  32.  33. 112.  27.\n",
      "  26.  25.]\n",
      "[  41.83500736  158.8101074   228.45511614   20.50813582  307.31385439\n",
      "   22.19852106  185.85873298   41.97008266   33.23446097   26.80942897\n",
      "   -0.47965346   63.4478077    27.64961899  107.7895408    43.0371366\n",
      "   88.73053739   43.31292785   60.12646617  171.39297922   41.\n",
      "   64.36463241   19.1141087   127.97229357  114.75652756  113.0831947\n",
      "   10.03091118   71.44526581   89.50643752   36.5483865   163.70089174\n",
      "  187.47017799  162.75300926  173.47425681  117.43271499  115.77037868\n",
      "  126.46478435  230.90168777  113.6898255   216.77262336  131.7470826\n",
      "  149.28963714  -76.11987652  -12.15548679   90.33028494  -25.9367013\n",
      "  -34.45548348  131.6790987   157.06841763  101.86245291  132.18892925\n",
      "  251.29983169   47.89394478  138.48506063  164.87875562  145.0924588\n",
      " -117.49815511 -250.3248401    -1.78586148  123.84007208  132.06867349\n",
      "  122.66497764  127.06332377  219.61973262  -25.23796143  -24.07425217\n",
      "  128.02104734  143.95613556  152.12141084   72.9969269   112.80400521\n",
      "  111.92471896  140.30819142   43.32995173   62.48593696  168.49983071\n",
      "  -10.92569651   89.45768004   -3.65676967  157.70122825  119.38458724\n",
      "  106.28939013  121.81862921   56.50356577  146.92864792   78.37525014\n",
      "  113.81853935  216.26509514 -345.72664744  123.41501395  -23.02300016\n",
      "  -17.05868802  193.40993038  154.23218334   92.10517805  172.20774163\n",
      "  162.7314595   103.94145217   38.94487781  126.44285277   48.03904794\n",
      "  133.40456832  -35.89708406  193.98188431  125.34389538   52.10454594\n",
      "  142.91689744  105.30136691  175.05132796  -18.5045318   186.5145231\n",
      "  137.83340002  114.19095277  112.19372406  129.79393927   90.25993618\n",
      "   50.55576787  124.10128568  145.67194211  105.95028434   65.08651742\n",
      "  146.15218569  -40.93738232  180.80029658   17.41530368  109.69800953\n",
      "  129.61755131  167.59176068  118.27831033  233.92401074  134.2233698\n",
      "   10.54187604  154.40617897  104.69928744  -60.92332259  112.38117792\n",
      "  176.32181628  124.67644268   88.57247237   89.47111622  151.18545138\n",
      "   98.8909174   148.43545551   53.81670638  153.74369394  102.86953995\n",
      " -112.31729605  -29.13609014  133.27309604  -36.83506997   10.24332095\n",
      "  131.31512985  -26.311093    -11.01478445  142.04443965   14.71418001\n",
      "  124.52779342   47.4598621   108.45964685  -12.28847432  102.48615757\n",
      "  234.15266929   -3.85104391  353.95823466 -362.4324953   318.65528614\n",
      "  331.46469413  135.53421343  316.71965283  307.45961664  297.05206493]\n",
      "[0.53708302 0.34003338 0.6446563 ]\n"
     ]
    }
   ],
   "source": [
    "model = linear_model.LinearRegression()\n",
    "model.fit(X[:40,:],y[:40])\n",
    "model.coef_\n",
    "print(y)\n",
    "print(model.predict(X))\n",
    "print(cross_val_score(model, X=X, y=y, scoring='r2',cv=outer_cv))"
   ]
  },
  {
   "cell_type": "code",
   "execution_count": 192,
   "metadata": {},
   "outputs": [],
   "source": [
    "model = GradientBoostingRegressor(n_estimators = 500, learning_rate=0.01, min_samples_split=2, max_features='sqrt', loss='ls', subsample=0.4)\n",
    "params = {'reg__max_depth': [None,2,5,100],'reg__max_features':['auto','sqrt','log2'],'reg__min_samples_split':[2,3,4],'reg__min_samples_leaf':[2,3,4]}\n",
    "params = {'reg__base_estimator__max_depth': [None,2,4,10,100],\n",
    "            'reg__base_estimator__max_features':['auto','sqrt','log2',None],\n",
    "            'reg__base_estimator__min_samples_split':[2,3,4],\n",
    "            'reg__base_estimator__min_samples_leaf': [1,2,3,4]}\n",
    "#params = models_and_parameters['gbr'][1]\n",
    "params = {'reg__max_depth': [2,3,4,10,20,50],\n",
    "            'reg__min_samples_leaf': [2,3,4,10], \n",
    "            'reg__learning_rate':[0.01, 0.1], \n",
    "            'reg__max_features':['auto', 'sqrt', 'log2'],\n",
    "            'reg__min_samples_split':[2,3,4],\n",
    "             'reg__max_features':[0.3,0.4,0.5,1.0]}\n",
    "#params = {'reg__base_estimator':[DecisionTreeRegressor(max_depth = 4, max_features='auto'),\n",
    "#                                DecisionTreeRegressor(max_depth = None, max_features='auto'),\n",
    "#                                DecisionTreeRegressor(max_depth = 4, max_features='sqrt'),\n",
    "#                                DecisionTreeRegressor(max_depth = None, max_features='sqrt')]}\n",
    "pipeline = Pipeline([('transformer', scaler), ('reg', model)])"
   ]
  },
  {
   "cell_type": "code",
   "execution_count": 193,
   "metadata": {},
   "outputs": [],
   "source": [
    "reg1 = GridSearchCV(estimator=pipeline, param_grid=params, cv=inner_cv, n_jobs=-1)"
   ]
  },
  {
   "cell_type": "code",
   "execution_count": 195,
   "metadata": {},
   "outputs": [
    {
     "data": {
      "text/plain": [
       "GridSearchCV(cv=KFold(n_splits=3, random_state=None, shuffle=True),\n",
       "       error_score='raise',\n",
       "       estimator=Pipeline(memory=None,\n",
       "     steps=[('transformer', StandardScaler(copy=True, with_mean=True, with_std=True)), ('reg', GradientBoostingRegressor(alpha=0.9, criterion='friedman_mse', init=None,\n",
       "             learning_rate=0.01, loss='ls', max_depth=3,\n",
       "             max_features='sqrt', max_leaf_nodes=None,\n",
       "             min_impurit...       presort='auto', random_state=None, subsample=0.4, verbose=0,\n",
       "             warm_start=False))]),\n",
       "       fit_params=None, iid=True, n_jobs=-1,\n",
       "       param_grid={'reg__max_depth': [2, 3, 4, 10, 20, 50], 'reg__min_samples_leaf': [2, 3, 4, 10], 'reg__learning_rate': [0.01, 0.1], 'reg__max_features': [0.3, 0.4, 0.5, 1.0], 'reg__min_samples_split': [2, 3, 4]},\n",
       "       pre_dispatch='2*n_jobs', refit=True, return_train_score='warn',\n",
       "       scoring=None, verbose=0)"
      ]
     },
     "execution_count": 195,
     "metadata": {},
     "output_type": "execute_result"
    }
   ],
   "source": [
    "reg1"
   ]
  },
  {
   "cell_type": "code",
   "execution_count": 46,
   "metadata": {},
   "outputs": [],
   "source": [
    "#don't run\n",
    "model=AdaBoostRegressor(base_estimator=DecisionTreeRegressor(max_depth=100,\n",
    "                                                            max_features='log2',\n",
    "                                                            min_samples_leaf= 3,\n",
    "                                                            min_samples_split= 3))\n",
    "pipeline = Pipeline([('transformer', scaler), ('reg', model)])\n",
    "reg1 = Pipeline([('transformer', scaler), ('reg', model)])\n",
    "#clf.fit(X,y)\n",
    "#clf.best_params_"
   ]
  },
  {
   "cell_type": "code",
   "execution_count": 196,
   "metadata": {},
   "outputs": [
    {
     "name": "stdout",
     "output_type": "stream",
     "text": [
      "[0.49873451 0.58343182 0.72444008]\n",
      "Cross-validation results:\n",
      "Folds: 3, mean r2: 0.602\n",
      "-17.278984687397603\n",
      "[ 46. 154. 258.  30. 303.  37. 119.  33.  39.  33.  24.  54.  45. 125.\n",
      "  40.  56.  41.  44. 198.  41.  47.  25. 135.  84.  93.  36.  66.  83.\n",
      "  30. 192. 147. 131. 222.  70. 140. 112. 356. 131. 149. 131. 131. 216.\n",
      "  77.  64.  78.  56. 121. 144.  65. 153. 293.  45.  93. 247. 271. 242.\n",
      " 268.  76.  81. 163. 118.  73. 290.  67.  77. 340. 192.  95.  55. 140.\n",
      "  78.  99.  39.  32. 188. 109.  72.  93.  83.  51.  62.  88.  40. 109.\n",
      "  46.  91. 142. 220.  54.  60.  69. 227. 108.  52. 241. 109.  93.  35.\n",
      " 176.  66.  91. 212. 211.  66.  44. 128. 127. 134.  85. 211.  86.  83.\n",
      "  81.  91.  55.  47. 130.  74. 130. 159. 101.  55. 295. 243. 152.  69.\n",
      " 147.  99. 248. 104. 301. 155. 102. 152. 125. 113.  43.  56.  55. 213.\n",
      " 136. 113.  33. 128. 115. 209.  74. 105. 147. 113. 153.  69.  84. 112.\n",
      "  99. 259.  49. 302. 193. 103. 125.  62.  63. 213.  32.  33. 112.  27.\n",
      "  26.  25.]\n",
      "[ 49.45581813 151.89240649 247.23774525  35.74032217 265.87093623\n",
      "  51.80604101 166.65828239  44.84926827  37.02692758  43.12193364\n",
      "  24.16618471  62.74521251  53.25614903 117.24555366  52.98809035\n",
      "  72.65716822  33.56813635  61.31331438 185.29362912  45.88006081\n",
      "  54.26266601  30.21139411 111.43269701 135.64530412 114.37954437\n",
      "  39.89853583  66.50078343  72.7885213   41.36254861 160.27033932\n",
      " 157.37148296 154.67683734 222.24178781  89.92033265 138.90308604\n",
      " 125.65174798 318.85651436 119.28130835 171.20435902 128.46320614\n",
      " 153.04452568 213.90363268  80.333496    67.31253324  66.93438045\n",
      "  64.25778336 110.94702331 170.21388734  78.99516093 137.11492371\n",
      " 288.82315717  44.81926964  83.9342893  202.34726888 248.68587149\n",
      " 244.04615062 245.32025258  76.22402625  84.38682993 150.35225607\n",
      " 129.73207197  99.97253647 285.89062197  67.33808221  72.54326538\n",
      " 249.5824451  146.69765917 112.34314792  59.87763096 131.24678384\n",
      "  64.7721072   94.33180533  39.48287622  41.71209209 198.47457818\n",
      " 102.18874991  86.26371799  78.42274245 100.05659909  75.36530295\n",
      "  69.72758989  99.13196467  43.05936497 120.36277533  53.67836793\n",
      " 106.3570327  215.33095775 225.52027019  66.79247611  66.03593751\n",
      "  67.91224338 199.10931755 108.88081728  64.11783137 206.50780446\n",
      "  98.87771316  96.59401568  35.13453733 142.04520422  54.86126024\n",
      " 109.80529669 219.075758   208.13551579  77.35567346  55.49314682\n",
      " 126.77277718 108.95955858 125.92902697  79.63154429 212.08614758\n",
      " 109.05696538  84.61297558  73.07883767  96.15882376  70.59700026\n",
      "  44.1327036  117.24530973  76.07976379 125.39775745 200.53262817\n",
      " 106.06219412  55.62570676 258.73187362 241.60425084 145.37799263\n",
      "  84.89100178 152.94898955 114.4329663  242.21063281  91.69458834\n",
      " 248.57942448 154.00274518  90.60343165 162.7949977   97.57682445\n",
      " 131.21558481  55.38210237  85.99503517  62.47379069 171.78814866\n",
      " 121.75857164  97.37274436  35.37040416 112.12278408 122.20668425\n",
      " 213.11605009  68.10451503 110.57144246 162.4770834  104.89900419\n",
      " 127.98578835  68.88651844  99.77492065 106.89791253 100.04112266\n",
      " 239.59270643  41.02464027 253.67880086 176.81412043 117.9555554\n",
      " 121.39334846  80.57041118  83.97749703 222.67599256  29.93616633\n",
      "  33.44095173 113.09353976  26.75949476  25.57415052  30.65137618]\n"
     ]
    }
   ],
   "source": [
    "#One with GridSearch\n",
    "reg1.fit(X,y)\n",
    "print(reg1.best_params_)\n",
    "#scores=cross_val_score(reg1, X=X, y=y, scoring='neg_mean_squared_error',cv=outer_cv)\n",
    "r2scores=cross_val_score(reg1, X=X, y=y, scoring='r2',cv=outer_cv)\n",
    "#rmse_scores = [np.sqrt(abs(s)) for s in scores]\n",
    "#print(rmse_scores)\n",
    "print(r2scores)\n",
    "print('Cross-validation results:')\n",
    "#print('Folds: %i, mean RMSE: %.3f' % (len(scores), np.mean(np.abs(rmse_scores))))\n",
    "print('Folds: %i, mean r2: %.3f' % (len(r2scores), np.mean(r2scores)))\n",
    "#print(sum(y-reg1.predict(X)))\n",
    "print(y)\n",
    "print(reg1.predict(X))\n",
    "#print(y-reg1.predict(X))"
   ]
  },
  {
   "cell_type": "code",
   "execution_count": 153,
   "metadata": {},
   "outputs": [
    {
     "name": "stdout",
     "output_type": "stream",
     "text": [
      "[0.5816485  0.41169175 0.57618244]\n",
      "Cross-validation results:\n",
      "Folds: 3, mean r2: 0.523\n"
     ]
    }
   ],
   "source": [
    "reg1.fit(X,y)\n",
    "#print(reg1.best_params_)\n",
    "#scores=cross_val_score(reg1, X=X, y=y, scoring='neg_mean_squared_error',cv=outer_cv)\n",
    "r2scores=cross_val_score(reg1, X=X, y=y, scoring='r2',cv=outer_cv)\n",
    "#rmse_scores = [np.sqrt(abs(s)) for s in scores]\n",
    "#print(rmse_scores)\n",
    "print(r2scores)\n",
    "print('Cross-validation results:')\n",
    "#print('Folds: %i, mean RMSE: %.3f' % (len(scores), np.mean(np.abs(rmse_scores))))\n",
    "print('Folds: %i, mean r2: %.3f' % (len(r2scores), np.mean(r2scores)))"
   ]
  },
  {
   "cell_type": "code",
   "execution_count": 197,
   "metadata": {},
   "outputs": [
    {
     "name": "stdout",
     "output_type": "stream",
     "text": [
      "{'reg__learning_rate': 0.01, 'reg__max_depth': 4, 'reg__max_features': 0.5, 'reg__min_samples_leaf': 3, 'reg__min_samples_split': 4}\n"
     ]
    }
   ],
   "source": [
    "print(reg1.best_params_)"
   ]
  },
  {
   "cell_type": "code",
   "execution_count": 206,
   "metadata": {},
   "outputs": [
    {
     "data": {
      "text/plain": [
       "array([ 33.8453922 ,  37.07399672,  43.99159744,  73.53437393,\n",
       "        51.60859113,  51.2793827 ,  64.62747139,  53.65345552,\n",
       "       117.05036354,  44.07828877,  66.0747928 ,  32.96225783,\n",
       "        94.92319144,  86.11448027,  69.51150134,  99.10734388,\n",
       "        90.80815756,  68.76618   , 126.56837803,  36.25356039,\n",
       "        37.75394035,  39.68775279,  48.5944859 ,  19.16927433,\n",
       "        39.63464836,  96.53626306,  62.58453553,  42.93247377,\n",
       "        53.49511249,  47.41717618,  35.88041632,  96.47734928,\n",
       "        43.22148426, 194.78192007,  28.32795167,  44.86248824,\n",
       "        59.44192027,  39.67741693,  49.30888089,  63.97654699,\n",
       "        41.9315336 ,  42.1478234 , 111.05511609,  52.94897337,\n",
       "       137.28791272,  64.26719787,  45.69298222,  62.30621973,\n",
       "        66.582139  , 105.40653891,  58.54963764,  63.36398513,\n",
       "        57.64566935,  39.51113062,  95.92846106,  52.10582273,\n",
       "       164.47965987,  43.84591047, 134.47747658, 112.75350742,\n",
       "        78.34006169,  51.31209457, 114.87351082,  73.18871487,\n",
       "       164.12667809,  70.75243093, 116.71327465,  80.09054727,\n",
       "        83.58005507,  54.77486748,  53.37156405,  93.77522829,\n",
       "        67.80244658, 112.71830059,  97.74634088,  61.85997852,\n",
       "        64.35150518,  45.21763263, 148.39597748,  63.07035792,\n",
       "       128.00648878, 197.04486861, 177.83338809, 220.859895  ,\n",
       "        75.15358151,  69.73966366,  41.17391299,  45.69631319,\n",
       "       103.7135162 , 117.42442767, 219.9116622 ,  77.80063147,\n",
       "       127.68290439,  93.52890795, 193.96477145,  69.61000571,\n",
       "        71.17641589,  51.3671484 , 114.8709859 ,  47.51652266,\n",
       "       115.31373254,  47.64699286, 159.44073442, 153.61328071,\n",
       "       152.78414322,  85.53052981,  88.78005321,  83.87284503,\n",
       "        69.3937682 , 102.20567584,  97.04423465,  59.59469746,\n",
       "        91.06667445,  71.28139143,  72.70571035, 208.55768217,\n",
       "       147.79941189,  43.41244658, 116.94702491,  89.1303014 ,\n",
       "        45.38282943, 118.89380097, 113.37605517,  89.08832798,\n",
       "        70.54607827,  45.71004659,  59.89264303, 245.65065554,\n",
       "       119.85165188,  89.88916648,  60.0341198 ,  53.06522624,\n",
       "        85.13311424,  55.87148304,  43.69299063, 120.75293777,\n",
       "       196.60312014, 115.6079145 , 106.1538441 ,  43.14812389,\n",
       "        93.09569768, 115.86038393,  68.82227118, 271.38889271,\n",
       "        49.86928222,  53.95710902, 139.71631684,  39.82854118,\n",
       "        66.13208483,  81.00593052, 177.89499169,  83.22648305,\n",
       "        61.066222  ,  90.51164087,  69.59046644, 119.04484508,\n",
       "        60.38586878,  93.99145091,  80.66474297,  70.07759725,\n",
       "       112.676141  ,  71.5626692 , 217.41305089,  86.92431062,\n",
       "       118.11962049, 225.09014234,  50.21433701, 115.5013961 ,\n",
       "       137.4132186 ,  52.90105197, 127.48039975,  93.83621103,\n",
       "        87.01793123,  40.55707339, 105.95194205, 103.6244673 ,\n",
       "        41.63785504, 148.50596137,  35.00224322, 124.34373469,\n",
       "        96.94401211,  78.54811614,  46.9219467 ,  70.5770765 ,\n",
       "        98.04633309,  76.95925326,  66.10831412,  93.61425555,\n",
       "        94.83935354, 108.80411729,  83.6921065 ,  66.88453951,\n",
       "        51.53747783,  43.35603623,  63.20526022, 108.01266114,\n",
       "       104.84296187, 171.08945238,  66.05815289,  50.74324194,\n",
       "        34.94657411,  93.3748598 ,  55.05334502,  79.85799299,\n",
       "       103.44172243,  91.03538071,  90.49718901, 244.54198571,\n",
       "       118.1800478 ,  36.42668521,  63.41282773,  49.64242618,\n",
       "        39.70264573,  35.59863199,  67.49721502,  67.79060814,\n",
       "       111.91350394,  98.17723895, 157.63306224, 160.93394088,\n",
       "        53.40670095, 105.4831041 , 101.1440165 ,  86.38740488,\n",
       "        68.38164166,  82.52800445, 182.42853239, 106.59975621,\n",
       "        73.12979139, 118.1800478 , 112.49815401,  61.83302862,\n",
       "        51.35117393, 154.58521261, 164.69232322,  63.33998217,\n",
       "       103.96489835,  41.75525401,  69.4914339 ,  69.21005172,\n",
       "        72.78790505,  61.60621231, 114.93791966, 114.07737952,\n",
       "        51.46122634, 124.58304022, 193.70461456, 136.81006377,\n",
       "        46.61730631, 136.4635003 ,  60.42115645,  83.14874706,\n",
       "        95.61471001,  44.96756536,  50.68275501,  49.02475682,\n",
       "        82.91160206,  45.8586991 ,  38.9869726 ,  76.23068222,\n",
       "        92.64699023,  40.5418677 ,  92.91935907,  78.65578554,\n",
       "        86.13222069,  43.71870694, 113.51383425, 161.51314447,\n",
       "        51.91027443, 122.65145383,  53.51805239, 112.37837306,\n",
       "       101.58676887,  97.05315752, 168.85292035, 232.87681061,\n",
       "        48.32297683,  57.20568403,  58.15487516, 250.2911096 ,\n",
       "        71.13223022, 254.04168667,  65.26438874,  58.29118855,\n",
       "        93.42328937,  63.31554714, 104.83840743, 149.34611703,\n",
       "        58.39447458, 114.41379556, 121.86791137,  75.12025566,\n",
       "        41.94283747,  96.59406041, 129.39253194, 117.94364697,\n",
       "        66.22300749, 108.50689665,  49.45700872,  74.13766178,\n",
       "       205.99151316,  80.58855392,  72.81882185,  99.70116734,\n",
       "        90.09164515, 118.48534437, 101.72369508,  38.15442133,\n",
       "        75.38210928,  74.25011115, 117.94949486,  95.56179241,\n",
       "       107.1382328 ,  75.00944436,  49.44189979,  46.25633857,\n",
       "        44.46018931, 181.41684389,  43.11912987,  60.33175431,\n",
       "        72.07528411,  80.9635069 ,  68.62520256, 133.01069678,\n",
       "        67.53563892,  96.75574488,  70.25295711,  64.61994285,\n",
       "        57.69901286,  57.09828609,  65.95091161,  86.09678985,\n",
       "        84.55055284,  53.95805358,  51.43818255, 135.95712645,\n",
       "        77.49410508, 137.21113232, 240.28088806, 119.29302445,\n",
       "        92.60301886,  81.51629784,  81.71002066,  51.53747783,\n",
       "        83.79508036,  70.5894903 , 232.19807987, 111.51978735,\n",
       "       234.54507642,  58.88167646,  87.32706462, 100.51282664,\n",
       "        91.42219002, 102.30329749, 120.85613365, 119.67272579,\n",
       "       103.52590555, 104.9202071 , 113.15029387, 116.39365872,\n",
       "       159.49759518, 186.35777418, 128.98489736, 165.4023186 ,\n",
       "       294.7699792 ,  78.17095252, 175.49089359,  57.71863171,\n",
       "        66.46120907, 164.77588419, 129.35478878, 112.74868326,\n",
       "       232.18763123, 118.63081954, 100.13741398,  99.77926642,\n",
       "       143.2485327 , 139.95000296, 148.02397117, 116.68587153,\n",
       "       133.22309093,  55.56073745, 130.68305608, 141.48513963,\n",
       "       151.20940966, 122.50201269, 222.57319531, 145.24800103,\n",
       "       156.01677285, 104.13530049,  99.96736619,  63.15787213,\n",
       "       203.01498393, 168.55082803, 174.69590214, 163.9140328 ,\n",
       "       162.35358991,  96.62754934, 219.08709527, 191.27939972,\n",
       "        61.62322286, 196.69669634, 155.28039509, 139.20571744,\n",
       "       180.3007667 , 137.60967851, 173.73684062, 184.45005897,\n",
       "       183.63936383, 154.00583806, 138.35060743,  42.28574683,\n",
       "       139.9962095 , 138.04169096, 128.89606954, 136.76617872,\n",
       "       144.43745137,  87.0054032 , 136.53563682, 228.04669378,\n",
       "        86.85597546, 143.75465422, 124.63630352, 143.96523752,\n",
       "       146.15056273, 228.2205407 , 179.55627053, 134.69196849,\n",
       "       160.7835194 , 136.96655755, 156.68677556, 153.56101079,\n",
       "        56.43203809, 109.89560403, 132.14410624, 133.55462852,\n",
       "       153.12839963, 151.87527501, 106.43842345, 116.89957907,\n",
       "       127.19532799, 100.32166263,  63.70011974,  28.85587599,\n",
       "       144.46188152, 146.77164189, 164.84488931, 135.35176307,\n",
       "        53.39532992, 129.98575186, 188.21667431, 140.33953916,\n",
       "       192.76697488, 156.13182748, 152.931904  , 191.88965138,\n",
       "       135.74284387, 192.50455356, 192.59031401, 151.76294792,\n",
       "        79.78129926, 172.47458821,  49.99551793, 172.78073892,\n",
       "       170.66837756,  66.36481136,  71.99961122, 120.22825622,\n",
       "       169.29752132, 146.79812415, 158.18341428, 106.81549547,\n",
       "       198.95933385, 138.25708485,  81.00885178, 109.44345834,\n",
       "        99.45509193, 140.27554731, 182.62004806,  49.32594565,\n",
       "        49.006469  ,  47.26454063, 190.10763726, 187.29883714,\n",
       "       172.06723318, 151.0089096 , 175.29089121, 167.47947235,\n",
       "       177.97507587, 185.50003937, 131.43123016, 163.03076682,\n",
       "       159.09018134, 124.63096409, 123.89521338, 184.58204766,\n",
       "       167.56818286, 109.33602951, 186.74995208, 164.31109914,\n",
       "       164.85621119, 171.88718917, 175.90502805, 120.16942864,\n",
       "       122.42127403,  46.10352046, 139.36919885,  96.62612424,\n",
       "       173.75663414, 139.01933911, 159.31451011, 124.91373346,\n",
       "        44.85974002, 185.91783554, 151.8022328 , 179.42640608,\n",
       "       184.079035  ,  75.16102665, 109.92176768,  37.09360355,\n",
       "       236.85916508, 112.57016546, 170.43008768, 113.74395695,\n",
       "       117.64664115, 156.94693959, 174.02452522, 179.03337725,\n",
       "       139.59057735, 161.28770047, 161.36366729, 133.48490358,\n",
       "        45.81224072, 144.84690654, 145.637625  ,  43.95352061,\n",
       "       114.14097075, 124.59920632,  42.35017998, 150.4979208 ,\n",
       "       137.61718344, 129.78593722, 112.07464781, 100.65044087,\n",
       "       184.94527768, 160.8225736 , 185.24892932, 197.47144625])"
      ]
     },
     "execution_count": 206,
     "metadata": {},
     "output_type": "execute_result"
    }
   ],
   "source": [
    "ntdata = spio.loadmat(lattice+'-non-training-data-features.mat')\n",
    "#Xnt=np.delete(Xnt,18,axis=1)\n",
    "Xntdatadf = pd.DataFrame(ntdata['xntdata'],columns = column_names)\n",
    "Xnt = Xntdatadf[column_names_for_ml].values\n",
    "ynt1=reg1.predict(Xnt)\n",
    "ynt1"
   ]
  },
  {
   "cell_type": "code",
   "execution_count": 207,
   "metadata": {},
   "outputs": [],
   "source": [
    "from matminer.figrecipes.plotly.make_plots import PlotlyFig\n",
    "\n",
    "pf_rf = PlotlyFig(x_title='DFT (MP) C11 (GPa)',\n",
    "                  y_title='GBR C11 (GPa)',\n",
    "                  plot_title='GBR',\n",
    "                  plot_mode='offline',\n",
    "                  margin_left=150,\n",
    "                  textsize=35,\n",
    "                  ticksize=30,\n",
    "                  filename=\"gbregression1.html\")\n",
    "\n",
    "# a line to represent a perfect model with 1:1 prediction\n",
    "xy_line = {'x_col': [0, max(y)],\n",
    "           'y_col': [0, max(y)],\n",
    "           'color': 'black',\n",
    "           'mode': 'lines',\n",
    "           'legend': None,\n",
    "           'text': None,\n",
    "           'size': None}\n",
    "\n",
    "pf_rf.xy_plot(x_col=y,\n",
    "              y_col=reg1.predict(X),\n",
    "              size=3,\n",
    "              marker_outline_width=0.5,\n",
    "              #text=df_mp['pretty_formula'],\n",
    "              add_xy_plot=[xy_line])"
   ]
  },
  {
   "cell_type": "code",
   "execution_count": 208,
   "metadata": {},
   "outputs": [],
   "source": [
    "import pickle\n",
    "s = pickle.dump(reg1,open( \"reg1_features.p\", \"wb\" ))"
   ]
  },
  {
   "cell_type": "code",
   "execution_count": 6,
   "metadata": {},
   "outputs": [],
   "source": [
    "coeff=1\n",
    "y = data['ydata'][:,coeff]\n",
    "params=models_and_parameters['krg'][1]\n",
    "params = {'reg__kernel': ['rbf','linear'], 'reg__alpha': [1e0, 0.1, 1e-2, 1e-3], 'reg__gamma': np.logspace(-2, 2, 5)}\n",
    "scaler = preprocessing.StandardScaler()\n",
    "inner_cv = KFold(n_splits=3, shuffle=True)\n",
    "outer_cv = KFold(n_splits=3, shuffle=True)"
   ]
  },
  {
   "cell_type": "code",
   "execution_count": 8,
   "metadata": {},
   "outputs": [
    {
     "data": {
      "text/plain": [
       "GridSearchCV(cv=KFold(n_splits=3, random_state=None, shuffle=True),\n",
       "       error_score='raise',\n",
       "       estimator=Pipeline(memory=None,\n",
       "     steps=[('transformer', StandardScaler(copy=True, with_mean=True, with_std=True)), ('reg', KernelRidge(alpha=1, coef0=1, degree=3, gamma=None, kernel='linear',\n",
       "      kernel_params=None))]),\n",
       "       fit_params=None, iid=True, n_jobs=-1,\n",
       "       param_grid={'reg__kernel': ['rbf', 'linear'], 'reg__alpha': [1.0, 0.1, 0.01, 0.001], 'reg__gamma': array([1.e-02, 1.e-01, 1.e+00, 1.e+01, 1.e+02])},\n",
       "       pre_dispatch='2*n_jobs', refit=True, return_train_score='warn',\n",
       "       scoring=None, verbose=0)"
      ]
     },
     "execution_count": 8,
     "metadata": {},
     "output_type": "execute_result"
    }
   ],
   "source": [
    "model = KernelRidge()\n",
    "scaler = preprocessing.StandardScaler()\n",
    "pipeline = Pipeline([('transformer', scaler), ('reg', model)])\n",
    "reg2 = GridSearchCV(estimator=pipeline, param_grid=params, cv=inner_cv,n_jobs=-1)\n",
    "reg2"
   ]
  },
  {
   "cell_type": "code",
   "execution_count": 11,
   "metadata": {},
   "outputs": [
    {
     "name": "stderr",
     "output_type": "stream",
     "text": [
      "Process ForkPoolWorker-38:\n",
      "Process ForkPoolWorker-37:\n",
      "Process ForkPoolWorker-40:\n",
      "Process ForkPoolWorker-39:\n",
      "Traceback (most recent call last):\n",
      "Traceback (most recent call last):\n",
      "Traceback (most recent call last):\n",
      "Traceback (most recent call last):\n",
      "  File \"/opt/local/Library/Frameworks/Python.framework/Versions/3.6/lib/python3.6/multiprocessing/process.py\", line 258, in _bootstrap\n",
      "    self.run()\n",
      "  File \"/opt/local/Library/Frameworks/Python.framework/Versions/3.6/lib/python3.6/multiprocessing/process.py\", line 258, in _bootstrap\n",
      "    self.run()\n",
      "  File \"/opt/local/Library/Frameworks/Python.framework/Versions/3.6/lib/python3.6/multiprocessing/process.py\", line 258, in _bootstrap\n",
      "    self.run()\n",
      "  File \"/opt/local/Library/Frameworks/Python.framework/Versions/3.6/lib/python3.6/multiprocessing/process.py\", line 93, in run\n",
      "    self._target(*self._args, **self._kwargs)\n",
      "  File \"/opt/local/Library/Frameworks/Python.framework/Versions/3.6/lib/python3.6/multiprocessing/process.py\", line 93, in run\n",
      "    self._target(*self._args, **self._kwargs)\n",
      "  File \"/opt/local/Library/Frameworks/Python.framework/Versions/3.6/lib/python3.6/multiprocessing/pool.py\", line 108, in worker\n",
      "    task = get()\n"
     ]
    },
    {
     "ename": "KeyboardInterrupt",
     "evalue": "",
     "output_type": "error",
     "traceback": [
      "\u001b[0;31m---------------------------------------------------------------------------\u001b[0m",
      "\u001b[0;31mKeyboardInterrupt\u001b[0m                         Traceback (most recent call last)",
      "\u001b[0;32m<ipython-input-11-649060c2d655>\u001b[0m in \u001b[0;36m<module>\u001b[0;34m()\u001b[0m\n\u001b[0;32m----> 1\u001b[0;31m \u001b[0mreg2\u001b[0m\u001b[0;34m.\u001b[0m\u001b[0mfit\u001b[0m\u001b[0;34m(\u001b[0m\u001b[0mX\u001b[0m\u001b[0;34m,\u001b[0m\u001b[0my\u001b[0m\u001b[0;34m)\u001b[0m\u001b[0;34m\u001b[0m\u001b[0m\n\u001b[0m\u001b[1;32m      2\u001b[0m \u001b[0mreg2\u001b[0m\u001b[0;34m.\u001b[0m\u001b[0mbest_params_\u001b[0m\u001b[0;34m\u001b[0m\u001b[0m\n\u001b[1;32m      3\u001b[0m \u001b[0mscores\u001b[0m\u001b[0;34m=\u001b[0m\u001b[0mcross_val_score\u001b[0m\u001b[0;34m(\u001b[0m\u001b[0mreg2\u001b[0m\u001b[0;34m,\u001b[0m \u001b[0mX\u001b[0m\u001b[0;34m=\u001b[0m\u001b[0mX\u001b[0m\u001b[0;34m,\u001b[0m \u001b[0my\u001b[0m\u001b[0;34m=\u001b[0m\u001b[0my\u001b[0m\u001b[0;34m,\u001b[0m \u001b[0mscoring\u001b[0m\u001b[0;34m=\u001b[0m\u001b[0;34m'neg_mean_squared_error'\u001b[0m\u001b[0;34m,\u001b[0m\u001b[0mcv\u001b[0m\u001b[0;34m=\u001b[0m\u001b[0mouter_cv\u001b[0m\u001b[0;34m)\u001b[0m\u001b[0;34m\u001b[0m\u001b[0m\n\u001b[1;32m      4\u001b[0m \u001b[0mr2scores\u001b[0m\u001b[0;34m=\u001b[0m\u001b[0mcross_val_score\u001b[0m\u001b[0;34m(\u001b[0m\u001b[0mreg2\u001b[0m\u001b[0;34m,\u001b[0m \u001b[0mX\u001b[0m\u001b[0;34m=\u001b[0m\u001b[0mX\u001b[0m\u001b[0;34m,\u001b[0m \u001b[0my\u001b[0m\u001b[0;34m=\u001b[0m\u001b[0my\u001b[0m\u001b[0;34m,\u001b[0m \u001b[0mscoring\u001b[0m\u001b[0;34m=\u001b[0m\u001b[0;34m'r2'\u001b[0m\u001b[0;34m,\u001b[0m\u001b[0mcv\u001b[0m\u001b[0;34m=\u001b[0m\u001b[0mouter_cv\u001b[0m\u001b[0;34m)\u001b[0m\u001b[0;34m\u001b[0m\u001b[0m\n\u001b[1;32m      5\u001b[0m \u001b[0mrmse_scores\u001b[0m \u001b[0;34m=\u001b[0m \u001b[0;34m[\u001b[0m\u001b[0mnp\u001b[0m\u001b[0;34m.\u001b[0m\u001b[0msqrt\u001b[0m\u001b[0;34m(\u001b[0m\u001b[0mabs\u001b[0m\u001b[0;34m(\u001b[0m\u001b[0ms\u001b[0m\u001b[0;34m)\u001b[0m\u001b[0;34m)\u001b[0m \u001b[0;32mfor\u001b[0m \u001b[0ms\u001b[0m \u001b[0;32min\u001b[0m \u001b[0mscores\u001b[0m\u001b[0;34m]\u001b[0m\u001b[0;34m\u001b[0m\u001b[0m\n",
      "\u001b[0;32m/opt/local/Library/Frameworks/Python.framework/Versions/3.6/lib/python3.6/site-packages/sklearn/model_selection/_search.py\u001b[0m in \u001b[0;36mfit\u001b[0;34m(self, X, y, groups, **fit_params)\u001b[0m\n\u001b[1;32m    637\u001b[0m                                   error_score=self.error_score)\n\u001b[1;32m    638\u001b[0m           for parameters, (train, test) in product(candidate_params,\n\u001b[0;32m--> 639\u001b[0;31m                                                    cv.split(X, y, groups)))\n\u001b[0m\u001b[1;32m    640\u001b[0m \u001b[0;34m\u001b[0m\u001b[0m\n\u001b[1;32m    641\u001b[0m         \u001b[0;31m# if one choose to see train score, \"out\" will contain train score info\u001b[0m\u001b[0;34m\u001b[0m\u001b[0;34m\u001b[0m\u001b[0m\n",
      "\u001b[0;32m/opt/local/Library/Frameworks/Python.framework/Versions/3.6/lib/python3.6/site-packages/sklearn/externals/joblib/parallel.py\u001b[0m in \u001b[0;36m__call__\u001b[0;34m(self, iterable)\u001b[0m\n\u001b[1;32m    787\u001b[0m                 \u001b[0;31m# consumption.\u001b[0m\u001b[0;34m\u001b[0m\u001b[0;34m\u001b[0m\u001b[0m\n\u001b[1;32m    788\u001b[0m                 \u001b[0mself\u001b[0m\u001b[0;34m.\u001b[0m\u001b[0m_iterating\u001b[0m \u001b[0;34m=\u001b[0m \u001b[0;32mFalse\u001b[0m\u001b[0;34m\u001b[0m\u001b[0m\n\u001b[0;32m--> 789\u001b[0;31m             \u001b[0mself\u001b[0m\u001b[0;34m.\u001b[0m\u001b[0mretrieve\u001b[0m\u001b[0;34m(\u001b[0m\u001b[0;34m)\u001b[0m\u001b[0;34m\u001b[0m\u001b[0m\n\u001b[0m\u001b[1;32m    790\u001b[0m             \u001b[0;31m# Make sure that we get a last message telling us we are done\u001b[0m\u001b[0;34m\u001b[0m\u001b[0;34m\u001b[0m\u001b[0m\n\u001b[1;32m    791\u001b[0m             \u001b[0melapsed_time\u001b[0m \u001b[0;34m=\u001b[0m \u001b[0mtime\u001b[0m\u001b[0;34m.\u001b[0m\u001b[0mtime\u001b[0m\u001b[0;34m(\u001b[0m\u001b[0;34m)\u001b[0m \u001b[0;34m-\u001b[0m \u001b[0mself\u001b[0m\u001b[0;34m.\u001b[0m\u001b[0m_start_time\u001b[0m\u001b[0;34m\u001b[0m\u001b[0m\n",
      "\u001b[0;32m/opt/local/Library/Frameworks/Python.framework/Versions/3.6/lib/python3.6/site-packages/sklearn/externals/joblib/parallel.py\u001b[0m in \u001b[0;36mretrieve\u001b[0;34m(self)\u001b[0m\n\u001b[1;32m    697\u001b[0m             \u001b[0;32mtry\u001b[0m\u001b[0;34m:\u001b[0m\u001b[0;34m\u001b[0m\u001b[0m\n\u001b[1;32m    698\u001b[0m                 \u001b[0;32mif\u001b[0m \u001b[0mgetattr\u001b[0m\u001b[0;34m(\u001b[0m\u001b[0mself\u001b[0m\u001b[0;34m.\u001b[0m\u001b[0m_backend\u001b[0m\u001b[0;34m,\u001b[0m \u001b[0;34m'supports_timeout'\u001b[0m\u001b[0;34m,\u001b[0m \u001b[0;32mFalse\u001b[0m\u001b[0;34m)\u001b[0m\u001b[0;34m:\u001b[0m\u001b[0;34m\u001b[0m\u001b[0m\n\u001b[0;32m--> 699\u001b[0;31m                     \u001b[0mself\u001b[0m\u001b[0;34m.\u001b[0m\u001b[0m_output\u001b[0m\u001b[0;34m.\u001b[0m\u001b[0mextend\u001b[0m\u001b[0;34m(\u001b[0m\u001b[0mjob\u001b[0m\u001b[0;34m.\u001b[0m\u001b[0mget\u001b[0m\u001b[0;34m(\u001b[0m\u001b[0mtimeout\u001b[0m\u001b[0;34m=\u001b[0m\u001b[0mself\u001b[0m\u001b[0;34m.\u001b[0m\u001b[0mtimeout\u001b[0m\u001b[0;34m)\u001b[0m\u001b[0;34m)\u001b[0m\u001b[0;34m\u001b[0m\u001b[0m\n\u001b[0m\u001b[1;32m    700\u001b[0m                 \u001b[0;32melse\u001b[0m\u001b[0;34m:\u001b[0m\u001b[0;34m\u001b[0m\u001b[0m\n\u001b[1;32m    701\u001b[0m                     \u001b[0mself\u001b[0m\u001b[0;34m.\u001b[0m\u001b[0m_output\u001b[0m\u001b[0;34m.\u001b[0m\u001b[0mextend\u001b[0m\u001b[0;34m(\u001b[0m\u001b[0mjob\u001b[0m\u001b[0;34m.\u001b[0m\u001b[0mget\u001b[0m\u001b[0;34m(\u001b[0m\u001b[0;34m)\u001b[0m\u001b[0;34m)\u001b[0m\u001b[0;34m\u001b[0m\u001b[0m\n",
      "\u001b[0;32m/opt/local/Library/Frameworks/Python.framework/Versions/3.6/lib/python3.6/multiprocessing/pool.py\u001b[0m in \u001b[0;36mget\u001b[0;34m(self, timeout)\u001b[0m\n\u001b[1;32m    636\u001b[0m \u001b[0;34m\u001b[0m\u001b[0m\n\u001b[1;32m    637\u001b[0m     \u001b[0;32mdef\u001b[0m \u001b[0mget\u001b[0m\u001b[0;34m(\u001b[0m\u001b[0mself\u001b[0m\u001b[0;34m,\u001b[0m \u001b[0mtimeout\u001b[0m\u001b[0;34m=\u001b[0m\u001b[0;32mNone\u001b[0m\u001b[0;34m)\u001b[0m\u001b[0;34m:\u001b[0m\u001b[0;34m\u001b[0m\u001b[0m\n\u001b[0;32m--> 638\u001b[0;31m         \u001b[0mself\u001b[0m\u001b[0;34m.\u001b[0m\u001b[0mwait\u001b[0m\u001b[0;34m(\u001b[0m\u001b[0mtimeout\u001b[0m\u001b[0;34m)\u001b[0m\u001b[0;34m\u001b[0m\u001b[0m\n\u001b[0m\u001b[1;32m    639\u001b[0m         \u001b[0;32mif\u001b[0m \u001b[0;32mnot\u001b[0m \u001b[0mself\u001b[0m\u001b[0;34m.\u001b[0m\u001b[0mready\u001b[0m\u001b[0;34m(\u001b[0m\u001b[0;34m)\u001b[0m\u001b[0;34m:\u001b[0m\u001b[0;34m\u001b[0m\u001b[0m\n\u001b[1;32m    640\u001b[0m             \u001b[0;32mraise\u001b[0m \u001b[0mTimeoutError\u001b[0m\u001b[0;34m\u001b[0m\u001b[0m\n",
      "\u001b[0;32m/opt/local/Library/Frameworks/Python.framework/Versions/3.6/lib/python3.6/multiprocessing/pool.py\u001b[0m in \u001b[0;36mwait\u001b[0;34m(self, timeout)\u001b[0m\n\u001b[1;32m    633\u001b[0m \u001b[0;34m\u001b[0m\u001b[0m\n\u001b[1;32m    634\u001b[0m     \u001b[0;32mdef\u001b[0m \u001b[0mwait\u001b[0m\u001b[0;34m(\u001b[0m\u001b[0mself\u001b[0m\u001b[0;34m,\u001b[0m \u001b[0mtimeout\u001b[0m\u001b[0;34m=\u001b[0m\u001b[0;32mNone\u001b[0m\u001b[0;34m)\u001b[0m\u001b[0;34m:\u001b[0m\u001b[0;34m\u001b[0m\u001b[0m\n\u001b[0;32m--> 635\u001b[0;31m         \u001b[0mself\u001b[0m\u001b[0;34m.\u001b[0m\u001b[0m_event\u001b[0m\u001b[0;34m.\u001b[0m\u001b[0mwait\u001b[0m\u001b[0;34m(\u001b[0m\u001b[0mtimeout\u001b[0m\u001b[0;34m)\u001b[0m\u001b[0;34m\u001b[0m\u001b[0m\n\u001b[0m\u001b[1;32m    636\u001b[0m \u001b[0;34m\u001b[0m\u001b[0m\n\u001b[1;32m    637\u001b[0m     \u001b[0;32mdef\u001b[0m \u001b[0mget\u001b[0m\u001b[0;34m(\u001b[0m\u001b[0mself\u001b[0m\u001b[0;34m,\u001b[0m \u001b[0mtimeout\u001b[0m\u001b[0;34m=\u001b[0m\u001b[0;32mNone\u001b[0m\u001b[0;34m)\u001b[0m\u001b[0;34m:\u001b[0m\u001b[0;34m\u001b[0m\u001b[0m\n",
      "\u001b[0;32m/opt/local/Library/Frameworks/Python.framework/Versions/3.6/lib/python3.6/threading.py\u001b[0m in \u001b[0;36mwait\u001b[0;34m(self, timeout)\u001b[0m\n\u001b[1;32m    549\u001b[0m             \u001b[0msignaled\u001b[0m \u001b[0;34m=\u001b[0m \u001b[0mself\u001b[0m\u001b[0;34m.\u001b[0m\u001b[0m_flag\u001b[0m\u001b[0;34m\u001b[0m\u001b[0m\n\u001b[1;32m    550\u001b[0m             \u001b[0;32mif\u001b[0m \u001b[0;32mnot\u001b[0m \u001b[0msignaled\u001b[0m\u001b[0;34m:\u001b[0m\u001b[0;34m\u001b[0m\u001b[0m\n\u001b[0;32m--> 551\u001b[0;31m                 \u001b[0msignaled\u001b[0m \u001b[0;34m=\u001b[0m \u001b[0mself\u001b[0m\u001b[0;34m.\u001b[0m\u001b[0m_cond\u001b[0m\u001b[0;34m.\u001b[0m\u001b[0mwait\u001b[0m\u001b[0;34m(\u001b[0m\u001b[0mtimeout\u001b[0m\u001b[0;34m)\u001b[0m\u001b[0;34m\u001b[0m\u001b[0m\n\u001b[0m\u001b[1;32m    552\u001b[0m             \u001b[0;32mreturn\u001b[0m \u001b[0msignaled\u001b[0m\u001b[0;34m\u001b[0m\u001b[0m\n\u001b[1;32m    553\u001b[0m \u001b[0;34m\u001b[0m\u001b[0m\n",
      "\u001b[0;32m/opt/local/Library/Frameworks/Python.framework/Versions/3.6/lib/python3.6/threading.py\u001b[0m in \u001b[0;36mwait\u001b[0;34m(self, timeout)\u001b[0m\n\u001b[1;32m    293\u001b[0m         \u001b[0;32mtry\u001b[0m\u001b[0;34m:\u001b[0m    \u001b[0;31m# restore state no matter what (e.g., KeyboardInterrupt)\u001b[0m\u001b[0;34m\u001b[0m\u001b[0m\n\u001b[1;32m    294\u001b[0m             \u001b[0;32mif\u001b[0m \u001b[0mtimeout\u001b[0m \u001b[0;32mis\u001b[0m \u001b[0;32mNone\u001b[0m\u001b[0;34m:\u001b[0m\u001b[0;34m\u001b[0m\u001b[0m\n\u001b[0;32m--> 295\u001b[0;31m                 \u001b[0mwaiter\u001b[0m\u001b[0;34m.\u001b[0m\u001b[0macquire\u001b[0m\u001b[0;34m(\u001b[0m\u001b[0;34m)\u001b[0m\u001b[0;34m\u001b[0m\u001b[0m\n\u001b[0m\u001b[1;32m    296\u001b[0m                 \u001b[0mgotit\u001b[0m \u001b[0;34m=\u001b[0m \u001b[0;32mTrue\u001b[0m\u001b[0;34m\u001b[0m\u001b[0m\n\u001b[1;32m    297\u001b[0m             \u001b[0;32melse\u001b[0m\u001b[0;34m:\u001b[0m\u001b[0;34m\u001b[0m\u001b[0m\n",
      "\u001b[0;31mKeyboardInterrupt\u001b[0m: "
     ]
    }
   ],
   "source": [
    "reg2.fit(X,y)\n",
    "reg2.best_params_\n",
    "scores=cross_val_score(reg2, X=X, y=y, scoring='neg_mean_squared_error',cv=outer_cv)\n",
    "r2scores=cross_val_score(reg2, X=X, y=y, scoring='r2',cv=outer_cv)\n",
    "rmse_scores = [np.sqrt(abs(s)) for s in scores]\n",
    "print('Cross-validation results:')\n",
    "print('Folds: %i, mean RMSE: %.3f' % (len(scores), np.mean(np.abs(rmse_scores))))\n",
    "print('Folds: %i, mean r2: %.3f' % (len(r2scores), np.mean(r2scores)))"
   ]
  },
  {
   "cell_type": "code",
   "execution_count": 40,
   "metadata": {},
   "outputs": [],
   "source": [
    "from matminer.figrecipes.plotly.make_plots import PlotlyFig\n",
    "pf_rf = PlotlyFig(x_title='DFT (MP) C12 (GPa)',\n",
    "                  y_title='Bayesian Ridge C12 (GPa)',\n",
    "                  plot_title='Random forest regression',\n",
    "                  plot_mode='offline',\n",
    "                  margin_left=150,\n",
    "                  textsize=35,\n",
    "                  ticksize=30,\n",
    "                  filename=\"br2_fregression1.html\")\n",
    "\n",
    "# a line to represent a perfect model with 1:1 prediction\n",
    "xy_line = {'x_col': [min(y), max(y)],\n",
    "           'y_col': [min(y), max(y)],\n",
    "           'color': 'black',\n",
    "           'mode': 'lines',\n",
    "           'legend': None,\n",
    "           'text': None,\n",
    "           'size': None}\n",
    "\n",
    "\n",
    "pf_rf.xy_plot(x_col=y,\n",
    "              y_col=reg2.predict(X),\n",
    "              size=3,\n",
    "              marker_outline_width=0.5,\n",
    "              #text=df_mp['pretty_formula'],\n",
    "              add_xy_plot=[xy_line])"
   ]
  },
  {
   "cell_type": "code",
   "execution_count": 354,
   "metadata": {},
   "outputs": [],
   "source": [
    "import pickle\n",
    "s = pickle.dump(reg2,open( \"reg2_features.p\", \"wb\" ))"
   ]
  },
  {
   "cell_type": "code",
   "execution_count": 355,
   "metadata": {},
   "outputs": [],
   "source": [
    "coeff=2\n",
    "y = data['ydata'][:,coeff]\n",
    "params=models_and_parameters['brg'][1]\n",
    "scaler = preprocessing.StandardScaler()\n",
    "inner_cv = KFold(n_splits=3, shuffle=True)\n",
    "outer_cv = KFold(n_splits=3, shuffle=True)\n",
    "model=linear_model.BayesianRidge(normalize=False)\n",
    "scaler = preprocessing.StandardScaler()\n",
    "pipeline = Pipeline([('transformer', scaler), ('reg', model)])"
   ]
  },
  {
   "cell_type": "code",
   "execution_count": 817,
   "metadata": {},
   "outputs": [
    {
     "name": "stdout",
     "output_type": "stream",
     "text": [
      "[0.72590485 0.78405826 0.6265607 ]\n",
      "Cross-validation results:\n",
      "Folds: 3, mean r2: 0.712\n"
     ]
    }
   ],
   "source": [
    "reg3 = GridSearchCV(estimator=pipeline, param_grid=params, cv=inner_cv,n_jobs=-1)\n",
    "reg3\n",
    "reg3.fit(X,y)\n",
    "reg3.best_params_\n",
    "scores=cross_val_score(reg3, X=X, y=y, scoring='neg_mean_squared_error',cv=outer_cv)\n",
    "r2scores=cross_val_score(reg3, X=X, y=y, scoring='r2',cv=outer_cv)\n",
    "print(r2scores)\n",
    "rmse_scores = [np.sqrt(abs(s)) for s in scores]\n",
    "print('Cross-validation results:')\n",
    "#print('Folds: %i, mean RMSE: %.3f' % (len(scores), np.mean(np.abs(rmse_scores))))\n",
    "print('Folds: %i, mean r2: %.3f' % (len(r2scores), np.mean(r2scores)))"
   ]
  },
  {
   "cell_type": "code",
   "execution_count": 818,
   "metadata": {},
   "outputs": [],
   "source": [
    "from matminer.figrecipes.plotly.make_plots import PlotlyFig\n",
    "pf_rf = PlotlyFig(x_title='DFT (MP) C44 (GPa)',\n",
    "                  y_title='Bayesian Ridge C44 (GPa)',\n",
    "                  plot_title='Random forest regression',\n",
    "                  plot_mode='offline',\n",
    "                  margin_left=150,\n",
    "                  textsize=35,\n",
    "                  ticksize=30,\n",
    "                  filename=\"br3_regression1.html\")\n",
    "\n",
    "# a line to represent a perfect model with 1:1 prediction\n",
    "xy_line = {'x_col': [min(y), max(y)],\n",
    "           'y_col': [min(y), max(y)],\n",
    "           'color': 'black',\n",
    "           'mode': 'lines',\n",
    "           'legend': None,\n",
    "           'text': None,\n",
    "           'size': None}\n",
    "\n",
    "pf_rf.xy_plot(x_col=y,\n",
    "              y_col=reg3.predict(X),\n",
    "              size=3,\n",
    "              marker_outline_width=0.5,\n",
    "              #text=df_mp['pretty_formula'],\n",
    "              add_xy_plot=[xy_line])"
   ]
  },
  {
   "cell_type": "code",
   "execution_count": 819,
   "metadata": {},
   "outputs": [],
   "source": [
    "import pickle\n",
    "s = pickle.dump(reg3,open( \"reg3_features.p\", \"wb\" ))"
   ]
  },
  {
   "cell_type": "code",
   "execution_count": 820,
   "metadata": {},
   "outputs": [
    {
     "name": "stdout",
     "output_type": "stream",
     "text": [
      "97.41702297585702\n",
      "197.05481972699144\n",
      "158.26740359133254\n",
      "112.14214679707378\n",
      "232.65033305792758\n",
      "158.26740359133254\n",
      "\n",
      "0.98006455634168\n",
      "0.854755349177047\n",
      "0.6882464206315353\n",
      "0.9405688510174358\n",
      "0.9200212242959691\n",
      "0.6882464206315353\n"
     ]
    }
   ],
   "source": [
    "y1t=reg1.predict(X)\n",
    "y2t=reg2.predict(X)\n",
    "y3t=reg3.predict(X)\n",
    "e1t=(y1t+2*y2t)/3\n",
    "e2t=(y1t-y2t)\n",
    "e3t=y3t\n",
    "from sklearn.metrics import *\n",
    "yall = data['ydata']\n",
    "print(mean_squared_error(y1t,yall[:,0]))\n",
    "print(mean_squared_error(y2t,yall[:,1]))\n",
    "print(mean_squared_error(y3t,yall[:,2]))\n",
    "print(mean_squared_error(e1t,(yall[:,0]+2.*yall[:,1])/3.))\n",
    "print(mean_squared_error(e2t,yall[:,0]-yall[:,1]))\n",
    "print(mean_squared_error(e3t,yall[:,2]))\n",
    "print()\n",
    "print(r2_score(y1t,yall[:,0]))\n",
    "print(r2_score(y2t,yall[:,1]))\n",
    "print(r2_score(y3t,yall[:,2]))\n",
    "print(r2_score(e1t,(yall[:,0]+2.*yall[:,1])/3.))\n",
    "print(r2_score(e2t,yall[:,0]-yall[:,1]))\n",
    "print(r2_score(e3t,yall[:,2]))"
   ]
  },
  {
   "cell_type": "code",
   "execution_count": 821,
   "metadata": {},
   "outputs": [],
   "source": [
    "y1nt=reg1.predict(Xnt)\n",
    "y2nt=reg2.predict(Xnt)\n",
    "y3nt=reg3.predict(Xnt)"
   ]
  },
  {
   "cell_type": "code",
   "execution_count": 822,
   "metadata": {},
   "outputs": [],
   "source": [
    "ynt=np.column_stack((y1nt,y2nt,y3nt))\n",
    "ynt.shape\n",
    "spio.savemat(lattice+'-nt-features-result',mdict={'coeffsnt':ynt,'coord':ntdata['coord'],'mps':ntdata['mps'],'volrat':ntdata['volrat']})"
   ]
  },
  {
   "cell_type": "code",
   "execution_count": 823,
   "metadata": {},
   "outputs": [
    {
     "name": "stdout",
     "output_type": "stream",
     "text": [
      "[0.2581988  0.38035522 0.38049773 0.25820269 0.38049772 0.08406202\n",
      " 0.38049773 0.25820563 0.25820563 0.2581988  0.2581988  0.08406202\n",
      " 0.25820563 0.08406202 0.25820563 0.25820563 0.25820563 0.25820563\n",
      " 0.73524312 0.23805073 0.23356835 0.23244811 0.38049773 0.08406202\n",
      " 0.25820563 0.08406202 0.15191745 0.15191745 0.05525574 0.25819966\n",
      " 0.25820364 0.25820563 0.25819916 0.25819966 0.25820563 0.25819966\n",
      " 0.25820121 0.25820563 0.25820392 0.25819651 0.25820563 0.14101352\n",
      " 0.25820563 0.25820478 0.25820563 0.25820563 0.15191745 0.25820029\n",
      " 0.25820336 0.2581988  0.25820563 0.25820563 0.15191745 0.2581988\n",
      " 0.15191744 0.1579381  0.16420279 0.25820563 0.25820563 0.25820563\n",
      " 0.2581988  0.25820364 0.25820051 0.25820563 0.25820563 0.25819966\n",
      " 0.25820336 0.25819368 0.25820165 0.25820563 0.25820321 0.25820392\n",
      " 0.25820165 0.0538958  0.25819872 0.25820563 0.25820563 0.25820563\n",
      " 0.25820279 0.25819966 0.15191745 0.2581988  0.25820563 0.25819966\n",
      " 0.25820336 0.25819966 0.25820078 0.14623936 0.15191735 0.25820563\n",
      " 0.25820563 0.25820563 0.2581988  0.25820563 0.2581988  0.2581988\n",
      " 0.25820563 0.2581988  0.2581988  0.25820222 0.25820256 0.15317525\n",
      " 0.25820364 0.25820051 0.25820563 0.25820563 0.25820563 0.25819966\n",
      " 0.25820563 0.25820392 0.25820478 0.2581988  0.15191744 0.25820563\n",
      " 0.25820275 0.25820563 0.15191745 0.25820332 0.25819966 0.25820563\n",
      " 0.15191745 0.25820563 0.25820314 0.25820563 0.25820563 0.25820336\n",
      " 0.25820563 0.2581988  0.25820336 0.25820051 0.25820392 0.2581988\n",
      " 0.25820336 0.09650013 0.25820544 0.25820336 0.25820478 0.25819966\n",
      " 0.25820222 0.25820051 0.25820051 0.25820392 0.25820563 0.15191745\n",
      " 0.25820563 0.15313514 0.25820563 0.25820563 0.05019216 0.25820563\n",
      " 0.25820563 0.25820563 0.25820545 0.15191738 0.25820563 0.15191736\n",
      " 0.25820563 0.08837167 0.04992997 0.2582054  0.25820563 0.04818492\n",
      " 0.084062   0.13875193 0.08406202 0.08407709 0.25820563 0.08410135\n",
      " 0.08406202 0.08413452]\n"
     ]
    }
   ],
   "source": [
    "print(data['volratt'][0])"
   ]
  },
  {
   "cell_type": "code",
   "execution_count": 824,
   "metadata": {},
   "outputs": [],
   "source": [
    "ytr=np.column_stack((reg1.predict(X),reg2.predict(X),reg3.predict(X)))\n",
    "ytr.shape\n",
    "spio.savemat(lattice+'-tr-features-result',mdict={'coeffstr':data['ydata'],'coeffspred':ytr,'coord':data['coordt'],'mps':data['mps'],'volrat':data['volratt']})"
   ]
  },
  {
   "cell_type": "code",
   "execution_count": 119,
   "metadata": {},
   "outputs": [],
   "source": [
    "import pickle\n",
    "with open('reg1.p','rb') as f:\n",
    "    reg1=pickle.load(f)"
   ]
  },
  {
   "cell_type": "code",
   "execution_count": 126,
   "metadata": {},
   "outputs": [
    {
     "data": {
      "text/plain": [
       "GridSearchCV(cv=KFold(n_splits=3, random_state=None, shuffle=True),\n",
       "       error_score='raise',\n",
       "       estimator=Pipeline(memory=None,\n",
       "     steps=[('transformer', StandardScaler(copy=True, with_mean=True, with_std=True)), ('reg', BayesianRidge(alpha_1=1e-06, alpha_2=1e-06, compute_score=False, copy_X=True,\n",
       "       fit_intercept=True, lambda_1=1e-06, lambda_2=1e-06, n_iter=300,\n",
       "       normalize=False, tol=0.001, verbose=False))]),\n",
       "       fit_params=None, iid=True, n_jobs=-1,\n",
       "       param_grid={'reg__alpha_1': [1e-06, 1e-05]},\n",
       "       pre_dispatch='2*n_jobs', refit=True, return_train_score='warn',\n",
       "       scoring=None, verbose=0)"
      ]
     },
     "execution_count": 126,
     "metadata": {},
     "output_type": "execute_result"
    }
   ],
   "source": [
    "import pickle\n",
    "with open('reg3.p','rb') as f:\n",
    "    r3=pickle.load(f)\n",
    "r3"
   ]
  },
  {
   "cell_type": "code",
   "execution_count": 11,
   "metadata": {},
   "outputs": [],
   "source": [
    "dd = spio.loadmat(lattice+'-nt-result')\n",
    "dd['coeffsnt']=dd['coeffsnt'].tolist()\n",
    "dd['coord']=dd['coord'].tolist()\n",
    "dd['volrat']=dd['volrat'].tolist()\n",
    "dd['mps']=dd['mps'].tolist()"
   ]
  },
  {
   "cell_type": "code",
   "execution_count": 12,
   "metadata": {},
   "outputs": [
    {
     "ename": "TypeError",
     "evalue": "Object of type 'bytes' is not JSON serializable",
     "output_type": "error",
     "traceback": [
      "\u001b[0;31m---------------------------------------------------------------------------\u001b[0m",
      "\u001b[0;31mTypeError\u001b[0m                                 Traceback (most recent call last)",
      "\u001b[0;32m<ipython-input-12-e0d5f4278c0f>\u001b[0m in \u001b[0;36m<module>\u001b[0;34m()\u001b[0m\n\u001b[1;32m      1\u001b[0m \u001b[0;32mimport\u001b[0m \u001b[0mjson\u001b[0m\u001b[0;34m\u001b[0m\u001b[0m\n\u001b[1;32m      2\u001b[0m \u001b[0;32mwith\u001b[0m \u001b[0mopen\u001b[0m\u001b[0;34m(\u001b[0m\u001b[0mlattice\u001b[0m\u001b[0;34m+\u001b[0m\u001b[0;34m'-nt-result_noform.json'\u001b[0m\u001b[0;34m,\u001b[0m\u001b[0;34m'w'\u001b[0m\u001b[0;34m)\u001b[0m \u001b[0;32mas\u001b[0m \u001b[0mf\u001b[0m\u001b[0;34m:\u001b[0m\u001b[0;34m\u001b[0m\u001b[0m\n\u001b[0;32m----> 3\u001b[0;31m     \u001b[0mjson\u001b[0m\u001b[0;34m.\u001b[0m\u001b[0mdump\u001b[0m\u001b[0;34m(\u001b[0m\u001b[0mdd\u001b[0m\u001b[0;34m,\u001b[0m\u001b[0mf\u001b[0m\u001b[0;34m)\u001b[0m\u001b[0;34m\u001b[0m\u001b[0m\n\u001b[0m",
      "\u001b[0;32m/opt/local/Library/Frameworks/Python.framework/Versions/3.6/lib/python3.6/json/__init__.py\u001b[0m in \u001b[0;36mdump\u001b[0;34m(obj, fp, skipkeys, ensure_ascii, check_circular, allow_nan, cls, indent, separators, default, sort_keys, **kw)\u001b[0m\n\u001b[1;32m    177\u001b[0m     \u001b[0;31m# could accelerate with writelines in some versions of Python, at\u001b[0m\u001b[0;34m\u001b[0m\u001b[0;34m\u001b[0m\u001b[0m\n\u001b[1;32m    178\u001b[0m     \u001b[0;31m# a debuggability cost\u001b[0m\u001b[0;34m\u001b[0m\u001b[0;34m\u001b[0m\u001b[0m\n\u001b[0;32m--> 179\u001b[0;31m     \u001b[0;32mfor\u001b[0m \u001b[0mchunk\u001b[0m \u001b[0;32min\u001b[0m \u001b[0miterable\u001b[0m\u001b[0;34m:\u001b[0m\u001b[0;34m\u001b[0m\u001b[0m\n\u001b[0m\u001b[1;32m    180\u001b[0m         \u001b[0mfp\u001b[0m\u001b[0;34m.\u001b[0m\u001b[0mwrite\u001b[0m\u001b[0;34m(\u001b[0m\u001b[0mchunk\u001b[0m\u001b[0;34m)\u001b[0m\u001b[0;34m\u001b[0m\u001b[0m\n\u001b[1;32m    181\u001b[0m \u001b[0;34m\u001b[0m\u001b[0m\n",
      "\u001b[0;32m/opt/local/Library/Frameworks/Python.framework/Versions/3.6/lib/python3.6/json/encoder.py\u001b[0m in \u001b[0;36m_iterencode\u001b[0;34m(o, _current_indent_level)\u001b[0m\n\u001b[1;32m    428\u001b[0m             \u001b[0;32myield\u001b[0m \u001b[0;32mfrom\u001b[0m \u001b[0m_iterencode_list\u001b[0m\u001b[0;34m(\u001b[0m\u001b[0mo\u001b[0m\u001b[0;34m,\u001b[0m \u001b[0m_current_indent_level\u001b[0m\u001b[0;34m)\u001b[0m\u001b[0;34m\u001b[0m\u001b[0m\n\u001b[1;32m    429\u001b[0m         \u001b[0;32melif\u001b[0m \u001b[0misinstance\u001b[0m\u001b[0;34m(\u001b[0m\u001b[0mo\u001b[0m\u001b[0;34m,\u001b[0m \u001b[0mdict\u001b[0m\u001b[0;34m)\u001b[0m\u001b[0;34m:\u001b[0m\u001b[0;34m\u001b[0m\u001b[0m\n\u001b[0;32m--> 430\u001b[0;31m             \u001b[0;32myield\u001b[0m \u001b[0;32mfrom\u001b[0m \u001b[0m_iterencode_dict\u001b[0m\u001b[0;34m(\u001b[0m\u001b[0mo\u001b[0m\u001b[0;34m,\u001b[0m \u001b[0m_current_indent_level\u001b[0m\u001b[0;34m)\u001b[0m\u001b[0;34m\u001b[0m\u001b[0m\n\u001b[0m\u001b[1;32m    431\u001b[0m         \u001b[0;32melse\u001b[0m\u001b[0;34m:\u001b[0m\u001b[0;34m\u001b[0m\u001b[0m\n\u001b[1;32m    432\u001b[0m             \u001b[0;32mif\u001b[0m \u001b[0mmarkers\u001b[0m \u001b[0;32mis\u001b[0m \u001b[0;32mnot\u001b[0m \u001b[0;32mNone\u001b[0m\u001b[0;34m:\u001b[0m\u001b[0;34m\u001b[0m\u001b[0m\n",
      "\u001b[0;32m/opt/local/Library/Frameworks/Python.framework/Versions/3.6/lib/python3.6/json/encoder.py\u001b[0m in \u001b[0;36m_iterencode_dict\u001b[0;34m(dct, _current_indent_level)\u001b[0m\n\u001b[1;32m    402\u001b[0m                 \u001b[0;32melse\u001b[0m\u001b[0;34m:\u001b[0m\u001b[0;34m\u001b[0m\u001b[0m\n\u001b[1;32m    403\u001b[0m                     \u001b[0mchunks\u001b[0m \u001b[0;34m=\u001b[0m \u001b[0m_iterencode\u001b[0m\u001b[0;34m(\u001b[0m\u001b[0mvalue\u001b[0m\u001b[0;34m,\u001b[0m \u001b[0m_current_indent_level\u001b[0m\u001b[0;34m)\u001b[0m\u001b[0;34m\u001b[0m\u001b[0m\n\u001b[0;32m--> 404\u001b[0;31m                 \u001b[0;32myield\u001b[0m \u001b[0;32mfrom\u001b[0m \u001b[0mchunks\u001b[0m\u001b[0;34m\u001b[0m\u001b[0m\n\u001b[0m\u001b[1;32m    405\u001b[0m         \u001b[0;32mif\u001b[0m \u001b[0mnewline_indent\u001b[0m \u001b[0;32mis\u001b[0m \u001b[0;32mnot\u001b[0m \u001b[0;32mNone\u001b[0m\u001b[0;34m:\u001b[0m\u001b[0;34m\u001b[0m\u001b[0m\n\u001b[1;32m    406\u001b[0m             \u001b[0m_current_indent_level\u001b[0m \u001b[0;34m-=\u001b[0m \u001b[0;36m1\u001b[0m\u001b[0;34m\u001b[0m\u001b[0m\n",
      "\u001b[0;32m/opt/local/Library/Frameworks/Python.framework/Versions/3.6/lib/python3.6/json/encoder.py\u001b[0m in \u001b[0;36m_iterencode\u001b[0;34m(o, _current_indent_level)\u001b[0m\n\u001b[1;32m    435\u001b[0m                     \u001b[0;32mraise\u001b[0m \u001b[0mValueError\u001b[0m\u001b[0;34m(\u001b[0m\u001b[0;34m\"Circular reference detected\"\u001b[0m\u001b[0;34m)\u001b[0m\u001b[0;34m\u001b[0m\u001b[0m\n\u001b[1;32m    436\u001b[0m                 \u001b[0mmarkers\u001b[0m\u001b[0;34m[\u001b[0m\u001b[0mmarkerid\u001b[0m\u001b[0;34m]\u001b[0m \u001b[0;34m=\u001b[0m \u001b[0mo\u001b[0m\u001b[0;34m\u001b[0m\u001b[0m\n\u001b[0;32m--> 437\u001b[0;31m             \u001b[0mo\u001b[0m \u001b[0;34m=\u001b[0m \u001b[0m_default\u001b[0m\u001b[0;34m(\u001b[0m\u001b[0mo\u001b[0m\u001b[0;34m)\u001b[0m\u001b[0;34m\u001b[0m\u001b[0m\n\u001b[0m\u001b[1;32m    438\u001b[0m             \u001b[0;32myield\u001b[0m \u001b[0;32mfrom\u001b[0m \u001b[0m_iterencode\u001b[0m\u001b[0;34m(\u001b[0m\u001b[0mo\u001b[0m\u001b[0;34m,\u001b[0m \u001b[0m_current_indent_level\u001b[0m\u001b[0;34m)\u001b[0m\u001b[0;34m\u001b[0m\u001b[0m\n\u001b[1;32m    439\u001b[0m             \u001b[0;32mif\u001b[0m \u001b[0mmarkers\u001b[0m \u001b[0;32mis\u001b[0m \u001b[0;32mnot\u001b[0m \u001b[0;32mNone\u001b[0m\u001b[0;34m:\u001b[0m\u001b[0;34m\u001b[0m\u001b[0m\n",
      "\u001b[0;32m/opt/local/Library/Frameworks/Python.framework/Versions/3.6/lib/python3.6/json/encoder.py\u001b[0m in \u001b[0;36mdefault\u001b[0;34m(self, o)\u001b[0m\n\u001b[1;32m    178\u001b[0m         \"\"\"\n\u001b[1;32m    179\u001b[0m         raise TypeError(\"Object of type '%s' is not JSON serializable\" %\n\u001b[0;32m--> 180\u001b[0;31m                         o.__class__.__name__)\n\u001b[0m\u001b[1;32m    181\u001b[0m \u001b[0;34m\u001b[0m\u001b[0m\n\u001b[1;32m    182\u001b[0m     \u001b[0;32mdef\u001b[0m \u001b[0mencode\u001b[0m\u001b[0;34m(\u001b[0m\u001b[0mself\u001b[0m\u001b[0;34m,\u001b[0m \u001b[0mo\u001b[0m\u001b[0;34m)\u001b[0m\u001b[0;34m:\u001b[0m\u001b[0;34m\u001b[0m\u001b[0m\n",
      "\u001b[0;31mTypeError\u001b[0m: Object of type 'bytes' is not JSON serializable"
     ]
    }
   ],
   "source": [
    "import json\n",
    "with open(lattice+'-nt-result_features.json','w') as f:\n",
    "    json.dump(dd,f)"
   ]
  },
  {
   "cell_type": "code",
   "execution_count": 11,
   "metadata": {},
   "outputs": [
    {
     "data": {
      "text/plain": [
       "GridSearchCV(cv=KFold(n_splits=3, random_state=None, shuffle=True),\n",
       "       error_score='raise',\n",
       "       estimator=Pipeline(memory=None,\n",
       "     steps=[('transformer', StandardScaler(copy=True, with_mean=True, with_std=True)), ('reg', Lasso(alpha=1.0, copy_X=True, fit_intercept=True, max_iter=1000,\n",
       "   normalize=False, positive=False, precompute=False, random_state=None,\n",
       "   selection='cyclic', tol=0.0001, warm_start=False))]),\n",
       "       fit_params=None, iid=True, n_jobs=-1,\n",
       "       param_grid={'reg__alpha': [0.01, 0.1, 0.5, 1.0, 5.0, 10.0]},\n",
       "       pre_dispatch='2*n_jobs', refit=True, return_train_score='warn',\n",
       "       scoring=None, verbose=0)"
      ]
     },
     "execution_count": 11,
     "metadata": {},
     "output_type": "execute_result"
    }
   ],
   "source": [
    "model=linear_model.Lasso()\n",
    "params=models_and_parameters['lasso'][1]\n",
    "scaler = preprocessing.StandardScaler()\n",
    "pipeline = Pipeline([('transformer', scaler), ('reg', model)])\n",
    "reg1lasso = GridSearchCV(estimator=pipeline, param_grid=params, cv=inner_cv,n_jobs=-1)\n",
    "reg1lasso"
   ]
  },
  {
   "cell_type": "code",
   "execution_count": 294,
   "metadata": {},
   "outputs": [
    {
     "name": "stdout",
     "output_type": "stream",
     "text": [
      "Cross-validation results:\n",
      "Folds: 3, mean r2: 0.616\n"
     ]
    }
   ],
   "source": [
    "reg1lasso.fit(X,y)\n",
    "reg1lasso.best_params_\n",
    "#scores=cross_val_score(reg2, X=X, y=y, scoring='neg_mean_squared_error',cv=outer_cv)\n",
    "r2scores=cross_val_score(reg1lasso, X=X, y=y, scoring='r2',cv=outer_cv)\n",
    "#rmse_scores = [np.sqrt(abs(s)) for s in scores]\n",
    "print('Cross-validation results:')\n",
    "#print('Folds: %i, mean RMSE: %.3f' % (len(scores), np.mean(np.abs(rmse_scores))))\n",
    "print('Folds: %i, mean r2: %.3f' % (len(r2scores), np.mean(r2scores)))"
   ]
  },
  {
   "cell_type": "markdown",
   "metadata": {},
   "source": [
    "reg1lasso"
   ]
  },
  {
   "cell_type": "code",
   "execution_count": 298,
   "metadata": {},
   "outputs": [
    {
     "name": "stdout",
     "output_type": "stream",
     "text": [
      "[-73.99316211  46.3843869    4.75194328   3.0581043  -29.7807194\n",
      " -83.48320337  -2.59027984 -35.69553963   7.59154831 142.25994489\n",
      "  27.55151659 -15.72826648 -18.54535543  -5.91218868 -35.05286745\n",
      " 107.27319597  -6.11099286  50.10285911   0.        ]\n",
      "[-33.13148875  -5.31709399  -1.58192648  -0.96671281  -1.30384867\n",
      "   4.46508118  -1.00773901  -9.52158754   6.30148955  10.10122899\n",
      "  -3.9855769   -0.           0.25734102  10.1495421  -16.2522837\n",
      "  50.2334811    2.96694845   5.64221635   0.10404665]\n",
      "[-20.17605836   3.20680575  -1.27026152  -3.1777611   -7.89473839\n",
      "  -2.74887685   3.96638945 -16.79590484   4.25475666  23.67939975\n",
      "   7.57692893  -8.84518697   2.59918826   5.0206955  -13.94565021\n",
      "  11.83438023   3.21882829  10.74947255  11.82631575]\n"
     ]
    }
   ],
   "source": [
    "print(reg1lasso.best_estimator_.named_steps['reg'].coef_)\n",
    "print(reg2.best_estimator_.named_steps['reg'].coef_)\n",
    "print(reg3.best_estimator_.named_steps['reg'].coef_)"
   ]
  },
  {
   "cell_type": "code",
   "execution_count": 296,
   "metadata": {},
   "outputs": [],
   "source": [
    "import pickle\n",
    "with open('reg2_features.p','rb') as f:\n",
    "    reg2=pickle.load(f)\n",
    "with open('reg3_features.p','rb') as f:\n",
    "    reg3=pickle.load(f)"
   ]
  },
  {
   "cell_type": "code",
   "execution_count": 299,
   "metadata": {},
   "outputs": [
    {
     "name": "stdout",
     "output_type": "stream",
     "text": [
      "[10 16  6  1 18]\n",
      "[16  1 15 14 10]\n",
      "[10  1  8 15 16]\n"
     ]
    }
   ],
   "source": [
    "coef1=reg1lasso.best_estimator_.named_steps['reg'].coef_\n",
    "coef2=reg2.best_estimator_.named_steps['reg'].coef_\n",
    "coef3=reg3.best_estimator_.named_steps['reg'].coef_\n",
    "print(np.abs(coef1).argsort()[-5:][::-1]+1)\n",
    "print(np.abs(coef2).argsort()[-5:][::-1]+1)\n",
    "print(np.abs(coef3).argsort()[-5:][::-1]+1)"
   ]
  },
  {
   "cell_type": "code",
   "execution_count": 96,
   "metadata": {},
   "outputs": [
    {
     "data": {
      "text/plain": [
       "dtype('<f8')"
      ]
     },
     "execution_count": 96,
     "metadata": {},
     "output_type": "execute_result"
    }
   ],
   "source": [
    "y.dtype\n"
   ]
  },
  {
   "cell_type": "code",
   "execution_count": null,
   "metadata": {},
   "outputs": [],
   "source": []
  },
  {
   "cell_type": "code",
   "execution_count": 77,
   "metadata": {},
   "outputs": [
    {
     "data": {
      "text/html": [
       "<div>\n",
       "<style scoped>\n",
       "    .dataframe tbody tr th:only-of-type {\n",
       "        vertical-align: middle;\n",
       "    }\n",
       "\n",
       "    .dataframe tbody tr th {\n",
       "        vertical-align: top;\n",
       "    }\n",
       "\n",
       "    .dataframe thead th {\n",
       "        text-align: right;\n",
       "    }\n",
       "</style>\n",
       "<table border=\"1\" class=\"dataframe\">\n",
       "  <thead>\n",
       "    <tr style=\"text-align: right;\">\n",
       "      <th></th>\n",
       "      <th>0</th>\n",
       "      <th>1</th>\n",
       "      <th>2</th>\n",
       "      <th>3</th>\n",
       "      <th>4</th>\n",
       "      <th>5</th>\n",
       "      <th>6</th>\n",
       "      <th>7</th>\n",
       "      <th>8</th>\n",
       "      <th>9</th>\n",
       "      <th>10</th>\n",
       "      <th>11</th>\n",
       "      <th>12</th>\n",
       "      <th>13</th>\n",
       "      <th>14</th>\n",
       "      <th>15</th>\n",
       "      <th>16</th>\n",
       "      <th>17</th>\n",
       "      <th>18</th>\n",
       "    </tr>\n",
       "  </thead>\n",
       "  <tbody>\n",
       "    <tr>\n",
       "      <th>0</th>\n",
       "      <td>-0.982106</td>\n",
       "      <td>-0.361394</td>\n",
       "      <td>-0.141718</td>\n",
       "      <td>0.117372</td>\n",
       "      <td>-1.177644</td>\n",
       "      <td>-0.175505</td>\n",
       "      <td>1.444946</td>\n",
       "      <td>-0.537715</td>\n",
       "      <td>0.872549</td>\n",
       "      <td>-0.198931</td>\n",
       "      <td>0.695694</td>\n",
       "      <td>0.630247</td>\n",
       "      <td>0.443861</td>\n",
       "      <td>-0.002837</td>\n",
       "      <td>2.160390</td>\n",
       "      <td>-0.917639</td>\n",
       "      <td>-1.286106</td>\n",
       "      <td>0.02752</td>\n",
       "      <td>-0.917669</td>\n",
       "    </tr>\n",
       "    <tr>\n",
       "      <th>1</th>\n",
       "      <td>0.540093</td>\n",
       "      <td>-0.379834</td>\n",
       "      <td>-0.141718</td>\n",
       "      <td>0.648068</td>\n",
       "      <td>0.173565</td>\n",
       "      <td>0.672964</td>\n",
       "      <td>0.679151</td>\n",
       "      <td>0.981684</td>\n",
       "      <td>-1.333768</td>\n",
       "      <td>0.726501</td>\n",
       "      <td>-0.791508</td>\n",
       "      <td>-1.631712</td>\n",
       "      <td>-1.499989</td>\n",
       "      <td>-0.185322</td>\n",
       "      <td>-0.489298</td>\n",
       "      <td>0.775349</td>\n",
       "      <td>2.467324</td>\n",
       "      <td>0.02752</td>\n",
       "      <td>0.775313</td>\n",
       "    </tr>\n",
       "    <tr>\n",
       "      <th>2</th>\n",
       "      <td>2.492513</td>\n",
       "      <td>-0.406770</td>\n",
       "      <td>-0.141718</td>\n",
       "      <td>0.787799</td>\n",
       "      <td>0.341157</td>\n",
       "      <td>0.672964</td>\n",
       "      <td>0.679151</td>\n",
       "      <td>0.934815</td>\n",
       "      <td>-1.273321</td>\n",
       "      <td>0.726501</td>\n",
       "      <td>-0.791508</td>\n",
       "      <td>-1.642058</td>\n",
       "      <td>-1.507777</td>\n",
       "      <td>-0.205570</td>\n",
       "      <td>-0.478428</td>\n",
       "      <td>2.979259</td>\n",
       "      <td>2.467324</td>\n",
       "      <td>0.02752</td>\n",
       "      <td>2.979235</td>\n",
       "    </tr>\n",
       "    <tr>\n",
       "      <th>3</th>\n",
       "      <td>-0.858659</td>\n",
       "      <td>0.415251</td>\n",
       "      <td>-0.141718</td>\n",
       "      <td>-0.091346</td>\n",
       "      <td>-1.334761</td>\n",
       "      <td>-0.175505</td>\n",
       "      <td>1.444946</td>\n",
       "      <td>0.601244</td>\n",
       "      <td>0.464531</td>\n",
       "      <td>-0.198931</td>\n",
       "      <td>0.695694</td>\n",
       "      <td>1.068522</td>\n",
       "      <td>1.117473</td>\n",
       "      <td>0.554601</td>\n",
       "      <td>1.410794</td>\n",
       "      <td>-0.987999</td>\n",
       "      <td>-1.286106</td>\n",
       "      <td>0.02752</td>\n",
       "      <td>-0.988034</td>\n",
       "    </tr>\n",
       "    <tr>\n",
       "      <th>4</th>\n",
       "      <td>3.183015</td>\n",
       "      <td>-0.295111</td>\n",
       "      <td>-0.141718</td>\n",
       "      <td>-1.482809</td>\n",
       "      <td>1.021999</td>\n",
       "      <td>0.672964</td>\n",
       "      <td>-0.699280</td>\n",
       "      <td>1.127459</td>\n",
       "      <td>-1.624131</td>\n",
       "      <td>0.726501</td>\n",
       "      <td>0.058322</td>\n",
       "      <td>-1.599527</td>\n",
       "      <td>-1.616698</td>\n",
       "      <td>-0.121565</td>\n",
       "      <td>-1.173835</td>\n",
       "      <td>3.567170</td>\n",
       "      <td>6.583990</td>\n",
       "      <td>0.02752</td>\n",
       "      <td>3.567147</td>\n",
       "    </tr>\n",
       "  </tbody>\n",
       "</table>\n",
       "</div>"
      ],
      "text/plain": [
       "         0         1         2         3         4         5         6   \\\n",
       "0 -0.982106 -0.361394 -0.141718  0.117372 -1.177644 -0.175505  1.444946   \n",
       "1  0.540093 -0.379834 -0.141718  0.648068  0.173565  0.672964  0.679151   \n",
       "2  2.492513 -0.406770 -0.141718  0.787799  0.341157  0.672964  0.679151   \n",
       "3 -0.858659  0.415251 -0.141718 -0.091346 -1.334761 -0.175505  1.444946   \n",
       "4  3.183015 -0.295111 -0.141718 -1.482809  1.021999  0.672964 -0.699280   \n",
       "\n",
       "         7         8         9         10        11        12        13  \\\n",
       "0 -0.537715  0.872549 -0.198931  0.695694  0.630247  0.443861 -0.002837   \n",
       "1  0.981684 -1.333768  0.726501 -0.791508 -1.631712 -1.499989 -0.185322   \n",
       "2  0.934815 -1.273321  0.726501 -0.791508 -1.642058 -1.507777 -0.205570   \n",
       "3  0.601244  0.464531 -0.198931  0.695694  1.068522  1.117473  0.554601   \n",
       "4  1.127459 -1.624131  0.726501  0.058322 -1.599527 -1.616698 -0.121565   \n",
       "\n",
       "         14        15        16       17        18  \n",
       "0  2.160390 -0.917639 -1.286106  0.02752 -0.917669  \n",
       "1 -0.489298  0.775349  2.467324  0.02752  0.775313  \n",
       "2 -0.478428  2.979259  2.467324  0.02752  2.979235  \n",
       "3  1.410794 -0.987999 -1.286106  0.02752 -0.988034  \n",
       "4 -1.173835  3.567170  6.583990  0.02752  3.567147  "
      ]
     },
     "execution_count": 77,
     "metadata": {},
     "output_type": "execute_result"
    }
   ],
   "source": [
    "bb = scaler.fit(X)\n",
    "X1=bb.transform(X)\n",
    "pd.DataFrame(X1).head()\n"
   ]
  },
  {
   "cell_type": "code",
   "execution_count": 112,
   "metadata": {},
   "outputs": [
    {
     "name": "stdout",
     "output_type": "stream",
     "text": [
      "(170, 19)\n"
     ]
    },
    {
     "data": {
      "text/plain": [
       "array(['mp-976334', 'mp-861936', 'mp-861931', 'mp-867226', 'mp-30765 ',\n",
       "       'mp-23259 ', 'mp-11248 ', 'mp-1646  ', 'mp-23222 ', 'mp-976023',\n",
       "       'mp-976256', 'mp-22905 ', 'mp-934   ', 'mp-1138  ', 'mp-11489 ',\n",
       "       'mp-1934  ', 'mp-1437  ', 'mp-2012  ', 'mp-30764 ', 'mp-567395',\n",
       "       'mp-569849', 'mp-11644 ', 'mp-10890 ', 'mp-23703 ', 'mp-2743  ',\n",
       "       'mp-22899 ', 'mp-2286  ', 'mp-1153  ', 'mp-755309', 'mp-865868',\n",
       "       'mp-865866', 'mp-861629', 'mp-862297', 'mp-867196', 'mp-16349 ',\n",
       "       'mp-865912', 'mp-867927', 'mp-865793', 'mp-867834', 'mp-865444',\n",
       "       'mp-867253', 'mp-542435', 'mp-3201  ', 'mp-865231', 'mp-10180 ',\n",
       "       'mp-31168 ', 'mp-5920  ', 'mp-862657', 'mp-864598', 'mp-861616',\n",
       "       'mp-862316', 'mp-16271 ', 'mp-12558 ', 'mp-864631', 'mp-7575  ',\n",
       "       'mp-3887  ', 'mp-13944 ', 'mp-21026 ', 'mp-11947 ', 'mp-11512 ',\n",
       "       'mp-862321', 'mp-861896', 'mp-864930', 'mp-21029 ', 'mp-12411 ',\n",
       "       'mp-861666', 'mp-865872', 'mp-861901', 'mp-865582', 'mp-865795',\n",
       "       'mp-862555', 'mp-867924', 'mp-865935', 'mp-760375', 'mp-862290',\n",
       "       'mp-30820 ', 'mp-9472  ', 'mp-3158  ', 'mp-862815', 'mp-864630',\n",
       "       'mp-12564 ', 'mp-867250', 'mp-30758 ', 'mp-867251', 'mp-864597',\n",
       "       'mp-864601', 'mp-861658', 'mp-4604  ', 'mp-570213', 'mp-30404 ',\n",
       "       'mp-30405 ', 'mp-867148', 'mp-867272', 'mp-30648 ', 'mp-863727',\n",
       "       'mp-865924', 'mp-30763 ', 'mp-866194', 'mp-865893', 'mp-865986',\n",
       "       'mp-864614', 'mp-14753 ', 'mp-862684', 'mp-863659', 'mp-11490 ',\n",
       "       'mp-29633 ', 'mp-30817 ', 'mp-867119', 'mp-30816 ', 'mp-861875',\n",
       "       'mp-867206', 'mp-861905', 'mp-16343 ', 'mp-20265 ', 'mp-865731',\n",
       "       'mp-12580 ', 'mp-3161  ', 'mp-867222', 'mp-865936', 'mp-10181 ',\n",
       "       'mp-9124  ', 'mp-16238 ', 'mp-867829', 'mp-13914 ', 'mp-30821 ',\n",
       "       'mp-861625', 'mp-867258', 'mp-867252', 'mp-862610', 'mp-862737',\n",
       "       'mp-867293', 'mp-864997', 'mp-861733', 'mp-14476 ', 'mp-672340',\n",
       "       'mp-862717', 'mp-862632', 'mp-864762', 'mp-865863', 'mp-865870',\n",
       "       'mp-862318', 'mp-867121', 'mp-2987  ', 'mp-10182 ', 'mp-13915 ',\n",
       "       'mp-14827 ', 'mp-15988 ', 'mp-20363 ', 'mp-25385 ', 'mp-30818 ',\n",
       "       'mp-30819 ', 'mp-30591 ', 'mp-35841 ', 'mp-36111 ', 'mp-3726  ',\n",
       "       'mp-37906 ', 'mp-5077  ', 'mp-530399', 'mp-5670  ', 'mp-567097',\n",
       "       'mp-7473  ', 'mp-759877', 'mp-765966', 'mp-5515  ', 'mp-989579',\n",
       "       'mp-989512', 'mp-11806 ', 'mp-570379', 'mp-567652', 'mp-989405'],\n",
       "      dtype='<U9')"
      ]
     },
     "execution_count": 112,
     "metadata": {},
     "output_type": "execute_result"
    }
   ],
   "source": [
    "lattice = 'cubic'\n",
    "coeff=0\n",
    "data = spio.loadmat(lattice+'-data-posd-with-den.mat')\n",
    "X = data['xdata']\n",
    "y = data['ydata'][:,coeff]\n",
    "X1=np.delete(X,18,axis=1)\n",
    "print(X1.shape)\n",
    "X1[2,:]\n",
    "X=X1\n",
    "data['mps']"
   ]
  },
  {
   "cell_type": "code",
   "execution_count": 65,
   "metadata": {},
   "outputs": [
    {
     "data": {
      "text/plain": [
       "(171, 16)"
      ]
     },
     "execution_count": 65,
     "metadata": {},
     "output_type": "execute_result"
    }
   ],
   "source": [
    "xdatadf.values[:,0:16].shape"
   ]
  },
  {
   "cell_type": "code",
   "execution_count": 89,
   "metadata": {},
   "outputs": [
    {
     "data": {
      "text/html": [
       "<div>\n",
       "<style scoped>\n",
       "    .dataframe tbody tr th:only-of-type {\n",
       "        vertical-align: middle;\n",
       "    }\n",
       "\n",
       "    .dataframe tbody tr th {\n",
       "        vertical-align: top;\n",
       "    }\n",
       "\n",
       "    .dataframe thead th {\n",
       "        text-align: right;\n",
       "    }\n",
       "</style>\n",
       "<table border=\"1\" class=\"dataframe\">\n",
       "  <thead>\n",
       "    <tr style=\"text-align: right;\">\n",
       "      <th></th>\n",
       "      <th>0</th>\n",
       "      <th>1</th>\n",
       "      <th>2</th>\n",
       "      <th>3</th>\n",
       "      <th>4</th>\n",
       "      <th>5</th>\n",
       "      <th>6</th>\n",
       "      <th>7</th>\n",
       "      <th>8</th>\n",
       "      <th>9</th>\n",
       "      <th>10</th>\n",
       "      <th>11</th>\n",
       "      <th>12</th>\n",
       "      <th>13</th>\n",
       "      <th>14</th>\n",
       "      <th>15</th>\n",
       "      <th>16</th>\n",
       "      <th>17</th>\n",
       "      <th>18</th>\n",
       "    </tr>\n",
       "  </thead>\n",
       "  <tbody>\n",
       "    <tr>\n",
       "      <th>0</th>\n",
       "      <td>29.7050</td>\n",
       "      <td>14.929776</td>\n",
       "      <td>0.0</td>\n",
       "      <td>0.444402</td>\n",
       "      <td>0.460</td>\n",
       "      <td>14.0</td>\n",
       "      <td>9.333333</td>\n",
       "      <td>2.864868</td>\n",
       "      <td>0.920000</td>\n",
       "      <td>14.0</td>\n",
       "      <td>12.000000</td>\n",
       "      <td>4.387422</td>\n",
       "      <td>59.719105</td>\n",
       "      <td>2.825278</td>\n",
       "      <td>0.050235</td>\n",
       "      <td>3.303811</td>\n",
       "      <td>0.5</td>\n",
       "      <td>1.0</td>\n",
       "      <td>3.303971</td>\n",
       "    </tr>\n",
       "    <tr>\n",
       "      <th>1</th>\n",
       "      <td>81.5500</td>\n",
       "      <td>14.847659</td>\n",
       "      <td>0.0</td>\n",
       "      <td>0.591787</td>\n",
       "      <td>0.976</td>\n",
       "      <td>18.0</td>\n",
       "      <td>6.000000</td>\n",
       "      <td>3.139741</td>\n",
       "      <td>0.271111</td>\n",
       "      <td>18.0</td>\n",
       "      <td>8.000000</td>\n",
       "      <td>2.758826</td>\n",
       "      <td>19.796879</td>\n",
       "      <td>2.758758</td>\n",
       "      <td>0.016838</td>\n",
       "      <td>9.120210</td>\n",
       "      <td>3.6</td>\n",
       "      <td>1.0</td>\n",
       "      <td>9.120451</td>\n",
       "    </tr>\n",
       "    <tr>\n",
       "      <th>2</th>\n",
       "      <td>148.0480</td>\n",
       "      <td>14.727705</td>\n",
       "      <td>0.0</td>\n",
       "      <td>0.630593</td>\n",
       "      <td>1.040</td>\n",
       "      <td>18.0</td>\n",
       "      <td>6.000000</td>\n",
       "      <td>3.131262</td>\n",
       "      <td>0.288889</td>\n",
       "      <td>18.0</td>\n",
       "      <td>8.000000</td>\n",
       "      <td>2.751377</td>\n",
       "      <td>19.636940</td>\n",
       "      <td>2.751377</td>\n",
       "      <td>0.016975</td>\n",
       "      <td>16.691922</td>\n",
       "      <td>3.6</td>\n",
       "      <td>1.0</td>\n",
       "      <td>16.692338</td>\n",
       "    </tr>\n",
       "    <tr>\n",
       "      <th>3</th>\n",
       "      <td>33.9095</td>\n",
       "      <td>18.388386</td>\n",
       "      <td>0.0</td>\n",
       "      <td>0.386437</td>\n",
       "      <td>0.400</td>\n",
       "      <td>14.0</td>\n",
       "      <td>9.333333</td>\n",
       "      <td>3.070916</td>\n",
       "      <td>0.800000</td>\n",
       "      <td>14.0</td>\n",
       "      <td>12.000000</td>\n",
       "      <td>4.702977</td>\n",
       "      <td>73.553543</td>\n",
       "      <td>3.028477</td>\n",
       "      <td>0.040787</td>\n",
       "      <td>3.062081</td>\n",
       "      <td>0.5</td>\n",
       "      <td>1.0</td>\n",
       "      <td>3.062221</td>\n",
       "    </tr>\n",
       "    <tr>\n",
       "      <th>4</th>\n",
       "      <td>171.5660</td>\n",
       "      <td>15.224955</td>\n",
       "      <td>0.0</td>\n",
       "      <td>0.000000</td>\n",
       "      <td>1.300</td>\n",
       "      <td>18.0</td>\n",
       "      <td>0.000000</td>\n",
       "      <td>3.166113</td>\n",
       "      <td>0.185714</td>\n",
       "      <td>18.0</td>\n",
       "      <td>10.285714</td>\n",
       "      <td>2.781999</td>\n",
       "      <td>17.399948</td>\n",
       "      <td>2.781999</td>\n",
       "      <td>0.008210</td>\n",
       "      <td>18.711737</td>\n",
       "      <td>7.0</td>\n",
       "      <td>1.0</td>\n",
       "      <td>18.712191</td>\n",
       "    </tr>\n",
       "  </tbody>\n",
       "</table>\n",
       "</div>"
      ],
      "text/plain": [
       "         0          1    2         3      4     5         6         7   \\\n",
       "0   29.7050  14.929776  0.0  0.444402  0.460  14.0  9.333333  2.864868   \n",
       "1   81.5500  14.847659  0.0  0.591787  0.976  18.0  6.000000  3.139741   \n",
       "2  148.0480  14.727705  0.0  0.630593  1.040  18.0  6.000000  3.131262   \n",
       "3   33.9095  18.388386  0.0  0.386437  0.400  14.0  9.333333  3.070916   \n",
       "4  171.5660  15.224955  0.0  0.000000  1.300  18.0  0.000000  3.166113   \n",
       "\n",
       "         8     9          10        11         12        13        14  \\\n",
       "0  0.920000  14.0  12.000000  4.387422  59.719105  2.825278  0.050235   \n",
       "1  0.271111  18.0   8.000000  2.758826  19.796879  2.758758  0.016838   \n",
       "2  0.288889  18.0   8.000000  2.751377  19.636940  2.751377  0.016975   \n",
       "3  0.800000  14.0  12.000000  4.702977  73.553543  3.028477  0.040787   \n",
       "4  0.185714  18.0  10.285714  2.781999  17.399948  2.781999  0.008210   \n",
       "\n",
       "          15   16   17         18  \n",
       "0   3.303811  0.5  1.0   3.303971  \n",
       "1   9.120210  3.6  1.0   9.120451  \n",
       "2  16.691922  3.6  1.0  16.692338  \n",
       "3   3.062081  0.5  1.0   3.062221  \n",
       "4  18.711737  7.0  1.0  18.712191  "
      ]
     },
     "execution_count": 89,
     "metadata": {},
     "output_type": "execute_result"
    }
   ],
   "source": [
    "pd.DataFrame(X).head()"
   ]
  },
  {
   "cell_type": "code",
   "execution_count": null,
   "metadata": {},
   "outputs": [],
   "source": []
  }
 ],
 "metadata": {
  "kernelspec": {
   "display_name": "Python 3",
   "language": "python",
   "name": "python3"
  },
  "language_info": {
   "codemirror_mode": {
    "name": "ipython",
    "version": 3
   },
   "file_extension": ".py",
   "mimetype": "text/x-python",
   "name": "python",
   "nbconvert_exporter": "python",
   "pygments_lexer": "ipython3",
   "version": "3.6.4"
  }
 },
 "nbformat": 4,
 "nbformat_minor": 2
}
