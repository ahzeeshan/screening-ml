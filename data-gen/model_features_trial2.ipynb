{
 "cells": [
  {
   "cell_type": "code",
   "execution_count": 1,
   "metadata": {},
   "outputs": [
    {
     "name": "stdout",
     "output_type": "stream",
     "text": [
      "Once deleted, variables cannot be recovered. Proceed (y/[n])? y\n"
     ]
    }
   ],
   "source": [
    "%reset"
   ]
  },
  {
   "cell_type": "code",
   "execution_count": 2,
   "metadata": {},
   "outputs": [],
   "source": [
    "import warnings\n",
    "warnings.filterwarnings('ignore')\n",
    "from sklearn.datasets import load_iris\n",
    "from matplotlib import pyplot as plt\n",
    "from sklearn.svm import SVC\n",
    "from sklearn.model_selection import GridSearchCV, cross_val_score, KFold, cross_val_predict\n",
    "import numpy as np\n",
    "from sklearn import linear_model\n",
    "import scipy.io as spio\n",
    "from sklearn.multioutput import MultiOutputRegressor\n",
    "from sklearn import preprocessing\n",
    "from sklearn.pipeline import Pipeline\n",
    "from sklearn.ensemble import AdaBoostRegressor, GradientBoostingRegressor, RandomForestRegressor\n",
    "from sklearn.tree import DecisionTreeRegressor\n",
    "from sklearn.svm import SVR\n",
    "from sklearn.kernel_ridge import KernelRidge\n",
    "from sklearn.gaussian_process import GaussianProcessRegressor, kernels\n",
    "import shelve\n",
    "import pandas as pd\n",
    "import pickle\n",
    "from sklearn.metrics import *\n",
    "import time\n",
    "import json"
   ]
  },
  {
   "cell_type": "code",
   "execution_count": 7,
   "metadata": {},
   "outputs": [],
   "source": [
    "def evaluate_avg(model, X, y, n=100, scoring = 'r2'):\n",
    "    #cv = KFold(n_splits=3, shuffle=True)\n",
    "    scoreavg = 0\n",
    "    for i in range(n):\n",
    "        cv = KFold(n_splits=3, random_state = i)\n",
    "        scores = cross_val_score(model, X=X, y=y, scoring = scoring, cv=cv)\n",
    "        #print('Trial: %i, msle: %.3f' % (i, np.mean(scores)))\n",
    "        scoreavg += np.mean(scores)\n",
    "    scoreavg = scoreavg / n\n",
    "    print(scoreavg)\n",
    "    return scoreavg"
   ]
  },
  {
   "cell_type": "code",
   "execution_count": 8,
   "metadata": {},
   "outputs": [],
   "source": [
    "def evaluate_avg_eigen(reg1, reg2, reg3, X, ydata, n = 100):\n",
    "    #cv = KFold(n_splits=3, shuffle=True)\n",
    "    scoreavg = np.array([0., 0., 0.])\n",
    "    # B=(C11+2C12)/3\n",
    "    B = (ydata[:,0] + 2. * ydata[:,1]) / 3.\n",
    "    A = ydata[:,0] - ydata[:,1]\n",
    "    C44 = ydata[:,2]\n",
    "    C12 = ydata[:,1]\n",
    "    for i in range(n):\n",
    "        print(i)\n",
    "        cv = KFold(n_splits=3, random_state = i)\n",
    "        C11pred = cross_val_predict(reg1, X=X, y=ydata[:,0], cv = cv)\n",
    "        C12pred = cross_val_predict(reg2, X=X, y=ydata[:,1], cv = cv)\n",
    "        C44pred = cross_val_predict(reg3, X=X, y=ydata[:,2], cv = cv)\n",
    "        Bpred = (C11pred + 2. * C12pred) / 3.\n",
    "        Apred = C11pred - C12pred\n",
    "        \n",
    "        #print(pd.DataFrame({'A':A, 'Apred': Apred, 'C12': C12, 'C12pred': C12pred, 'C11': ydata[:,0], 'C11pred': C11pred}))\n",
    "        \n",
    "        df = pd.DataFrame({'Bpred': Bpred, 'Apred': Apred, 'C44pred': C44pred, 'B': B, 'A': A, 'C44': C44})\n",
    "        df = df.drop(df[(df.Bpred<0) | (df.Apred<0) | (df.C44pred<0)].index)\n",
    "        scoreavg += np.array([mean_squared_error(np.log(df.B), np.log(df.Bpred)), mean_squared_error(np.log(df.A), np.log(df.Apred)), mean_squared_error(np.log(df.C44), np.log(df.C44pred))])\n",
    "        print(scoreavg)\n",
    "    scoreavg = scoreavg / n\n",
    "    return scoreavg"
   ]
  },
  {
   "cell_type": "code",
   "execution_count": 10,
   "metadata": {},
   "outputs": [
    {
     "data": {
      "text/plain": [
       "(170, 17)"
      ]
     },
     "execution_count": 10,
     "metadata": {},
     "output_type": "execute_result"
    }
   ],
   "source": [
    "lattice = 'cubic'\n",
    "column_names = ['avg atomic mass','vol per atom','std Li neighbor count','std Li bond ionicity','Li bond ionicity','Li neighbor count','Li-Li bonds per Li','avg Li bond length','sublattice bond ionicity','sublattice neighbor count','anion framework coordination','min anion-anion sep dist','vol per anion','min Li-anion sep dist','Li number conc','mass density','min Li-Li sep dist','sublattice electronegativity','RBI','RNB']\n",
    "coeff=0\n",
    "data = spio.loadmat(lattice+'-data-posd-features.mat')\n",
    "xdatadf = pd.DataFrame(data['xdata'], columns = column_names)\n",
    "#column_names_old = ['avg atomic mass','vol per atom','std Li neighbor count','std Li bond ionicity','Li bond ionicity','Li neighbor count','Li-Li bonds per Li','avg Li bond length','sublattice bond ionicity','sublattice neighbor count','anion framework coordination','min anion-anion sep dist','vol per anion','min Li-anion sep dist','Li number conc','mass density','min Li-Li sep dist','sublattice electronegativity','RBI','RNB']\n",
    "column_names_for_ml = ['vol per atom','std Li neighbor count','std Li bond ionicity','Li bond ionicity','Li neighbor count','Li-Li bonds per Li','sublattice bond ionicity','sublattice neighbor count','anion framework coordination','min anion-anion sep dist','vol per anion','min Li-anion sep dist','mass density','min Li-Li sep dist','sublattice electronegativity','RBI','RNB']\n",
    "X = xdatadf[column_names_for_ml].values\n",
    "#X = np.hstack((xdatadf.values[:,:16],xdatadf.values[:,18:]))\n",
    "y = data['ydata'][:,coeff]\n",
    "X.shape"
   ]
  },
  {
   "cell_type": "code",
   "execution_count": 11,
   "metadata": {},
   "outputs": [],
   "source": [
    "ntdata = spio.loadmat(lattice+'-non-training-data-features.mat')\n",
    "#Xnt=np.delete(Xnt,18,axis=1)\n",
    "Xntdatadf = pd.DataFrame(ntdata['xntdata'],columns = column_names)\n",
    "Xnt = Xntdatadf[column_names_for_ml].values"
   ]
  },
  {
   "cell_type": "code",
   "execution_count": null,
   "metadata": {},
   "outputs": [],
   "source": []
  },
  {
   "cell_type": "code",
   "execution_count": null,
   "metadata": {},
   "outputs": [],
   "source": []
  },
  {
   "cell_type": "code",
   "execution_count": 7,
   "metadata": {},
   "outputs": [],
   "source": [
    "models_and_parameters = {\n",
    "  'lasso': (linear_model.Lasso(),\n",
    "              {'reg__alpha': [0.01, 0.1, 0.5, 1.,5.,10.]}),\n",
    "    'elnet': (linear_model.ElasticNet(),\n",
    "              {'reg__alpha':[0.01, 0.1, 0.5, 1, 5., 10.], 'reg__l1_ratio':[0.,0.1,0.5,1.,2.1]}),\n",
    "    'krg': (KernelRidge(),\n",
    "            {'reg__kernel':['rbf','linear'], 'reg__alpha': [1e0, 0.1, 1e-2, 1e-3], 'reg__gamma': np.logspace(-2, 2, 5)}),\n",
    "    'gpr': (GaussianProcessRegressor(kernel = kernels.RBF()),\n",
    "            {'reg__kernel__length_scale':[0.01, 0.1, 1., 2., 10., 100.], 'reg__kernel__length_scale_bounds':[(1e-2,1.),(1e-1,1.),(1e-1,10.),(1.,10.),(1.,100.)\\\n",
    ",(1e-2,1e2)]}),\n",
    "    'gbr': (GradientBoostingRegressor(learning_rate=0.01, min_samples_split=2, max_features='sqrt', loss='ls', subsample=0.4),\n",
    "            {'reg__max_depth': [2,3,4,10,20,50],'reg__min_samples_leaf': [2,3,4,10], 'reg__learning_rate':[0.01, 0.1], 'reg__max_features':['auto', 'sqrt', 'l\\\n",
    "og2']}),\n",
    "    'ada': (AdaBoostRegressor(base_estimator=DecisionTreeRegressor(),n_estimators=500,learning_rate=0.01),#max_depth alone doesn't work probably               \n",
    "            {'reg__base_estimator__max_depth': [2,3,4,10], 'reg__base_estimator':[DecisionTreeRegressor(max_depth = 4, max_features='auto'),\n",
    "                                                                                    DecisionTreeRegressor(max_depth = None, max_features='auto'),\n",
    "                                                                                    DecisionTreeRegressor(max_depth = 4, max_features='sqrt'),\n",
    "                                                                                     DecisionTreeRegressor(max_depth = None, max_features='sqrt')]}),\n",
    "    'svr': (SVR(),\n",
    "            {'reg__C': [0.01, 0.05, 0.1, 1], 'reg__kernel': ['linear', 'rbf']}),\n",
    "    'rf': (RandomForestRegressor(),\n",
    "           {'reg__max_depth': [None, 5, 10, 50]}),\n",
    "    'brg': (linear_model.BayesianRidge(fit_intercept=True),\n",
    "            {'reg__alpha_1': [1.e-6, 1.e-5]}),\n",
    "    'lars': (linear_model.Lars(fit_intercept = True, normalize=False),\n",
    "             {'reg__n_nonzero_coefs': [5, 10, 50, 500, np.inf]}),\n",
    "    'ard': (linear_model.ARDRegression(),\n",
    "            {'reg__alpha_1':[1.e-6, 1.e-5]})}"
   ]
  },
  {
   "cell_type": "code",
   "execution_count": 8,
   "metadata": {},
   "outputs": [],
   "source": [
    "scaler = preprocessing.StandardScaler()\n",
    "inner_cv = KFold(n_splits=3, shuffle=True)\n",
    "outer_cv = KFold(n_splits=3, shuffle=True)"
   ]
  },
  {
   "cell_type": "code",
   "execution_count": null,
   "metadata": {},
   "outputs": [],
   "source": []
  },
  {
   "cell_type": "code",
   "execution_count": 44,
   "metadata": {},
   "outputs": [],
   "source": [
    "model = GradientBoostingRegressor(n_estimators = 500, learning_rate=0.01, loss='ls')\n",
    "params = {'reg__max_depth': [2,3,4,10,20,50],\n",
    "            'reg__min_samples_leaf': [2,3,4,10], \n",
    "            'reg__learning_rate':[0.01, 0.1], \n",
    "            'reg__max_features':['auto', 'sqrt', 'log2'],\n",
    "            'reg__min_samples_split':[2,3,4]}\n",
    "pipeline = Pipeline([('transformer', scaler), ('reg', model)])"
   ]
  },
  {
   "cell_type": "code",
   "execution_count": 45,
   "metadata": {},
   "outputs": [],
   "source": [
    "reg1 = GridSearchCV(estimator=pipeline, param_grid=params, cv=inner_cv, n_jobs=-1)"
   ]
  },
  {
   "cell_type": "code",
   "execution_count": 36,
   "metadata": {},
   "outputs": [],
   "source": [
    "#Without Grid\n",
    "model = GradientBoostingRegressor(n_estimators = 500, \n",
    "                                learning_rate = 0.01, \n",
    "                                  max_depth = 3, \n",
    "                                max_features = 'auto', \n",
    "                                  min_samples_leaf = 2, \n",
    "                                  min_samples_split = 3)\n",
    "                                  #subsample = 0.4)\n",
    "pipeline = Pipeline([('transformer', scaler), ('reg', model)])\n",
    "reg1 = Pipeline([('transformer', scaler), ('reg', model)])"
   ]
  },
  {
   "cell_type": "code",
   "execution_count": 27,
   "metadata": {},
   "outputs": [
    {
     "name": "stdout",
     "output_type": "stream",
     "text": [
      "{'reg__learning_rate': 0.01, 'reg__max_depth': 4, 'reg__max_features': 'auto', 'reg__min_samples_leaf': 3, 'reg__min_samples_split': 3}\n",
      "[0.52997895 0.5886626  0.63435822]\n",
      "Cross-validation results:\n",
      "Folds: 3, mean r2: 0.584\n",
      "Time elapsed:  181.0330228805542 seconds\n"
     ]
    }
   ],
   "source": [
    "#One with GridSearch\n",
    "start_time = time.time()\n",
    "reg1.fit(X,y)\n",
    "print(reg1.best_params_)\n",
    "r2scores=cross_val_score(reg1, X=X, y=y, scoring='r2',cv=outer_cv, n_jobs = -1)\n",
    "print(r2scores)\n",
    "print('Cross-validation results:')\n",
    "print('Folds: %i, mean r2: %.3f' % (len(r2scores), np.mean(r2scores)))\n",
    "print(\"Time elapsed:  %s seconds\" % (time.time() - start_time))"
   ]
  },
  {
   "cell_type": "code",
   "execution_count": 50,
   "metadata": {},
   "outputs": [
    {
     "name": "stdout",
     "output_type": "stream",
     "text": [
      "{'reg__learning_rate': 0.01, 'reg__max_depth': 20, 'reg__max_features': 'sqrt', 'reg__min_samples_leaf': 10, 'reg__min_samples_split': 2}\n",
      "[0.71925126 0.67068838 0.48997001]\n",
      "Cross-validation results:\n",
      "Folds: 3, mean r2: 0.627\n",
      "-0.12681125861939985\n",
      "Time elapsed:  26.83945083618164 seconds\n"
     ]
    }
   ],
   "source": [
    "#One with GridSearch\n",
    "start_time = time.time()\n",
    "reg1.fit(X,y)\n",
    "print(reg1.best_params_)\n",
    "r2scores=cross_val_score(reg1.best_estimator_, X=X, y=y, scoring='r2',cv=outer_cv)\n",
    "print(r2scores)\n",
    "print('Cross-validation results:')\n",
    "print('Folds: %i, mean r2: %.3f' % (len(r2scores), np.mean(r2scores)))\n",
    "evaluate_avg(reg1.best_estimator_, X, data['ydata'][:,0], n = 10 , scoring='neg_mean_squared_log_error')\n",
    "print(\"Time elapsed:  %s seconds\" % (time.time() - start_time))"
   ]
  },
  {
   "cell_type": "code",
   "execution_count": 13,
   "metadata": {},
   "outputs": [
    {
     "name": "stdout",
     "output_type": "stream",
     "text": [
      "Trial: 0, msle: -0.112\n",
      "Trial: 1, msle: -0.122\n",
      "Trial: 2, msle: -0.115\n",
      "Trial: 3, msle: -0.120\n",
      "Trial: 4, msle: -0.123\n",
      "Trial: 5, msle: -0.123\n",
      "Trial: 6, msle: -0.131\n",
      "Trial: 7, msle: -0.128\n",
      "Trial: 8, msle: -0.125\n",
      "Trial: 9, msle: -0.173\n",
      "Trial: 10, msle: -0.113\n",
      "Trial: 11, msle: -0.116\n",
      "Trial: 12, msle: -0.115\n",
      "Trial: 13, msle: -0.118\n",
      "Trial: 14, msle: -0.134\n",
      "Trial: 15, msle: -0.127\n",
      "Trial: 16, msle: -0.126\n",
      "Trial: 17, msle: -0.131\n",
      "Trial: 18, msle: -0.132\n",
      "Trial: 19, msle: -0.136\n",
      "Trial: 20, msle: -0.108\n",
      "Trial: 21, msle: -0.137\n",
      "Trial: 22, msle: -0.125\n",
      "Trial: 23, msle: -0.113\n",
      "Trial: 24, msle: -0.105\n",
      "Trial: 25, msle: -0.112\n",
      "Trial: 26, msle: -0.146\n",
      "Trial: 27, msle: -0.121\n",
      "Trial: 28, msle: -0.152\n",
      "Trial: 29, msle: -0.130\n",
      "Trial: 30, msle: -0.120\n",
      "Trial: 31, msle: -0.112\n",
      "Trial: 32, msle: -0.113\n",
      "Trial: 33, msle: -0.134\n",
      "Trial: 34, msle: -0.124\n",
      "Trial: 35, msle: -0.126\n",
      "Trial: 36, msle: -0.149\n",
      "Trial: 37, msle: -0.127\n",
      "Trial: 38, msle: -0.115\n",
      "Trial: 39, msle: -0.110\n",
      "Trial: 40, msle: -0.121\n",
      "Trial: 41, msle: -0.136\n",
      "Trial: 42, msle: -0.108\n",
      "Trial: 43, msle: -0.114\n",
      "Trial: 44, msle: -0.128\n",
      "Trial: 45, msle: -0.119\n",
      "Trial: 46, msle: -0.118\n",
      "Trial: 47, msle: -0.163\n",
      "Trial: 48, msle: -0.121\n",
      "Trial: 49, msle: -0.125\n",
      "Trial: 50, msle: -0.116\n",
      "Trial: 51, msle: -0.137\n",
      "Trial: 52, msle: -0.124\n",
      "Trial: 53, msle: -0.134\n",
      "Trial: 54, msle: -0.130\n",
      "Trial: 55, msle: -0.115\n",
      "Trial: 56, msle: -0.134\n",
      "Trial: 57, msle: -0.114\n",
      "Trial: 58, msle: -0.125\n",
      "Trial: 59, msle: -0.123\n",
      "Trial: 60, msle: -0.117\n",
      "Trial: 61, msle: -0.115\n",
      "Trial: 62, msle: -0.123\n",
      "Trial: 63, msle: -0.111\n",
      "Trial: 64, msle: -0.106\n",
      "Trial: 65, msle: -0.138\n",
      "Trial: 66, msle: -0.111\n",
      "Trial: 67, msle: -0.120\n",
      "Trial: 68, msle: -0.101\n",
      "Trial: 69, msle: -0.126\n",
      "Trial: 70, msle: -0.118\n",
      "Trial: 71, msle: -0.125\n",
      "Trial: 72, msle: -0.129\n",
      "Trial: 73, msle: -0.143\n",
      "Trial: 74, msle: -0.117\n",
      "Trial: 75, msle: -0.117\n",
      "Trial: 76, msle: -0.124\n",
      "Trial: 77, msle: -0.123\n",
      "Trial: 78, msle: -0.110\n",
      "Trial: 79, msle: -0.124\n",
      "Trial: 80, msle: -0.119\n",
      "Trial: 81, msle: -0.115\n",
      "Trial: 82, msle: -0.122\n",
      "Trial: 83, msle: -0.130\n",
      "Trial: 84, msle: -0.118\n",
      "Trial: 85, msle: -0.134\n",
      "Trial: 86, msle: -0.117\n",
      "Trial: 87, msle: -0.120\n",
      "Trial: 88, msle: -0.118\n",
      "Trial: 89, msle: -0.114\n",
      "Trial: 90, msle: -0.128\n",
      "Trial: 91, msle: -0.114\n",
      "Trial: 92, msle: -0.121\n",
      "Trial: 93, msle: -0.118\n",
      "Trial: 94, msle: -0.113\n",
      "Trial: 95, msle: -0.116\n",
      "Trial: 96, msle: -0.132\n",
      "Trial: 97, msle: -0.110\n",
      "Trial: 98, msle: -0.117\n",
      "Trial: 99, msle: -0.128\n",
      "-0.12309019546582586\n"
     ]
    }
   ],
   "source": [
    "#Without Grid Search\n",
    "r2avg = 0\n",
    "ntimes = 100\n",
    "for i in range(ntimes):\n",
    "    outer_cv = KFold(n_splits=3, shuffle=True)\n",
    "    #reg1.fit(X,y)\n",
    "    r2scores=cross_val_score(reg1, X=X, y=y, scoring='neg_mean_squared_log_error', cv=outer_cv)\n",
    "    #print(r2scores)\n",
    "    #print('Cross-validation results:')\n",
    "    print('Trial: %i, msle: %.3f' % (i, np.mean(r2scores)))\n",
    "    #if np.mean(r2scores)>0.694:\n",
    "    #    print('FOUND')\n",
    "    #    break\n",
    "    r2avg += np.mean(r2scores)\n",
    "r2avg = r2avg/ntimes\n",
    "print(r2avg)"
   ]
  },
  {
   "cell_type": "code",
   "execution_count": 89,
   "metadata": {},
   "outputs": [
    {
     "name": "stdout",
     "output_type": "stream",
     "text": [
      "0.5960364837923957\n",
      "0.7887987628937134\n",
      "0.5985546569333622\n"
     ]
    },
    {
     "data": {
      "text/plain": [
       "0.5985546569333622"
      ]
     },
     "execution_count": 89,
     "metadata": {},
     "output_type": "execute_result"
    }
   ],
   "source": [
    "evaluate_avg(reg1.best_estimator_, X, data['ydata'][:,0], n = 10 , scoring='r2')\n",
    "evaluate_avg(reg2.best_estimator_, X, data['ydata'][:,1], n = 10 , scoring='r2')\n",
    "evaluate_avg(reg3.best_estimator_, X, data['ydata'][:,2], n = 10 , scoring='r2')"
   ]
  },
  {
   "cell_type": "code",
   "execution_count": 76,
   "metadata": {},
   "outputs": [
    {
     "name": "stdout",
     "output_type": "stream",
     "text": [
      "0.790160174748328\n"
     ]
    },
    {
     "data": {
      "text/plain": [
       "0.790160174748328"
      ]
     },
     "execution_count": 76,
     "metadata": {},
     "output_type": "execute_result"
    }
   ],
   "source": [
    "evaluate_avg(reg2.best_estimator_, X, data['ydata'][:,1], n = 10)# , scoring='neg_mean_squared_log_error')"
   ]
  },
  {
   "cell_type": "code",
   "execution_count": 53,
   "metadata": {},
   "outputs": [
    {
     "name": "stdout",
     "output_type": "stream",
     "text": [
      "{'reg__learning_rate': 0.01, 'reg__max_depth': 20, 'reg__max_features': 'sqrt', 'reg__min_samples_leaf': 10, 'reg__min_samples_split': 2}\n"
     ]
    }
   ],
   "source": [
    "print(reg1.best_params_)"
   ]
  },
  {
   "cell_type": "code",
   "execution_count": 15,
   "metadata": {},
   "outputs": [
    {
     "data": {
      "text/plain": [
       "array([ 41.45193496,  43.91545247,  45.78645338,  71.35070792,\n",
       "        51.89575509,  51.30420475,  50.06252435,  50.74518816,\n",
       "       102.4470744 ,  44.44713518,  51.79150381,  37.31184781,\n",
       "        96.01958333,  88.20957289,  53.69860629, 100.26931705,\n",
       "        91.38796468,  53.42966409, 125.13060459,  52.60222808,\n",
       "        41.97245201,  48.05725139,  54.91357628,  30.51334783,\n",
       "        48.05725139, 102.14173732,  46.84629001,  46.29390671,\n",
       "        48.83438522,  45.88097651,  38.61391444, 113.48692407,\n",
       "        44.20056299, 188.53056241,  33.07573739,  50.50528864,\n",
       "        55.66285159,  44.31815834,  48.22864343,  58.91773608,\n",
       "        45.77416061,  28.78686576,  97.33291543,  53.74932121,\n",
       "       138.77310718,  54.10949093,  56.69885165,  72.52422406,\n",
       "        67.67893934,  89.05531698,  65.16844138,  55.2602971 ,\n",
       "        68.35683223,  40.61002481,  98.36296065,  64.48588665,\n",
       "       149.23866696,  50.92964281, 128.46944698, 104.05962472,\n",
       "        69.65803834,  54.2878039 , 102.01054542,  73.57301232,\n",
       "       153.84470206,  74.2681442 , 102.01054542,  76.81429453,\n",
       "        78.42949924,  57.87757994,  62.45891036,  92.56675458,\n",
       "        65.55330143, 138.67218116,  72.94481851,  71.45037424,\n",
       "        65.80993298,  53.93657353, 129.72868318,  64.13688618,\n",
       "       125.13622141, 184.61672942, 163.2375409 , 190.69864481,\n",
       "        72.94481851,  75.2889966 ,  43.90708101,  53.56957449,\n",
       "       113.17695449, 111.01163321, 200.23842932,  73.1900993 ,\n",
       "       112.68510783,  99.35584312, 165.61516232,  63.95665947,\n",
       "        74.27864987,  63.34649015, 104.42635544,  45.72763414,\n",
       "       120.90173137,  59.98969543, 168.22508212, 161.73036868,\n",
       "       145.74966997,  77.68500274,  97.92547996,  88.87443343,\n",
       "        56.7949904 ,  76.75000113,  80.05195908,  75.14469601,\n",
       "        87.38178647,  70.39798604,  73.57301232, 207.17658294,\n",
       "       145.20464197,  52.25034346, 104.42635544,  92.56675458,\n",
       "        53.19330676, 118.86840911, 114.84256291,  72.94481851,\n",
       "        67.51171353,  52.52431339,  58.49674424, 255.42499057,\n",
       "       127.34513479,  79.37664621,  67.2201571 ,  60.59144395,\n",
       "        72.64291854,  60.84616239,  38.52902695, 102.01054542,\n",
       "       190.02623703, 106.87321474, 100.86774106,  43.83100392,\n",
       "       102.1656615 , 102.01054542,  64.97823093, 279.91547753,\n",
       "        54.46833116,  54.35837021, 110.09106616,  37.64542575,\n",
       "        66.14732343,  96.77730008, 155.46731792,  82.68036562,\n",
       "        70.31872235,  79.09415984,  67.67893934, 102.41658326,\n",
       "        62.48687423, 101.07975507,  77.1926719 ,  67.67893934,\n",
       "       108.61377739,  71.77258952, 217.04316081,  81.70990546,\n",
       "       105.94456594, 220.74524373,  57.98890247, 104.05962472,\n",
       "       127.66279894,  59.11047415, 131.29923588,  98.36296065,\n",
       "       100.63246174,  37.62199231,  96.68464829,  89.38740998,\n",
       "        38.93191013, 179.47342614,  37.64542575, 127.17302808,\n",
       "        94.91119971,  78.90502593,  47.05534237,  75.39027354,\n",
       "        82.21191088,  71.24070004,  61.88032095,  81.97349797,\n",
       "        81.6650256 ,  95.95197984,  77.68500274,  54.3919773 ,\n",
       "        63.34649015,  50.92964281,  63.12175297,  89.7809207 ,\n",
       "        91.40325966, 158.52926414,  56.7949904 ,  46.3020392 ,\n",
       "        37.52528629,  94.72670638,  62.5668091 ,  90.62278628,\n",
       "       100.37780258, 104.30607865,  85.21546146, 249.36474333,\n",
       "       102.01054542,  37.64542575,  57.10599558,  49.3997875 ,\n",
       "        38.63747409,  40.22403081,  63.31901921,  71.5986988 ,\n",
       "       118.45006615,  82.21191088, 143.40587541, 141.21149737,\n",
       "        43.93410568, 102.6874083 ,  88.19380655,  79.2453523 ,\n",
       "        66.98556865,  72.94481851, 150.7837712 , 113.81986061,\n",
       "        73.57301232, 102.01054542, 115.48114532,  69.0551364 ,\n",
       "        48.52851866, 154.17755312, 155.82232144,  66.88474287,\n",
       "        86.63950696,  38.93191013,  57.39672704,  63.6028286 ,\n",
       "        65.70736338,  49.34074018, 100.28793698, 115.23707286,\n",
       "        36.28090925, 117.28815584, 202.47507449, 102.01054542,\n",
       "        60.03885516, 125.13925911,  58.92071992,  72.95031228,\n",
       "       107.03547263,  53.93657353,  59.67185612,  52.82630772,\n",
       "        70.82641891,  44.49189587,  38.63747409,  63.61169413,\n",
       "        72.55579959,  39.19570373,  87.51281718,  76.89196762,\n",
       "        77.1926719 ,  52.6680067 , 108.61377739, 166.31701489,\n",
       "        52.60519233, 126.7357552 ,  53.09874495, 103.03584   ,\n",
       "       111.78239588,  80.05195908, 157.92598171, 205.24688191,\n",
       "        59.98969543,  60.62980294,  62.68881115, 268.06559155,\n",
       "        75.11137336, 278.21641401,  62.08781151,  60.13109525,\n",
       "        82.4677691 ,  63.05676879,  98.35550329, 149.95858336,\n",
       "        57.2962472 , 110.08052762, 118.92834887,  74.08098752,\n",
       "        38.81177067,  93.24200195, 145.14161954, 119.6436281 ,\n",
       "        69.0551364 , 107.42687274,  58.25835983,  77.1946928 ,\n",
       "       178.56782595,  80.32541401,  80.41448319,  94.570206  ,\n",
       "        79.09415984, 102.01054542,  82.21191088,  39.43319649,\n",
       "        71.46726276,  68.47651212, 102.01054542,  79.49975523,\n",
       "       108.22026667,  63.0410935 ,  52.7628153 ,  34.42743325,\n",
       "        50.02602277, 174.51846127,  50.92964281,  61.0410379 ,\n",
       "        77.05507874,  75.63994151,  64.42923431, 126.6223971 ,\n",
       "        69.32681748,  93.24200195,  71.92369908,  71.61568857,\n",
       "        58.72209178,  62.97949111,  64.69095948,  92.19941862,\n",
       "        77.68500274,  53.01001181,  53.09874495, 129.35651668,\n",
       "        63.46459552, 134.31301337, 256.99472136,  96.34225937,\n",
       "        99.41036946,  81.16251409,  72.33983723,  63.34649015,\n",
       "        72.94481851,  89.0806794 , 205.60274221, 101.6438147 ,\n",
       "       225.61362542,  66.77813985,  78.25777014,  89.11719632,\n",
       "        81.48140021, 103.19154133, 104.26823533,  96.34225937,\n",
       "        91.76469174, 139.78686844, 106.19796737, 102.36941842,\n",
       "       151.0347533 , 229.19690585, 104.26823533, 151.0347533 ,\n",
       "       290.31080666,  75.47724479, 158.90705247,  60.75425433,\n",
       "        62.91222369, 181.93850185, 162.8027953 , 108.35791917,\n",
       "       245.60420442, 129.31419584, 116.06323936, 101.73012346,\n",
       "       155.94102841, 162.90628897, 154.59356905, 145.73877523,\n",
       "       156.2233616 ,  56.63759022, 143.08435797, 155.94102841,\n",
       "       173.9306416 ,  88.92620435, 229.68390328, 164.01088415,\n",
       "       166.50724173, 112.59845938,  95.25760053,  57.10599558,\n",
       "       191.12614387, 181.02912482, 190.24532382, 156.08094726,\n",
       "       154.24796035,  77.57746047, 223.10169226, 179.00505436,\n",
       "        51.11486227, 190.04249576, 143.84228651, 134.54505145,\n",
       "       190.21511313, 110.52645833, 156.37435125, 188.66490261,\n",
       "       182.86535925, 165.05698887, 101.9493718 ,  43.40649413,\n",
       "       162.96615816, 106.4979861 , 102.5112584 , 113.12398003,\n",
       "       134.79284846,  69.91895792, 121.09303351, 230.54711699,\n",
       "        69.91895792, 162.65085256, 155.33694907, 165.01398265,\n",
       "       114.18081072, 258.29734335, 174.78685824, 131.66242797,\n",
       "       172.55699554, 122.66345841, 170.51659852, 148.31724337,\n",
       "        61.52885995, 106.74952973, 120.94977271, 127.19289076,\n",
       "       187.46029327, 140.7673885 , 126.64445358, 115.71394188,\n",
       "       152.4759061 , 135.79334644,  55.58873828,  34.71182968,\n",
       "       127.57948546, 128.42194523, 179.07091191, 169.33605246,\n",
       "        47.58719339, 116.12130977, 221.5607017 , 133.07268774,\n",
       "       221.5607017 , 192.78380193, 128.94220103, 209.08120957,\n",
       "       127.19289076, 182.64294098, 197.8280622 , 164.36447066,\n",
       "        87.49048707, 156.37435125,  51.64525535, 185.4718447 ,\n",
       "       134.39177487,  55.29430224,  64.47054235, 134.85605299,\n",
       "       159.5257709 , 128.42194523, 171.77319195, 142.36916696,\n",
       "       198.35116561, 118.17866559,  76.80869656, 105.54310374,\n",
       "       134.58692045, 131.82292731, 216.34847598,  68.05469037,\n",
       "        65.27771783,  61.03801928, 221.5607017 , 200.73851225,\n",
       "       200.82727021, 164.36447066, 180.04048912, 183.03762968,\n",
       "       208.07040262, 216.34847598, 118.76985559, 178.90811968,\n",
       "       154.20911882, 124.29968481, 122.19636471, 200.73851225,\n",
       "       130.06902596,  99.97857415, 221.39790946, 167.32681811,\n",
       "       173.77150003, 174.64839476, 158.69043019, 108.98021307,\n",
       "       103.12930234,  36.34677134, 155.93945643,  92.31060686,\n",
       "       185.22715674, 121.83023622, 183.25485431, 106.67492317,\n",
       "        36.43059849, 162.29040362, 137.56965883, 180.42093328,\n",
       "       196.13746035,  82.57427026,  96.41364652,  36.88240938,\n",
       "       249.00420105,  96.41364652, 186.78688702,  99.18475364,\n",
       "       115.26316679, 193.7025568 , 176.14374355, 180.42093328,\n",
       "       127.53903702, 177.91220394, 176.35329494, 127.66369725,\n",
       "        36.34677134, 172.32734157, 186.22467732,  36.39592583,\n",
       "       112.07494104, 109.49412461,  36.66362467, 193.7025568 ,\n",
       "       127.11693893, 112.0114331 , 105.13922197, 105.9213966 ,\n",
       "       196.13746035, 196.50334957, 216.16414751, 190.15123754])"
      ]
     },
     "execution_count": 15,
     "metadata": {},
     "output_type": "execute_result"
    }
   ],
   "source": [
    "reg1.fit(X, y)\n",
    "reg1.predict(Xnt)\n",
    "#ynt1"
   ]
  },
  {
   "cell_type": "code",
   "execution_count": 54,
   "metadata": {},
   "outputs": [
    {
     "data": {
      "text/plain": [
       "0.10738607538021301"
      ]
     },
     "execution_count": 54,
     "metadata": {},
     "output_type": "execute_result"
    },
    {
     "data": {
      "image/png": "[encoded data removed]",
      "text/plain": [
       "<Figure size 432x288 with 1 Axes>"
      ]
     },
     "metadata": {},
     "output_type": "display_data"
    },
    {
     "data": {
      "image/png": "[encoded data removed]",
      "text/plain": [
       "<Figure size 432x288 with 1 Axes>"
      ]
     },
     "metadata": {},
     "output_type": "display_data"
    },
    {
     "data": {
      "text/plain": [
       "<Figure size 432x288 with 0 Axes>"
      ]
     },
     "metadata": {},
     "output_type": "display_data"
    }
   ],
   "source": [
    "y = data['ydata'][:,0]\n",
    "plt.plot(y, cross_val_predict(reg1.best_estimator_, X, y, cv = outer_cv),'x')\n",
    "plt.plot(np.linspace(min(y), max(y), 100), np.linspace(min(y), max(y), 100))\n",
    "\n",
    "plt.figure()\n",
    "plt.loglog(y, cross_val_predict(reg1.best_estimator_, X, y, cv = outer_cv), 'x')\n",
    "plt.loglog(np.linspace(min(y), max(y), 100), np.linspace(min(y), max(y), 100))\n",
    "plt.figure()\n",
    "#plt.loglog(y, reg1.predict(X),'x')\n",
    "#plt.loglog(np.linspace(min(y), max(y), 100), np.linspace(min(y), max(y), 100))\n",
    "mean_squared_log_error(y, cross_val_predict(reg1.best_estimator_, X, y, cv = inner_cv))"
   ]
  },
  {
   "cell_type": "code",
   "execution_count": 207,
   "metadata": {},
   "outputs": [],
   "source": []
  },
  {
   "cell_type": "code",
   "execution_count": 55,
   "metadata": {},
   "outputs": [],
   "source": [
    "s = pickle.dump(reg1,open( \"reg1_featuresT.p\", \"wb\" ))"
   ]
  },
  {
   "cell_type": "code",
   "execution_count": 62,
   "metadata": {},
   "outputs": [],
   "source": [
    "coeff = 1\n",
    "y = data['ydata'][:,coeff]\n",
    "params = {'reg__kernel': ['rbf','linear'], 'reg__alpha': [1e0, 0.1, 1e-2, 1e-3], 'reg__gamma': np.logspace(-2, 2, 5)}\n",
    "scaler = preprocessing.StandardScaler()\n",
    "inner_cv = KFold(n_splits=3, shuffle=True)\n",
    "outer_cv = KFold(n_splits=3, shuffle=True)"
   ]
  },
  {
   "cell_type": "code",
   "execution_count": 63,
   "metadata": {},
   "outputs": [],
   "source": [
    "model = KernelRidge()\n",
    "scaler = preprocessing.StandardScaler()\n",
    "pipeline = Pipeline([('transformer', scaler), ('reg', model)])\n",
    "reg2 = GridSearchCV(estimator=pipeline, param_grid=params, cv=inner_cv,n_jobs=-1)"
   ]
  },
  {
   "cell_type": "code",
   "execution_count": 57,
   "metadata": {},
   "outputs": [
    {
     "name": "stdout",
     "output_type": "stream",
     "text": [
      "{'reg__alpha': 0.01, 'reg__gamma': 0.0016681005372000592, 'reg__kernel': 'rbf'}\n"
     ]
    }
   ],
   "source": [
    "reg2.fit(X,y)\n",
    "print(reg2.best_params_)\n"
   ]
  },
  {
   "cell_type": "code",
   "execution_count": 70,
   "metadata": {},
   "outputs": [
    {
     "name": "stdout",
     "output_type": "stream",
     "text": [
      "{'reg__alpha': 0.01, 'reg__gamma': 0.011937766417144358, 'reg__kernel': 'rbf'}\n",
      "Cross-validation results:\n",
      "Folds: 3, mean RMSE: 17.925\n",
      "Folds: 3, mean r2: 0.806\n",
      "0.790160174748328\n"
     ]
    },
    {
     "data": {
      "text/plain": [
       "0.790160174748328"
      ]
     },
     "execution_count": 70,
     "metadata": {},
     "output_type": "execute_result"
    }
   ],
   "source": [
    "reg2.fit(X,y)\n",
    "print(reg2.best_params_)\n",
    "scores=cross_val_score(reg2.best_estimator_, X=X, y=y, scoring='neg_mean_squared_error',cv=outer_cv)\n",
    "r2scores=cross_val_score(reg2.best_estimator_, X=X, y=y, scoring='r2',cv=outer_cv)\n",
    "rmse_scores = [np.sqrt(abs(s)) for s in scores]\n",
    "print('Cross-validation results:')\n",
    "print('Folds: %i, mean RMSE: %.3f' % (len(scores), np.mean(np.abs(rmse_scores))))\n",
    "print('Folds: %i, mean r2: %.3f' % (len(r2scores), np.mean(r2scores)))\n",
    "evaluate_avg(reg2.best_estimator_, X, data['ydata'][:,1], n = 10 , scoring='r2')"
   ]
  },
  {
   "cell_type": "code",
   "execution_count": null,
   "metadata": {},
   "outputs": [],
   "source": []
  },
  {
   "cell_type": "code",
   "execution_count": 69,
   "metadata": {},
   "outputs": [
    {
     "data": {
      "text/plain": [
       "[<matplotlib.lines.Line2D at 0x2b1a001abfd0>]"
      ]
     },
     "execution_count": 69,
     "metadata": {},
     "output_type": "execute_result"
    },
    {
     "data": {
      "image/png": "[encoded data removed]",
      "text/plain": [
       "<Figure size 432x288 with 1 Axes>"
      ]
     },
     "metadata": {},
     "output_type": "display_data"
    }
   ],
   "source": [
    "\n",
    "y = data['ydata'][:,1]\n",
    "plt.plot(y, cross_val_predict(reg2.best_estimator_, X, y, cv = outer_cv),'x')\n",
    "plt.plot(np.linspace(min(y), max(y), 100), np.linspace(min(y), max(y), 100))\n",
    "\n"
   ]
  },
  {
   "cell_type": "code",
   "execution_count": null,
   "metadata": {},
   "outputs": [],
   "source": []
  },
  {
   "cell_type": "code",
   "execution_count": 70,
   "metadata": {},
   "outputs": [],
   "source": [
    "s = pickle.dump(reg2,open( \"reg2_featuresT.p\", \"wb\" ))"
   ]
  },
  {
   "cell_type": "code",
   "execution_count": 74,
   "metadata": {},
   "outputs": [],
   "source": [
    "coeff=2\n",
    "y = data['ydata'][:,coeff]\n",
    "params = {'reg__max_depth': [2,3,4,10,20,50],\n",
    "            'reg__min_samples_leaf': [2,3,4,10], \n",
    "            'reg__learning_rate':[0.01, 0.1], \n",
    "            'reg__max_features':['auto', 'sqrt', 'log2'],\n",
    "            'reg__min_samples_split':[2,3,4]}\n",
    "scaler = preprocessing.StandardScaler()\n",
    "inner_cv = KFold(n_splits=3, shuffle=True)\n",
    "outer_cv = KFold(n_splits=3, shuffle=True)\n",
    "model = GradientBoostingRegressor(n_estimators = 500, learning_rate=0.01, loss='ls')\n",
    "scaler = preprocessing.StandardScaler()\n",
    "pipeline = Pipeline([('transformer', scaler), ('reg', model)])"
   ]
  },
  {
   "cell_type": "code",
   "execution_count": 78,
   "metadata": {},
   "outputs": [
    {
     "data": {
      "text/plain": [
       "{'reg__learning_rate': 0.01,\n",
       " 'reg__max_depth': 3,\n",
       " 'reg__max_features': 'auto',\n",
       " 'reg__min_samples_leaf': 4,\n",
       " 'reg__min_samples_split': 4}"
      ]
     },
     "execution_count": 78,
     "metadata": {},
     "output_type": "execute_result"
    }
   ],
   "source": [
    "reg3 = GridSearchCV(estimator=pipeline, param_grid=params, cv=inner_cv, n_jobs=-1)\n",
    "#model = GradientBoostingRegressor(n_estimators = 500, learning_rate=0.1, min_samples_split=2, max_features='sqrt', loss='ls', subsample=0.4)\n",
    "#reg3 = Pipeline([('transformer', scaler), ('reg', model)])\n",
    "reg3.fit(X,y)\n",
    "reg3.best_params_"
   ]
  },
  {
   "cell_type": "code",
   "execution_count": 79,
   "metadata": {},
   "outputs": [
    {
     "name": "stdout",
     "output_type": "stream",
     "text": [
      "[0.71655507 0.68021147 0.5789467 ]\n",
      "Cross-validation results:\n",
      "Folds: 3, mean r2: 0.659\n"
     ]
    }
   ],
   "source": [
    "scores=cross_val_score(reg3.best_estimator_, X=X, y=y, scoring='neg_mean_squared_error',cv=outer_cv)\n",
    "r2scores=cross_val_score(reg3.best_estimator_, X=X, y=y, scoring='r2',cv=outer_cv)\n",
    "print(r2scores)\n",
    "rmse_scores = [np.sqrt(abs(s)) for s in scores]\n",
    "print('Cross-validation results:')\n",
    "print('Folds: %i, mean r2: %.3f' % (len(r2scores), np.mean(r2scores)))\n",
    "#evaluate_avg(reg3.best_estimator_, X, data['ydata'][:,2], n = 10 , scoring='neg_mean_squared_log_error')"
   ]
  },
  {
   "cell_type": "code",
   "execution_count": 137,
   "metadata": {},
   "outputs": [
    {
     "name": "stdout",
     "output_type": "stream",
     "text": [
      "[0.73269703 0.73732528 0.68948877]\n",
      "Cross-validation results:\n",
      "Folds: 3, mean r2: 0.720\n"
     ]
    }
   ],
   "source": [
    "#Without GridSearch\n",
    "model = GradientBoostingRegressor(n_estimators = 500, learning_rate=0.1, min_samples_split=4, max_features='sqrt', min_samples_leaf = 2, max_depth = 2, loss='ls', subsample=0.4)\n",
    "reg3 = Pipeline([('transformer', scaler), ('reg', model)])\n",
    "reg3.fit(X,y)\n",
    "#print(reg3.best_params_)\n",
    "scores=cross_val_score(reg3, X=X, y=y, scoring='neg_mean_squared_error',cv=outer_cv)\n",
    "r2scores=cross_val_score(reg3, X=X, y=y, scoring='r2',cv=outer_cv)\n",
    "print(r2scores)\n",
    "rmse_scores = [np.sqrt(abs(s)) for s in scores]\n",
    "print('Cross-validation results:')\n",
    "#print('Folds: %i, mean RMSE: %.3f' % (len(scores), np.mean(np.abs(rmse_scores))))\n",
    "print('Folds: %i, mean r2: %.3f' % (len(r2scores), np.mean(r2scores)))"
   ]
  },
  {
   "cell_type": "code",
   "execution_count": null,
   "metadata": {},
   "outputs": [],
   "source": []
  },
  {
   "cell_type": "code",
   "execution_count": 80,
   "metadata": {},
   "outputs": [
    {
     "data": {
      "text/plain": [
       "<Figure size 432x288 with 0 Axes>"
      ]
     },
     "execution_count": 80,
     "metadata": {},
     "output_type": "execute_result"
    },
    {
     "data": {
      "image/png": "[encoded data removed]",
      "text/plain": [
       "<Figure size 432x288 with 1 Axes>"
      ]
     },
     "metadata": {},
     "output_type": "display_data"
    },
    {
     "data": {
      "image/png": "[encoded data removed]",
      "text/plain": [
       "<Figure size 432x288 with 1 Axes>"
      ]
     },
     "metadata": {},
     "output_type": "display_data"
    },
    {
     "data": {
      "text/plain": [
       "<Figure size 432x288 with 0 Axes>"
      ]
     },
     "metadata": {},
     "output_type": "display_data"
    }
   ],
   "source": [
    "y = data['ydata'][:,2]\n",
    "plt.plot(y, cross_val_predict(reg3.best_estimator_, X, y, cv = outer_cv),'x')\n",
    "plt.plot(np.linspace(min(y), max(y), 100), np.linspace(min(y), max(y), 100))\n",
    "\n",
    "plt.figure()\n",
    "plt.loglog(y, cross_val_predict(reg3.best_estimator_, X, y, cv = outer_cv), 'x')\n",
    "plt.loglog(np.linspace(min(y), max(y), 100), np.linspace(min(y), max(y), 100))\n",
    "plt.figure()\n",
    "#mean_squared_log_error(y, cross_val_predict(reg3.best_estimator_, X, y, cv = inner_cv))\n"
   ]
  },
  {
   "cell_type": "code",
   "execution_count": 818,
   "metadata": {},
   "outputs": [],
   "source": []
  },
  {
   "cell_type": "code",
   "execution_count": 81,
   "metadata": {},
   "outputs": [],
   "source": [
    "s = pickle.dump(reg3,open( \"reg3_featuresT.p\", \"wb\" ))"
   ]
  },
  {
   "cell_type": "code",
   "execution_count": 80,
   "metadata": {},
   "outputs": [
    {
     "name": "stdout",
     "output_type": "stream",
     "text": [
      "326.4498589301878\n",
      "109.05777762156247\n",
      "43.11011863906521\n",
      "121.4048790966785\n",
      "270.5261653249157\n",
      "43.11011863906521\n",
      "\n",
      "0.9262528643532584\n",
      "0.9237169460220372\n",
      "0.9229236843378863\n",
      "0.9336655428103484\n",
      "0.89954411574077\n",
      "0.9229236843378863\n"
     ]
    }
   ],
   "source": [
    "y1t=reg1.predict(X)\n",
    "y2t=reg2.predict(X)\n",
    "y3t=reg3.predict(X)\n",
    "e1t=(y1t+2*y2t)/3\n",
    "e2t=(y1t-y2t)\n",
    "e3t=y3t\n",
    "yall = data['ydata']\n",
    "print(mean_squared_error(y1t,yall[:,0]))\n",
    "print(mean_squared_error(y2t,yall[:,1]))\n",
    "print(mean_squared_error(y3t,yall[:,2]))\n",
    "print(mean_squared_error(e1t,(yall[:,0]+2.*yall[:,1])/3.))\n",
    "print(mean_squared_error(e2t,yall[:,0]-yall[:,1]))\n",
    "print(mean_squared_error(e3t,yall[:,2]))\n",
    "print()\n",
    "print(r2_score(y1t,yall[:,0]))\n",
    "print(r2_score(y2t,yall[:,1]))\n",
    "print(r2_score(y3t,yall[:,2]))\n",
    "print(r2_score(e1t,(yall[:,0]+2.*yall[:,1])/3.))\n",
    "print(r2_score(e2t,yall[:,0]-yall[:,1]))\n",
    "print(r2_score(e3t,yall[:,2]))"
   ]
  },
  {
   "cell_type": "code",
   "execution_count": 91,
   "metadata": {},
   "outputs": [
    {
     "name": "stdout",
     "output_type": "stream",
     "text": [
      "2184.326410690613\n",
      "328.3097956192837\n",
      "288.74727038794134\n",
      "561.9111436649413\n",
      "1732.8188564015343\n",
      "288.74727038794134\n",
      "\n",
      "0.24902581480791064\n",
      "0.7723757269303794\n",
      "0.17897128096366866\n",
      "0.6231655062545876\n",
      "0.12478326145010743\n",
      "0.17897128096366866\n"
     ]
    }
   ],
   "source": [
    "yall = data['ydata']\n",
    "y1t=cross_val_predict(reg1.best_estimator_, X, yall[:,0])\n",
    "y2t=cross_val_predict(reg2.best_estimator_, X, yall[:,1])\n",
    "y3t=cross_val_predict(reg3.best_estimator_, X, yall[:,2])\n",
    "e1t=(y1t+2*y2t)/3.\n",
    "e2t=(y1t-y2t)\n",
    "e3t=y3t\n",
    "\n",
    "print(mean_squared_error(y1t,yall[:,0]))\n",
    "print(mean_squared_error(y2t,yall[:,1]))\n",
    "print(mean_squared_error(y3t,yall[:,2]))\n",
    "print(mean_squared_error(e1t,(yall[:,0]+2.*yall[:,1])/3.))\n",
    "print(mean_squared_error(e2t,yall[:,0]-yall[:,1]))\n",
    "print(mean_squared_error(e3t,yall[:,2]))\n",
    "print()\n",
    "print(r2_score(y1t,yall[:,0]))\n",
    "print(r2_score(y2t,yall[:,1]))\n",
    "print(r2_score(y3t,yall[:,2]))\n",
    "print(r2_score(e1t,(yall[:,0]+2.*yall[:,1])/3.))\n",
    "print(r2_score(e2t,yall[:,0]-yall[:,1]))\n",
    "print(r2_score(e3t,yall[:,2]))"
   ]
  },
  {
   "cell_type": "code",
   "execution_count": 83,
   "metadata": {},
   "outputs": [],
   "source": [
    "y1nt=reg1.predict(Xnt)\n",
    "y2nt=reg2.predict(Xnt)\n",
    "y3nt=reg3.predict(Xnt)"
   ]
  },
  {
   "cell_type": "code",
   "execution_count": 84,
   "metadata": {},
   "outputs": [],
   "source": [
    "ynt=np.column_stack((y1nt,y2nt,y3nt))\n",
    "ynt.shape\n",
    "spio.savemat(lattice+'-nt-featuresT-result',mdict={'coeffsnt':ynt,'coord':ntdata['coord'],'mps':ntdata['mps'],'volrat':ntdata['volrat']})"
   ]
  },
  {
   "cell_type": "code",
   "execution_count": 21,
   "metadata": {},
   "outputs": [
    {
     "name": "stdout",
     "output_type": "stream",
     "text": [
      "[0.2581988  0.38035522 0.38049773 0.25820269 0.38049772 0.08406202\n",
      " 0.38049773 0.25820563 0.25820563 0.2581988  0.2581988  0.08406202\n",
      " 0.25820563 0.08406202 0.25820563 0.25820563 0.25820563 0.25820563\n",
      " 0.73524312 0.23805073 0.23356835 0.23244811 0.38049773 0.08406202\n",
      " 0.25820563 0.08406202 0.15191745 0.15191745 0.05525574 0.25819966\n",
      " 0.25820364 0.25820563 0.25819916 0.25819966 0.25820563 0.25819966\n",
      " 0.25820121 0.25820563 0.25820392 0.25819651 0.25820563 0.14101352\n",
      " 0.25820563 0.25820478 0.25820563 0.25820563 0.15191745 0.25820029\n",
      " 0.25820336 0.2581988  0.25820563 0.25820563 0.15191745 0.2581988\n",
      " 0.15191744 0.1579381  0.16420279 0.25820563 0.25820563 0.25820563\n",
      " 0.2581988  0.25820364 0.25820051 0.25820563 0.25820563 0.25819966\n",
      " 0.25820336 0.25819368 0.25820165 0.25820563 0.25820321 0.25820392\n",
      " 0.25820165 0.0538958  0.25819872 0.25820563 0.25820563 0.25820563\n",
      " 0.25820279 0.25819966 0.15191745 0.2581988  0.25820563 0.25819966\n",
      " 0.25820336 0.25819966 0.25820078 0.14623936 0.15191735 0.25820563\n",
      " 0.25820563 0.25820563 0.2581988  0.25820563 0.2581988  0.2581988\n",
      " 0.25820563 0.2581988  0.2581988  0.25820222 0.25820256 0.15317525\n",
      " 0.25820364 0.25820051 0.25820563 0.25820563 0.25820563 0.25819966\n",
      " 0.25820563 0.25820392 0.25820478 0.2581988  0.15191744 0.25820563\n",
      " 0.25820275 0.25820563 0.15191745 0.25820332 0.25819966 0.25820563\n",
      " 0.15191745 0.25820563 0.25820314 0.25820563 0.25820563 0.25820336\n",
      " 0.25820563 0.2581988  0.25820336 0.25820051 0.25820392 0.2581988\n",
      " 0.25820336 0.09650013 0.25820544 0.25820336 0.25820478 0.25819966\n",
      " 0.25820222 0.25820051 0.25820051 0.25820392 0.25820563 0.15191745\n",
      " 0.25820563 0.15313514 0.25820563 0.25820563 0.05019216 0.25820563\n",
      " 0.25820563 0.25820563 0.25820545 0.15191738 0.25820563 0.15191736\n",
      " 0.25820563 0.08837167 0.04992997 0.2582054  0.25820563 0.04818492\n",
      " 0.084062   0.13875193 0.08406202 0.08407709 0.25820563 0.08410135\n",
      " 0.08406202 0.08413452]\n"
     ]
    }
   ],
   "source": [
    "print(data['volratt'][0])"
   ]
  },
  {
   "cell_type": "code",
   "execution_count": 117,
   "metadata": {},
   "outputs": [],
   "source": [
    "ytr = np.column_stack((cross_val_predict(reg1.best_estimator_, X, y, cv = inner_cv), cross_val_predict(reg2.best_estimator_, X, y, cv = inner_cv), cross_val_predict(reg3.best_estimator_, X, y, cv = inner_cv)))\n",
    "ytr.shape\n",
    "spio.savemat(lattice+'-tr-featuresT-result',mdict={'coeffstr':data['ydata'],'coeffspred':ytr,'coord':data['coordt'],'mps':data['mps'],'volrat':data['volratt']})"
   ]
  },
  {
   "cell_type": "code",
   "execution_count": 77,
   "metadata": {},
   "outputs": [],
   "source": [
    "with open('reg1_featuresT.p','rb') as f:\n",
    "    reg1=pickle.load(f)"
   ]
  },
  {
   "cell_type": "code",
   "execution_count": 78,
   "metadata": {},
   "outputs": [],
   "source": [
    "with open('reg2_featuresT.p','rb') as f:\n",
    "    reg2 = pickle.load(f)"
   ]
  },
  {
   "cell_type": "code",
   "execution_count": 79,
   "metadata": {},
   "outputs": [],
   "source": [
    "with open('reg3_featuresT.p','rb') as f:\n",
    "    reg3 = pickle.load(f)"
   ]
  },
  {
   "cell_type": "code",
   "execution_count": 113,
   "metadata": {},
   "outputs": [],
   "source": [
    "dd = spio.loadmat(lattice+'-nt-featuresT-result')\n",
    "dj = {}\n",
    "dj['coeffsnt']=dd['coeffsnt'].tolist()\n",
    "dj['coord']=dd['coord'].tolist()\n",
    "dj['volrat']=dd['volrat'].tolist()\n",
    "dj['mps']=dd['mps'].tolist()"
   ]
  },
  {
   "cell_type": "code",
   "execution_count": 118,
   "metadata": {},
   "outputs": [],
   "source": [
    "\n",
    "with open(lattice+'-nt-featuresT-result.json','w') as f:\n",
    "    json.dump(dj,f)"
   ]
  },
  {
   "cell_type": "code",
   "execution_count": 11,
   "metadata": {},
   "outputs": [
    {
     "data": {
      "text/plain": [
       "GridSearchCV(cv=KFold(n_splits=3, random_state=None, shuffle=True),\n",
       "       error_score='raise',\n",
       "       estimator=Pipeline(memory=None,\n",
       "     steps=[('transformer', StandardScaler(copy=True, with_mean=True, with_std=True)), ('reg', Lasso(alpha=1.0, copy_X=True, fit_intercept=True, max_iter=1000,\n",
       "   normalize=False, positive=False, precompute=False, random_state=None,\n",
       "   selection='cyclic', tol=0.0001, warm_start=False))]),\n",
       "       fit_params=None, iid=True, n_jobs=-1,\n",
       "       param_grid={'reg__alpha': [0.01, 0.1, 0.5, 1.0, 5.0, 10.0]},\n",
       "       pre_dispatch='2*n_jobs', refit=True, return_train_score='warn',\n",
       "       scoring=None, verbose=0)"
      ]
     },
     "execution_count": 11,
     "metadata": {},
     "output_type": "execute_result"
    }
   ],
   "source": [
    "model=linear_model.Lasso()\n",
    "params=models_and_parameters['lasso'][1]\n",
    "scaler = preprocessing.StandardScaler()\n",
    "pipeline = Pipeline([('transformer', scaler), ('reg', model)])\n",
    "reg1lasso = GridSearchCV(estimator=pipeline, param_grid=params, cv=inner_cv,n_jobs=-1)\n",
    "reg1lasso"
   ]
  },
  {
   "cell_type": "code",
   "execution_count": 294,
   "metadata": {},
   "outputs": [
    {
     "name": "stdout",
     "output_type": "stream",
     "text": [
      "Cross-validation results:\n",
      "Folds: 3, mean r2: 0.616\n"
     ]
    }
   ],
   "source": [
    "reg1lasso.fit(X,y)\n",
    "reg1lasso.best_params_\n",
    "#scores=cross_val_score(reg2, X=X, y=y, scoring='neg_mean_squared_error',cv=outer_cv)\n",
    "r2scores=cross_val_score(reg1lasso, X=X, y=y, scoring='r2',cv=outer_cv)\n",
    "#rmse_scores = [np.sqrt(abs(s)) for s in scores]\n",
    "print('Cross-validation results:')\n",
    "#print('Folds: %i, mean RMSE: %.3f' % (len(scores), np.mean(np.abs(rmse_scores))))\n",
    "print('Folds: %i, mean r2: %.3f' % (len(r2scores), np.mean(r2scores)))"
   ]
  },
  {
   "cell_type": "code",
   "execution_count": 298,
   "metadata": {},
   "outputs": [
    {
     "name": "stdout",
     "output_type": "stream",
     "text": [
      "[-73.99316211  46.3843869    4.75194328   3.0581043  -29.7807194\n",
      " -83.48320337  -2.59027984 -35.69553963   7.59154831 142.25994489\n",
      "  27.55151659 -15.72826648 -18.54535543  -5.91218868 -35.05286745\n",
      " 107.27319597  -6.11099286  50.10285911   0.        ]\n",
      "[-33.13148875  -5.31709399  -1.58192648  -0.96671281  -1.30384867\n",
      "   4.46508118  -1.00773901  -9.52158754   6.30148955  10.10122899\n",
      "  -3.9855769   -0.           0.25734102  10.1495421  -16.2522837\n",
      "  50.2334811    2.96694845   5.64221635   0.10404665]\n",
      "[-20.17605836   3.20680575  -1.27026152  -3.1777611   -7.89473839\n",
      "  -2.74887685   3.96638945 -16.79590484   4.25475666  23.67939975\n",
      "   7.57692893  -8.84518697   2.59918826   5.0206955  -13.94565021\n",
      "  11.83438023   3.21882829  10.74947255  11.82631575]\n"
     ]
    }
   ],
   "source": [
    "print(reg1lasso.best_estimator_.named_steps['reg'].coef_)\n",
    "print(reg2.best_estimator_.named_steps['reg'].coef_)\n",
    "print(reg3.best_estimator_.named_steps['reg'].coef_)"
   ]
  },
  {
   "cell_type": "code",
   "execution_count": 13,
   "metadata": {},
   "outputs": [],
   "source": [
    "with open('reg2_features.p','rb') as f:\n",
    "    reg2 = pickle.load(f)\n",
    "with open('reg1_features.p','rb') as f:\n",
    "    reg1 = pickle.load(f)"
   ]
  },
  {
   "cell_type": "code",
   "execution_count": 299,
   "metadata": {},
   "outputs": [
    {
     "name": "stdout",
     "output_type": "stream",
     "text": [
      "[10 16  6  1 18]\n",
      "[16  1 15 14 10]\n",
      "[10  1  8 15 16]\n"
     ]
    }
   ],
   "source": [
    "coef1=reg1lasso.best_estimator_.named_steps['reg'].coef_\n",
    "coef2=reg2.best_estimator_.named_steps['reg'].coef_\n",
    "coef3=reg3.best_estimator_.named_steps['reg'].coef_\n",
    "print(np.abs(coef1).argsort()[-5:][::-1]+1)\n",
    "print(np.abs(coef2).argsort()[-5:][::-1]+1)\n",
    "print(np.abs(coef3).argsort()[-5:][::-1]+1)"
   ]
  },
  {
   "cell_type": "code",
   "execution_count": null,
   "metadata": {},
   "outputs": [],
   "source": [
    "\n"
   ]
  },
  {
   "cell_type": "code",
   "execution_count": null,
   "metadata": {},
   "outputs": [],
   "source": []
  },
  {
   "cell_type": "code",
   "execution_count": 77,
   "metadata": {},
   "outputs": [
    {
     "data": {
      "text/html": [
       "<div>\n",
       "<style scoped>\n",
       "    .dataframe tbody tr th:only-of-type {\n",
       "        vertical-align: middle;\n",
       "    }\n",
       "\n",
       "    .dataframe tbody tr th {\n",
       "        vertical-align: top;\n",
       "    }\n",
       "\n",
       "    .dataframe thead th {\n",
       "        text-align: right;\n",
       "    }\n",
       "</style>\n",
       "<table border=\"1\" class=\"dataframe\">\n",
       "  <thead>\n",
       "    <tr style=\"text-align: right;\">\n",
       "      <th></th>\n",
       "      <th>0</th>\n",
       "      <th>1</th>\n",
       "      <th>2</th>\n",
       "      <th>3</th>\n",
       "      <th>4</th>\n",
       "      <th>5</th>\n",
       "      <th>6</th>\n",
       "      <th>7</th>\n",
       "      <th>8</th>\n",
       "      <th>9</th>\n",
       "      <th>10</th>\n",
       "      <th>11</th>\n",
       "      <th>12</th>\n",
       "      <th>13</th>\n",
       "      <th>14</th>\n",
       "      <th>15</th>\n",
       "      <th>16</th>\n",
       "      <th>17</th>\n",
       "      <th>18</th>\n",
       "    </tr>\n",
       "  </thead>\n",
       "  <tbody>\n",
       "    <tr>\n",
       "      <th>0</th>\n",
       "      <td>-0.982106</td>\n",
       "      <td>-0.361394</td>\n",
       "      <td>-0.141718</td>\n",
       "      <td>0.117372</td>\n",
       "      <td>-1.177644</td>\n",
       "      <td>-0.175505</td>\n",
       "      <td>1.444946</td>\n",
       "      <td>-0.537715</td>\n",
       "      <td>0.872549</td>\n",
       "      <td>-0.198931</td>\n",
       "      <td>0.695694</td>\n",
       "      <td>0.630247</td>\n",
       "      <td>0.443861</td>\n",
       "      <td>-0.002837</td>\n",
       "      <td>2.160390</td>\n",
       "      <td>-0.917639</td>\n",
       "      <td>-1.286106</td>\n",
       "      <td>0.02752</td>\n",
       "      <td>-0.917669</td>\n",
       "    </tr>\n",
       "    <tr>\n",
       "      <th>1</th>\n",
       "      <td>0.540093</td>\n",
       "      <td>-0.379834</td>\n",
       "      <td>-0.141718</td>\n",
       "      <td>0.648068</td>\n",
       "      <td>0.173565</td>\n",
       "      <td>0.672964</td>\n",
       "      <td>0.679151</td>\n",
       "      <td>0.981684</td>\n",
       "      <td>-1.333768</td>\n",
       "      <td>0.726501</td>\n",
       "      <td>-0.791508</td>\n",
       "      <td>-1.631712</td>\n",
       "      <td>-1.499989</td>\n",
       "      <td>-0.185322</td>\n",
       "      <td>-0.489298</td>\n",
       "      <td>0.775349</td>\n",
       "      <td>2.467324</td>\n",
       "      <td>0.02752</td>\n",
       "      <td>0.775313</td>\n",
       "    </tr>\n",
       "    <tr>\n",
       "      <th>2</th>\n",
       "      <td>2.492513</td>\n",
       "      <td>-0.406770</td>\n",
       "      <td>-0.141718</td>\n",
       "      <td>0.787799</td>\n",
       "      <td>0.341157</td>\n",
       "      <td>0.672964</td>\n",
       "      <td>0.679151</td>\n",
       "      <td>0.934815</td>\n",
       "      <td>-1.273321</td>\n",
       "      <td>0.726501</td>\n",
       "      <td>-0.791508</td>\n",
       "      <td>-1.642058</td>\n",
       "      <td>-1.507777</td>\n",
       "      <td>-0.205570</td>\n",
       "      <td>-0.478428</td>\n",
       "      <td>2.979259</td>\n",
       "      <td>2.467324</td>\n",
       "      <td>0.02752</td>\n",
       "      <td>2.979235</td>\n",
       "    </tr>\n",
       "    <tr>\n",
       "      <th>3</th>\n",
       "      <td>-0.858659</td>\n",
       "      <td>0.415251</td>\n",
       "      <td>-0.141718</td>\n",
       "      <td>-0.091346</td>\n",
       "      <td>-1.334761</td>\n",
       "      <td>-0.175505</td>\n",
       "      <td>1.444946</td>\n",
       "      <td>0.601244</td>\n",
       "      <td>0.464531</td>\n",
       "      <td>-0.198931</td>\n",
       "      <td>0.695694</td>\n",
       "      <td>1.068522</td>\n",
       "      <td>1.117473</td>\n",
       "      <td>0.554601</td>\n",
       "      <td>1.410794</td>\n",
       "      <td>-0.987999</td>\n",
       "      <td>-1.286106</td>\n",
       "      <td>0.02752</td>\n",
       "      <td>-0.988034</td>\n",
       "    </tr>\n",
       "    <tr>\n",
       "      <th>4</th>\n",
       "      <td>3.183015</td>\n",
       "      <td>-0.295111</td>\n",
       "      <td>-0.141718</td>\n",
       "      <td>-1.482809</td>\n",
       "      <td>1.021999</td>\n",
       "      <td>0.672964</td>\n",
       "      <td>-0.699280</td>\n",
       "      <td>1.127459</td>\n",
       "      <td>-1.624131</td>\n",
       "      <td>0.726501</td>\n",
       "      <td>0.058322</td>\n",
       "      <td>-1.599527</td>\n",
       "      <td>-1.616698</td>\n",
       "      <td>-0.121565</td>\n",
       "      <td>-1.173835</td>\n",
       "      <td>3.567170</td>\n",
       "      <td>6.583990</td>\n",
       "      <td>0.02752</td>\n",
       "      <td>3.567147</td>\n",
       "    </tr>\n",
       "  </tbody>\n",
       "</table>\n",
       "</div>"
      ],
      "text/plain": [
       "         0         1         2         3         4         5         6   \\\n",
       "0 -0.982106 -0.361394 -0.141718  0.117372 -1.177644 -0.175505  1.444946   \n",
       "1  0.540093 -0.379834 -0.141718  0.648068  0.173565  0.672964  0.679151   \n",
       "2  2.492513 -0.406770 -0.141718  0.787799  0.341157  0.672964  0.679151   \n",
       "3 -0.858659  0.415251 -0.141718 -0.091346 -1.334761 -0.175505  1.444946   \n",
       "4  3.183015 -0.295111 -0.141718 -1.482809  1.021999  0.672964 -0.699280   \n",
       "\n",
       "         7         8         9         10        11        12        13  \\\n",
       "0 -0.537715  0.872549 -0.198931  0.695694  0.630247  0.443861 -0.002837   \n",
       "1  0.981684 -1.333768  0.726501 -0.791508 -1.631712 -1.499989 -0.185322   \n",
       "2  0.934815 -1.273321  0.726501 -0.791508 -1.642058 -1.507777 -0.205570   \n",
       "3  0.601244  0.464531 -0.198931  0.695694  1.068522  1.117473  0.554601   \n",
       "4  1.127459 -1.624131  0.726501  0.058322 -1.599527 -1.616698 -0.121565   \n",
       "\n",
       "         14        15        16       17        18  \n",
       "0  2.160390 -0.917639 -1.286106  0.02752 -0.917669  \n",
       "1 -0.489298  0.775349  2.467324  0.02752  0.775313  \n",
       "2 -0.478428  2.979259  2.467324  0.02752  2.979235  \n",
       "3  1.410794 -0.987999 -1.286106  0.02752 -0.988034  \n",
       "4 -1.173835  3.567170  6.583990  0.02752  3.567147  "
      ]
     },
     "execution_count": 77,
     "metadata": {},
     "output_type": "execute_result"
    }
   ],
   "source": [
    "bb = scaler.fit(X)\n",
    "X1=bb.transform(X)\n",
    "pd.DataFrame(X1).head()\n",
    "\n"
   ]
  },
  {
   "cell_type": "code",
   "execution_count": 112,
   "metadata": {},
   "outputs": [
    {
     "name": "stdout",
     "output_type": "stream",
     "text": [
      "(170, 19)\n"
     ]
    },
    {
     "data": {
      "text/plain": [
       "array(['mp-976334', 'mp-861936', 'mp-861931', 'mp-867226', 'mp-30765 ',\n",
       "       'mp-23259 ', 'mp-11248 ', 'mp-1646  ', 'mp-23222 ', 'mp-976023',\n",
       "       'mp-976256', 'mp-22905 ', 'mp-934   ', 'mp-1138  ', 'mp-11489 ',\n",
       "       'mp-1934  ', 'mp-1437  ', 'mp-2012  ', 'mp-30764 ', 'mp-567395',\n",
       "       'mp-569849', 'mp-11644 ', 'mp-10890 ', 'mp-23703 ', 'mp-2743  ',\n",
       "       'mp-22899 ', 'mp-2286  ', 'mp-1153  ', 'mp-755309', 'mp-865868',\n",
       "       'mp-865866', 'mp-861629', 'mp-862297', 'mp-867196', 'mp-16349 ',\n",
       "       'mp-865912', 'mp-867927', 'mp-865793', 'mp-867834', 'mp-865444',\n",
       "       'mp-867253', 'mp-542435', 'mp-3201  ', 'mp-865231', 'mp-10180 ',\n",
       "       'mp-31168 ', 'mp-5920  ', 'mp-862657', 'mp-864598', 'mp-861616',\n",
       "       'mp-862316', 'mp-16271 ', 'mp-12558 ', 'mp-864631', 'mp-7575  ',\n",
       "       'mp-3887  ', 'mp-13944 ', 'mp-21026 ', 'mp-11947 ', 'mp-11512 ',\n",
       "       'mp-862321', 'mp-861896', 'mp-864930', 'mp-21029 ', 'mp-12411 ',\n",
       "       'mp-861666', 'mp-865872', 'mp-861901', 'mp-865582', 'mp-865795',\n",
       "       'mp-862555', 'mp-867924', 'mp-865935', 'mp-760375', 'mp-862290',\n",
       "       'mp-30820 ', 'mp-9472  ', 'mp-3158  ', 'mp-862815', 'mp-864630',\n",
       "       'mp-12564 ', 'mp-867250', 'mp-30758 ', 'mp-867251', 'mp-864597',\n",
       "       'mp-864601', 'mp-861658', 'mp-4604  ', 'mp-570213', 'mp-30404 ',\n",
       "       'mp-30405 ', 'mp-867148', 'mp-867272', 'mp-30648 ', 'mp-863727',\n",
       "       'mp-865924', 'mp-30763 ', 'mp-866194', 'mp-865893', 'mp-865986',\n",
       "       'mp-864614', 'mp-14753 ', 'mp-862684', 'mp-863659', 'mp-11490 ',\n",
       "       'mp-29633 ', 'mp-30817 ', 'mp-867119', 'mp-30816 ', 'mp-861875',\n",
       "       'mp-867206', 'mp-861905', 'mp-16343 ', 'mp-20265 ', 'mp-865731',\n",
       "       'mp-12580 ', 'mp-3161  ', 'mp-867222', 'mp-865936', 'mp-10181 ',\n",
       "       'mp-9124  ', 'mp-16238 ', 'mp-867829', 'mp-13914 ', 'mp-30821 ',\n",
       "       'mp-861625', 'mp-867258', 'mp-867252', 'mp-862610', 'mp-862737',\n",
       "       'mp-867293', 'mp-864997', 'mp-861733', 'mp-14476 ', 'mp-672340',\n",
       "       'mp-862717', 'mp-862632', 'mp-864762', 'mp-865863', 'mp-865870',\n",
       "       'mp-862318', 'mp-867121', 'mp-2987  ', 'mp-10182 ', 'mp-13915 ',\n",
       "       'mp-14827 ', 'mp-15988 ', 'mp-20363 ', 'mp-25385 ', 'mp-30818 ',\n",
       "       'mp-30819 ', 'mp-30591 ', 'mp-35841 ', 'mp-36111 ', 'mp-3726  ',\n",
       "       'mp-37906 ', 'mp-5077  ', 'mp-530399', 'mp-5670  ', 'mp-567097',\n",
       "       'mp-7473  ', 'mp-759877', 'mp-765966', 'mp-5515  ', 'mp-989579',\n",
       "       'mp-989512', 'mp-11806 ', 'mp-570379', 'mp-567652', 'mp-989405'],\n",
       "      dtype='<U9')"
      ]
     },
     "execution_count": 112,
     "metadata": {},
     "output_type": "execute_result"
    }
   ],
   "source": [
    "#Old\n",
    "lattice = 'cubic'\n",
    "coeff=0\n",
    "data = spio.loadmat(lattice+'-data-posd-with-den.mat')\n",
    "X = data['xdata']\n",
    "y = data['ydata'][:,coeff]\n",
    "X1=np.delete(X,18,axis=1)\n",
    "print(X1.shape)\n",
    "X1[2,:]\n",
    "X=X1\n",
    "data['mps']"
   ]
  },
  {
   "cell_type": "code",
   "execution_count": null,
   "metadata": {},
   "outputs": [],
   "source": []
  },
  {
   "cell_type": "code",
   "execution_count": 89,
   "metadata": {},
   "outputs": [
    {
     "data": {
      "text/html": [
       "<div>\n",
       "<style scoped>\n",
       "    .dataframe tbody tr th:only-of-type {\n",
       "        vertical-align: middle;\n",
       "    }\n",
       "\n",
       "    .dataframe tbody tr th {\n",
       "        vertical-align: top;\n",
       "    }\n",
       "\n",
       "    .dataframe thead th {\n",
       "        text-align: right;\n",
       "    }\n",
       "</style>\n",
       "<table border=\"1\" class=\"dataframe\">\n",
       "  <thead>\n",
       "    <tr style=\"text-align: right;\">\n",
       "      <th></th>\n",
       "      <th>0</th>\n",
       "      <th>1</th>\n",
       "      <th>2</th>\n",
       "      <th>3</th>\n",
       "      <th>4</th>\n",
       "      <th>5</th>\n",
       "      <th>6</th>\n",
       "      <th>7</th>\n",
       "      <th>8</th>\n",
       "      <th>9</th>\n",
       "      <th>10</th>\n",
       "      <th>11</th>\n",
       "      <th>12</th>\n",
       "      <th>13</th>\n",
       "      <th>14</th>\n",
       "      <th>15</th>\n",
       "      <th>16</th>\n",
       "      <th>17</th>\n",
       "      <th>18</th>\n",
       "    </tr>\n",
       "  </thead>\n",
       "  <tbody>\n",
       "    <tr>\n",
       "      <th>0</th>\n",
       "      <td>29.7050</td>\n",
       "      <td>14.929776</td>\n",
       "      <td>0.0</td>\n",
       "      <td>0.444402</td>\n",
       "      <td>0.460</td>\n",
       "      <td>14.0</td>\n",
       "      <td>9.333333</td>\n",
       "      <td>2.864868</td>\n",
       "      <td>0.920000</td>\n",
       "      <td>14.0</td>\n",
       "      <td>12.000000</td>\n",
       "      <td>4.387422</td>\n",
       "      <td>59.719105</td>\n",
       "      <td>2.825278</td>\n",
       "      <td>0.050235</td>\n",
       "      <td>3.303811</td>\n",
       "      <td>0.5</td>\n",
       "      <td>1.0</td>\n",
       "      <td>3.303971</td>\n",
       "    </tr>\n",
       "    <tr>\n",
       "      <th>1</th>\n",
       "      <td>81.5500</td>\n",
       "      <td>14.847659</td>\n",
       "      <td>0.0</td>\n",
       "      <td>0.591787</td>\n",
       "      <td>0.976</td>\n",
       "      <td>18.0</td>\n",
       "      <td>6.000000</td>\n",
       "      <td>3.139741</td>\n",
       "      <td>0.271111</td>\n",
       "      <td>18.0</td>\n",
       "      <td>8.000000</td>\n",
       "      <td>2.758826</td>\n",
       "      <td>19.796879</td>\n",
       "      <td>2.758758</td>\n",
       "      <td>0.016838</td>\n",
       "      <td>9.120210</td>\n",
       "      <td>3.6</td>\n",
       "      <td>1.0</td>\n",
       "      <td>9.120451</td>\n",
       "    </tr>\n",
       "    <tr>\n",
       "      <th>2</th>\n",
       "      <td>148.0480</td>\n",
       "      <td>14.727705</td>\n",
       "      <td>0.0</td>\n",
       "      <td>0.630593</td>\n",
       "      <td>1.040</td>\n",
       "      <td>18.0</td>\n",
       "      <td>6.000000</td>\n",
       "      <td>3.131262</td>\n",
       "      <td>0.288889</td>\n",
       "      <td>18.0</td>\n",
       "      <td>8.000000</td>\n",
       "      <td>2.751377</td>\n",
       "      <td>19.636940</td>\n",
       "      <td>2.751377</td>\n",
       "      <td>0.016975</td>\n",
       "      <td>16.691922</td>\n",
       "      <td>3.6</td>\n",
       "      <td>1.0</td>\n",
       "      <td>16.692338</td>\n",
       "    </tr>\n",
       "    <tr>\n",
       "      <th>3</th>\n",
       "      <td>33.9095</td>\n",
       "      <td>18.388386</td>\n",
       "      <td>0.0</td>\n",
       "      <td>0.386437</td>\n",
       "      <td>0.400</td>\n",
       "      <td>14.0</td>\n",
       "      <td>9.333333</td>\n",
       "      <td>3.070916</td>\n",
       "      <td>0.800000</td>\n",
       "      <td>14.0</td>\n",
       "      <td>12.000000</td>\n",
       "      <td>4.702977</td>\n",
       "      <td>73.553543</td>\n",
       "      <td>3.028477</td>\n",
       "      <td>0.040787</td>\n",
       "      <td>3.062081</td>\n",
       "      <td>0.5</td>\n",
       "      <td>1.0</td>\n",
       "      <td>3.062221</td>\n",
       "    </tr>\n",
       "    <tr>\n",
       "      <th>4</th>\n",
       "      <td>171.5660</td>\n",
       "      <td>15.224955</td>\n",
       "      <td>0.0</td>\n",
       "      <td>0.000000</td>\n",
       "      <td>1.300</td>\n",
       "      <td>18.0</td>\n",
       "      <td>0.000000</td>\n",
       "      <td>3.166113</td>\n",
       "      <td>0.185714</td>\n",
       "      <td>18.0</td>\n",
       "      <td>10.285714</td>\n",
       "      <td>2.781999</td>\n",
       "      <td>17.399948</td>\n",
       "      <td>2.781999</td>\n",
       "      <td>0.008210</td>\n",
       "      <td>18.711737</td>\n",
       "      <td>7.0</td>\n",
       "      <td>1.0</td>\n",
       "      <td>18.712191</td>\n",
       "    </tr>\n",
       "  </tbody>\n",
       "</table>\n",
       "</div>"
      ],
      "text/plain": [
       "         0          1    2         3      4     5         6         7   \\\n",
       "0   29.7050  14.929776  0.0  0.444402  0.460  14.0  9.333333  2.864868   \n",
       "1   81.5500  14.847659  0.0  0.591787  0.976  18.0  6.000000  3.139741   \n",
       "2  148.0480  14.727705  0.0  0.630593  1.040  18.0  6.000000  3.131262   \n",
       "3   33.9095  18.388386  0.0  0.386437  0.400  14.0  9.333333  3.070916   \n",
       "4  171.5660  15.224955  0.0  0.000000  1.300  18.0  0.000000  3.166113   \n",
       "\n",
       "         8     9          10        11         12        13        14  \\\n",
       "0  0.920000  14.0  12.000000  4.387422  59.719105  2.825278  0.050235   \n",
       "1  0.271111  18.0   8.000000  2.758826  19.796879  2.758758  0.016838   \n",
       "2  0.288889  18.0   8.000000  2.751377  19.636940  2.751377  0.016975   \n",
       "3  0.800000  14.0  12.000000  4.702977  73.553543  3.028477  0.040787   \n",
       "4  0.185714  18.0  10.285714  2.781999  17.399948  2.781999  0.008210   \n",
       "\n",
       "          15   16   17         18  \n",
       "0   3.303811  0.5  1.0   3.303971  \n",
       "1   9.120210  3.6  1.0   9.120451  \n",
       "2  16.691922  3.6  1.0  16.692338  \n",
       "3   3.062081  0.5  1.0   3.062221  \n",
       "4  18.711737  7.0  1.0  18.712191  "
      ]
     },
     "execution_count": 89,
     "metadata": {},
     "output_type": "execute_result"
    }
   ],
   "source": [
    "pd.DataFrame(X).head()"
   ]
  },
  {
   "cell_type": "code",
   "execution_count": 12,
   "metadata": {},
   "outputs": [
    {
     "name": "stdout",
     "output_type": "stream",
     "text": [
      "0\n",
      "[0.11623739 1.10398769 0.16393518]\n",
      "1\n",
      "[0.24409226 2.03288424 0.3264828 ]\n",
      "2\n",
      "[0.36173804 3.00150754 0.4912046 ]\n",
      "3\n",
      "[0.47296084 3.96392383 0.6531068 ]\n",
      "4\n",
      "[0.58534989 5.08970036 0.81873867]\n",
      "5\n",
      "[0.71494474 6.36755544 0.98253774]\n",
      "6\n",
      "[0.84403966 7.57184265 1.14725341]\n",
      "7\n",
      "[0.96195843 8.70536127 1.31361589]\n",
      "8\n",
      "[1.0882026  9.74544024 1.47745324]\n",
      "9\n",
      "[ 1.20394349 10.89746363  1.641608  ]\n",
      "10\n",
      "[ 1.31533406 11.92543675  1.80540446]\n",
      "11\n",
      "[ 1.44487816 13.06374197  1.97035225]\n",
      "12\n",
      "[ 1.5773358  14.05511043  2.13423373]\n",
      "13\n",
      "[ 1.7104024  15.1263076   2.29993465]\n",
      "14\n",
      "[ 1.82992392 16.33154462  2.46400409]\n",
      "15\n",
      "[ 1.9405804  17.53482071  2.62905803]\n",
      "16\n",
      "[ 2.05247766 18.65426443  2.79424417]\n",
      "17\n",
      "[ 2.16920236 19.67794401  2.95753893]\n",
      "18\n",
      "[ 2.27728891 20.65855829  3.12066153]\n",
      "19\n",
      "[ 2.40066586 21.57432587  3.28303156]\n",
      "20\n",
      "[ 2.54838804 22.69109024  3.44848399]\n",
      "21\n",
      "[ 2.67581437 23.8036153   3.61254219]\n",
      "22\n",
      "[ 2.79479334 24.8385071   3.77809164]\n",
      "23\n",
      "[ 2.91248857 25.89690537  3.9430374 ]\n",
      "24\n",
      "[ 3.03097505 27.42263733  4.10887806]\n",
      "25\n",
      "[ 3.14620299 28.36947494  4.27234495]\n",
      "26\n",
      "[ 3.26255546 29.51117477  4.43921327]\n",
      "27\n",
      "[ 3.38618331 30.46848532  4.60154961]\n",
      "28\n",
      "[ 3.50079082 31.46824866  4.76812422]\n",
      "29\n",
      "[ 3.6242158  32.70898917  4.93344545]\n",
      "30\n",
      "[ 3.73280042 33.88681153  5.09876373]\n",
      "31\n",
      "[ 3.84577299 35.09235577  5.26295915]\n",
      "32\n",
      "[ 3.95541664 36.1902485   5.42817196]\n",
      "33\n",
      "[ 4.0650705  37.28780065  5.59137826]\n",
      "34\n",
      "[ 4.19679305 38.43135858  5.75665605]\n",
      "35\n",
      "[ 4.31956561 39.69721232  5.92156853]\n",
      "36\n",
      "[ 4.43200835 40.6626072   6.08430799]\n",
      "37\n",
      "[ 4.55246279 41.66143367  6.24883052]\n",
      "38\n",
      "[ 4.66778428 42.78844802  6.4145781 ]\n",
      "39\n",
      "[ 4.78435944 43.83158525  6.5802626 ]\n",
      "40\n",
      "[ 4.91010135 45.04965888  6.74593143]\n",
      "41\n",
      "[ 5.03467396 45.96522764  6.90798529]\n",
      "42\n",
      "[ 5.18388745 46.9557012   7.07276193]\n",
      "43\n",
      "[ 5.28575767 47.99631356  7.23705185]\n",
      "44\n",
      "[ 5.39406264 49.16394042  7.40119261]\n",
      "45\n",
      "[ 5.4955481  50.18029307  7.56416455]\n",
      "46\n",
      "[ 5.62507938 51.40919875  7.72930169]\n",
      "47\n",
      "[ 5.73862578 52.72352839  7.8944984 ]\n",
      "48\n",
      "[ 5.88318822 53.88671561  8.06140616]\n",
      "49\n",
      "[ 6.00265285 54.91158658  8.22562431]\n",
      "50\n",
      "[ 6.11166997 55.94874375  8.3920415 ]\n",
      "51\n",
      "[ 6.22651295 56.92530727  8.55779239]\n",
      "52\n",
      "[ 6.34252242 58.00626483  8.72111729]\n",
      "53\n",
      "[ 6.46451551 59.02111127  8.8839985 ]\n",
      "54\n",
      "[ 6.59951563 60.08876191  9.04958097]\n",
      "55\n",
      "[ 6.71575049 61.22350839  9.21496355]\n",
      "56\n",
      "[ 6.84008877 62.20780201  9.37834394]\n",
      "57\n",
      "[ 6.95169661 63.35872266  9.54232282]\n",
      "58\n",
      "[ 7.06054414 64.39264376  9.70775768]\n",
      "59\n",
      "[ 7.17216406 65.36766795  9.87343817]\n",
      "60\n",
      "[ 7.28538166 66.3040378  10.03610571]\n",
      "61\n",
      "[ 7.40261191 67.30573538 10.20013209]\n",
      "62\n",
      "[ 7.51770909 68.20541574 10.36384838]\n",
      "63\n",
      "[ 7.63582731 69.2530987  10.52808016]\n",
      "64\n",
      "[ 7.75405435 70.35066343 10.69243626]\n",
      "65\n",
      "[ 7.8662826  71.45578699 10.85714411]\n",
      "66\n",
      "[ 7.97571921 72.57338146 11.02323057]\n",
      "67\n",
      "[ 8.08664941 73.64398543 11.18749973]\n",
      "68\n",
      "[ 8.19925303 74.7279037  11.3508418 ]\n",
      "69\n",
      "[ 8.31515364 75.73217864 11.51372502]\n",
      "70\n",
      "[ 8.43829977 77.25842681 11.67976466]\n",
      "71\n",
      "[ 8.55605059 78.31822859 11.84442431]\n",
      "72\n",
      "[ 8.67054054 79.38361596 12.01087648]\n",
      "73\n",
      "[ 8.80086567 80.61830765 12.17555073]\n",
      "74\n",
      "[ 8.92330717 81.58964227 12.33938625]\n",
      "75\n",
      "[ 9.02587762 82.69556254 12.50052216]\n",
      "76\n",
      "[ 9.12540139 83.80866549 12.66594896]\n",
      "77\n",
      "[ 9.24324934 84.8680201  12.82742269]\n",
      "78\n",
      "[ 9.36154821 86.00081809 12.99231792]\n",
      "79\n",
      "[ 9.47230603 87.10509398 13.15589958]\n",
      "80\n",
      "[ 9.58985535 88.13561866 13.31993545]\n",
      "81\n",
      "[ 9.71090898 89.10190818 13.48234225]\n",
      "82\n",
      "[ 9.81848732 90.18774306 13.64629434]\n",
      "83\n",
      "[ 9.94002668 91.25123536 13.81219512]\n",
      "84\n",
      "[10.0642838  92.28829516 13.97576983]\n",
      "85\n",
      "[10.18929346 93.33581031 14.14135843]\n",
      "86\n",
      "[10.34767728 94.29280718 14.30435228]\n",
      "87\n",
      "[10.45062626 95.39953447 14.47018526]\n",
      "88\n",
      "[10.56325359 96.56116381 14.63608534]\n",
      "89\n",
      "[10.6855192  97.48342861 14.79898482]\n",
      "90\n",
      "[10.81576683 98.38626213 14.96035009]\n",
      "91\n",
      "[10.9234976  99.78746517 15.12490026]\n",
      "92\n",
      "[ 11.03619475 100.74734661  15.28706949]\n",
      "93\n",
      "[ 11.14267032 101.675841    15.44949047]\n",
      "94\n",
      "[ 11.24717266 102.8539269   15.61399808]\n",
      "95\n",
      "[ 11.36280343 103.8893652   15.7783187 ]\n",
      "96\n",
      "[ 11.48156116 104.82064106  15.94041943]\n",
      "97\n",
      "[ 11.58253715 105.83984716  16.10445884]\n",
      "98\n",
      "[ 11.70057818 106.89442876  16.26759707]\n",
      "99\n",
      "[ 11.81970838 107.95642496  16.43362955]\n"
     ]
    },
    {
     "data": {
      "text/plain": [
       "array([0.11819708, 1.07956425, 0.1643363 ])"
      ]
     },
     "execution_count": 12,
     "metadata": {},
     "output_type": "execute_result"
    }
   ],
   "source": [
    "evaluate_avg_eigen(reg1.best_estimator_, reg2.best_estimator_, reg3.best_estimator_, X, ydata = data['ydata'], n=100)"
   ]
  },
  {
   "cell_type": "code",
   "execution_count": 82,
   "metadata": {},
   "outputs": [
    {
     "data": {
      "text/plain": [
       "Pipeline(memory=None,\n",
       "     steps=[('transformer', StandardScaler(copy=True, with_mean=True, with_std=True)), ('reg', GradientBoostingRegressor(alpha=0.9, criterion='friedman_mse', init=None,\n",
       "             learning_rate=0.01, loss='ls', max_depth=3,\n",
       "             max_features='auto', max_leaf_nodes=None,\n",
       "             min_impurit...       presort='auto', random_state=None, subsample=1.0, verbose=0,\n",
       "             warm_start=False))])"
      ]
     },
     "execution_count": 82,
     "metadata": {},
     "output_type": "execute_result"
    }
   ],
   "source": [
    "reg1"
   ]
  },
  {
   "cell_type": "code",
   "execution_count": 98,
   "metadata": {},
   "outputs": [
    {
     "ename": "ValueError",
     "evalue": "Invalid parameter reg for estimator GradientBoostingRegressor(alpha=0.9, criterion='friedman_mse', init=None,\n             learning_rate=0.01, loss='ls', max_depth=3,\n             max_features='sqrt', max_leaf_nodes=None,\n             min_impurity_decrease=0.0, min_impurity_split=None,\n             min_samples_leaf=1, min_samples_split=2,\n             min_weight_fraction_leaf=0.0, n_estimators=500,\n             presort='auto', random_state=None, subsample=0.4, verbose=0,\n             warm_start=False). Check the list of available parameters with `estimator.get_params().keys()`.",
     "output_type": "error",
     "traceback": [
      "\u001b[0;31m---------------------------------------------------------------------------\u001b[0m",
      "\u001b[0;31mValueError\u001b[0m                                Traceback (most recent call last)",
      "\u001b[0;32m<ipython-input-98-d868e338fec7>\u001b[0m in \u001b[0;36m<module>\u001b[0;34m()\u001b[0m\n\u001b[1;32m      1\u001b[0m \u001b[0mmodel\u001b[0m \u001b[0;34m=\u001b[0m \u001b[0mGradientBoostingRegressor\u001b[0m\u001b[0;34m(\u001b[0m\u001b[0mn_estimators\u001b[0m \u001b[0;34m=\u001b[0m \u001b[0;36m500\u001b[0m\u001b[0;34m,\u001b[0m \u001b[0mlearning_rate\u001b[0m\u001b[0;34m=\u001b[0m\u001b[0;36m0.01\u001b[0m\u001b[0;34m,\u001b[0m \u001b[0mmin_samples_split\u001b[0m\u001b[0;34m=\u001b[0m\u001b[0;36m2\u001b[0m\u001b[0;34m,\u001b[0m \u001b[0mmax_features\u001b[0m\u001b[0;34m=\u001b[0m\u001b[0;34m'sqrt'\u001b[0m\u001b[0;34m,\u001b[0m \u001b[0mloss\u001b[0m\u001b[0;34m=\u001b[0m\u001b[0;34m'ls'\u001b[0m\u001b[0;34m,\u001b[0m \u001b[0msubsample\u001b[0m\u001b[0;34m=\u001b[0m\u001b[0;36m0.4\u001b[0m\u001b[0;34m)\u001b[0m\u001b[0;34m\u001b[0m\u001b[0m\n\u001b[0;32m----> 2\u001b[0;31m \u001b[0mmodel\u001b[0m\u001b[0;34m.\u001b[0m\u001b[0mset_params\u001b[0m\u001b[0;34m(\u001b[0m\u001b[0;34m**\u001b[0m\u001b[0mreg3grid\u001b[0m\u001b[0;34m.\u001b[0m\u001b[0mbest_params_\u001b[0m\u001b[0;34m)\u001b[0m\u001b[0;34m\u001b[0m\u001b[0m\n\u001b[0m\u001b[1;32m      3\u001b[0m \u001b[0mreg3\u001b[0m \u001b[0;34m=\u001b[0m \u001b[0mPipeline\u001b[0m\u001b[0;34m(\u001b[0m\u001b[0;34m[\u001b[0m\u001b[0;34m(\u001b[0m\u001b[0;34m'transformer'\u001b[0m\u001b[0;34m,\u001b[0m \u001b[0mscaler\u001b[0m\u001b[0;34m)\u001b[0m\u001b[0;34m,\u001b[0m \u001b[0;34m(\u001b[0m\u001b[0;34m'reg'\u001b[0m\u001b[0;34m,\u001b[0m \u001b[0mmodel\u001b[0m\u001b[0;34m)\u001b[0m\u001b[0;34m]\u001b[0m\u001b[0;34m)\u001b[0m\u001b[0;34m\u001b[0m\u001b[0m\n",
      "\u001b[0;32m/opt/packages/anaconda/anaconda3-5.1.0/lib/python3.6/site-packages/sklearn/base.py\u001b[0m in \u001b[0;36mset_params\u001b[0;34m(self, **params)\u001b[0m\n\u001b[1;32m    272\u001b[0m                                  \u001b[0;34m'Check the list of available parameters '\u001b[0m\u001b[0;34m\u001b[0m\u001b[0m\n\u001b[1;32m    273\u001b[0m                                  \u001b[0;34m'with `estimator.get_params().keys()`.'\u001b[0m \u001b[0;34m%\u001b[0m\u001b[0;34m\u001b[0m\u001b[0m\n\u001b[0;32m--> 274\u001b[0;31m                                  (key, self))\n\u001b[0m\u001b[1;32m    275\u001b[0m \u001b[0;34m\u001b[0m\u001b[0m\n\u001b[1;32m    276\u001b[0m             \u001b[0;32mif\u001b[0m \u001b[0mdelim\u001b[0m\u001b[0;34m:\u001b[0m\u001b[0;34m\u001b[0m\u001b[0m\n",
      "\u001b[0;31mValueError\u001b[0m: Invalid parameter reg for estimator GradientBoostingRegressor(alpha=0.9, criterion='friedman_mse', init=None,\n             learning_rate=0.01, loss='ls', max_depth=3,\n             max_features='sqrt', max_leaf_nodes=None,\n             min_impurity_decrease=0.0, min_impurity_split=None,\n             min_samples_leaf=1, min_samples_split=2,\n             min_weight_fraction_leaf=0.0, n_estimators=500,\n             presort='auto', random_state=None, subsample=0.4, verbose=0,\n             warm_start=False). Check the list of available parameters with `estimator.get_params().keys()`."
     ]
    }
   ],
   "source": [
    "model = GradientBoostingRegressor(n_estimators = 500, learning_rate=0.01, min_samples_split=2, max_features='sqrt', loss='ls', subsample=0.4)\n",
    "model.set_params(**reg3grid.best_params_)\n",
    "reg3 = Pipeline([('transformer', scaler), ('reg', model)])"
   ]
  },
  {
   "cell_type": "code",
   "execution_count": 103,
   "metadata": {},
   "outputs": [
    {
     "data": {
      "text/plain": [
       "array([[ 46.,  31.,  33.],\n",
       "       [154., 107.,  60.],\n",
       "       [258., 140., 107.],\n",
       "       [ 30.,  23.,  26.],\n",
       "       [303., 179., 100.],\n",
       "       [ 37.,  13.,  19.],\n",
       "       [119.,  89.,  34.],\n",
       "       [ 33.,  22.,  18.],\n",
       "       [ 39.,  23.,  40.],\n",
       "       [ 33.,  23.,  27.],\n",
       "       [ 24.,  17.,  14.],\n",
       "       [ 54.,  21.,  25.],\n",
       "       [ 45.,  25.,  22.],\n",
       "       [125.,  43.,  59.],\n",
       "       [ 40.,  36.,  30.],\n",
       "       [ 56.,  35.,  44.],\n",
       "       [ 41.,  32.,  31.],\n",
       "       [ 44.,  25.,  22.],\n",
       "       [198., 106.,  93.],\n",
       "       [ 41.,  22.,  16.],\n",
       "       [ 47.,  21.,  30.],\n",
       "       [ 25.,  12.,   8.],\n",
       "       [135.,  29.,  38.],\n",
       "       [ 84.,  12.,  48.],\n",
       "       [ 93.,  63.,  41.],\n",
       "       [ 36.,  13.,  14.],\n",
       "       [ 66.,  17.,  28.],\n",
       "       [ 83.,  19.,  34.],\n",
       "       [ 30.,   0.,   4.],\n",
       "       [192., 112.,  51.],\n",
       "       [147., 136.,  36.],\n",
       "       [131., 103.,  60.],\n",
       "       [222., 112.,  71.],\n",
       "       [ 70.,  67.,  47.],\n",
       "       [140., 129.,  98.],\n",
       "       [112.,  94.,  72.],\n",
       "       [356., 156., 117.],\n",
       "       [131.,  62.,  26.],\n",
       "       [149., 140.,  41.],\n",
       "       [131.,  71.,  41.],\n",
       "       [131., 105.,  81.],\n",
       "       [216.,  31.,  46.],\n",
       "       [ 77.,  62.,  52.],\n",
       "       [ 64.,  29.,  25.],\n",
       "       [ 78.,  60.,  54.],\n",
       "       [ 56.,  45.,  46.],\n",
       "       [121.,  31.,  55.],\n",
       "       [144., 102.,  68.],\n",
       "       [ 65.,  36.,  42.],\n",
       "       [153.,  72.,  35.],\n",
       "       [293., 101.,  73.],\n",
       "       [ 45.,  35.,  27.],\n",
       "       [ 93.,  23.,  38.],\n",
       "       [247., 138.,  74.],\n",
       "       [271.,  38.,  69.],\n",
       "       [242.,  27.,  77.],\n",
       "       [268.,  22.,  88.],\n",
       "       [ 76.,  70.,  43.],\n",
       "       [ 81.,  62.,  52.],\n",
       "       [163., 121., 104.],\n",
       "       [118.,  97.,  54.],\n",
       "       [ 73.,  68.,  37.],\n",
       "       [290., 144.,  83.],\n",
       "       [ 67.,  56.,  39.],\n",
       "       [ 77.,  34.,  58.],\n",
       "       [340., 171.,  85.],\n",
       "       [192.,  90.,  30.],\n",
       "       [ 95.,  79.,  75.],\n",
       "       [ 55.,  51.,  34.],\n",
       "       [140.,  62.,  29.],\n",
       "       [ 78.,  35.,  44.],\n",
       "       [ 99.,  86.,  43.],\n",
       "       [ 39.,  30.,  46.],\n",
       "       [ 32.,   3.,   4.],\n",
       "       [188., 120.,  88.],\n",
       "       [109.,  66.,  53.],\n",
       "       [ 72.,  62.,  44.],\n",
       "       [ 93.,  75.,  58.],\n",
       "       [ 83.,  81.,  19.],\n",
       "       [ 51.,  37.,  46.],\n",
       "       [ 62.,  52.,   9.],\n",
       "       [ 88.,  87.,  64.],\n",
       "       [ 40.,  26.,  38.],\n",
       "       [109., 101.,  72.],\n",
       "       [ 46.,  28.,  13.],\n",
       "       [ 91.,  55.,  50.],\n",
       "       [142., 100.,  84.],\n",
       "       [220.,  15.,  57.],\n",
       "       [ 54.,  20.,  24.],\n",
       "       [ 60.,  50.,  44.],\n",
       "       [ 69.,  52.,  46.],\n",
       "       [227., 114.,  58.],\n",
       "       [108.,  78.,  75.],\n",
       "       [ 52.,  36.,  38.],\n",
       "       [241., 110.,  60.],\n",
       "       [109.,  98.,  17.],\n",
       "       [ 93.,  90.,  38.],\n",
       "       [ 35.,  28.,  28.],\n",
       "       [176.,  85.,  21.],\n",
       "       [ 66.,  23.,  33.],\n",
       "       [ 91.,  62.,  51.],\n",
       "       [212.,  18.,  50.],\n",
       "       [211., 115.,  58.],\n",
       "       [ 66.,  51.,  32.],\n",
       "       [ 44.,  34.,  46.],\n",
       "       [128., 118.,  65.],\n",
       "       [127.,  93.,  92.],\n",
       "       [134., 108.,  31.],\n",
       "       [ 85.,  60.,  51.],\n",
       "       [211.,  98.,  43.],\n",
       "       [ 86.,  81.,  53.],\n",
       "       [ 83.,  78.,  31.],\n",
       "       [ 81.,  24.,  36.],\n",
       "       [ 91.,  71.,  51.],\n",
       "       [ 55.,  50.,  33.],\n",
       "       [ 47.,  31.,  39.],\n",
       "       [130.,  30.,  59.],\n",
       "       [ 74.,  35.,  30.],\n",
       "       [130.,  59.,  31.],\n",
       "       [159., 144., 110.],\n",
       "       [101.,  32.,  44.],\n",
       "       [ 55.,  43.,  47.],\n",
       "       [295., 121.,  79.],\n",
       "       [243., 107., 116.],\n",
       "       [152., 102.,  98.],\n",
       "       [ 69.,  60.,  45.],\n",
       "       [147.,  89.,  62.],\n",
       "       [ 99.,  79.,  76.],\n",
       "       [248., 134.,  74.],\n",
       "       [104.,  94.,  39.],\n",
       "       [301., 104., 128.],\n",
       "       [155., 130.,  71.],\n",
       "       [102.,  93.,  41.],\n",
       "       [152., 105.,  61.],\n",
       "       [125.,  90.,  68.],\n",
       "       [113.,  84.,  56.],\n",
       "       [ 43.,  22.,  29.],\n",
       "       [ 56.,  33.,  48.],\n",
       "       [ 55.,  48.,  32.],\n",
       "       [213.,  97.,  46.],\n",
       "       [136.,  85., 102.],\n",
       "       [113.,  51.,  30.],\n",
       "       [ 33.,  27.,  34.],\n",
       "       [128.,  34.,  55.],\n",
       "       [115., 105.,  71.],\n",
       "       [209.,  18.,  49.],\n",
       "       [ 74.,  43.,  58.],\n",
       "       [105.,  95.,  63.],\n",
       "       [147.,  91.,  59.],\n",
       "       [113.,  75.,  62.],\n",
       "       [153., 114., 102.],\n",
       "       [ 69.,  43.,  52.],\n",
       "       [ 84.,  50.,  64.],\n",
       "       [112.,  27.,  43.],\n",
       "       [ 99.,  78.,  59.],\n",
       "       [259.,  18.,  65.],\n",
       "       [ 49.,  20.,  31.],\n",
       "       [302., 143., 160.],\n",
       "       [193., 102.,  83.],\n",
       "       [103.,  82.,  77.],\n",
       "       [125.,  94.,  92.],\n",
       "       [ 62.,  49.,  25.],\n",
       "       [ 63.,  18.,  15.],\n",
       "       [213.,  14.,  54.],\n",
       "       [ 32.,  14.,  11.],\n",
       "       [ 33.,  17.,  12.],\n",
       "       [112.,  76.,  67.],\n",
       "       [ 27.,  16.,  14.],\n",
       "       [ 26.,  16.,  13.],\n",
       "       [ 25.,  11.,  10.]])"
      ]
     },
     "execution_count": 103,
     "metadata": {},
     "output_type": "execute_result"
    }
   ],
   "source": [
    "data['ydata']"
   ]
  },
  {
   "cell_type": "code",
   "execution_count": null,
   "metadata": {},
   "outputs": [],
   "source": []
  },
  {
   "cell_type": "code",
   "execution_count": null,
   "metadata": {},
   "outputs": [],
   "source": []
  },
  {
   "cell_type": "code",
   "execution_count": null,
   "metadata": {},
   "outputs": [],
   "source": []
  },
  {
   "cell_type": "code",
   "execution_count": null,
   "metadata": {},
   "outputs": [],
   "source": []
  }
 ],
 "metadata": {
  "kernelspec": {
   "display_name": "Python 3",
   "language": "python",
   "name": "python3"
  },
  "language_info": {
   "codemirror_mode": {
    "name": "ipython",
    "version": 3
   },
   "file_extension": ".py",
   "mimetype": "text/x-python",
   "name": "python",
   "nbconvert_exporter": "python",
   "pygments_lexer": "ipython3",
   "version": "3.6.4"
  }
 },
 "nbformat": 4,
 "nbformat_minor": 2
}
