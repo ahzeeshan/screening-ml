{
 "cells": [
  {
   "cell_type": "code",
   "execution_count": 1,
   "metadata": {},
   "outputs": [],
   "source": [
    "import warnings\n",
    "warnings.filterwarnings('ignore')\n",
    "from sklearn.datasets import load_iris\n",
    "from matplotlib import pyplot as plt\n",
    "from sklearn.svm import SVC\n",
    "from sklearn.model_selection import GridSearchCV, cross_val_score, KFold\n",
    "import numpy as np\n",
    "from sklearn import linear_model\n",
    "import scipy.io as spio\n",
    "from sklearn.multioutput import MultiOutputRegressor\n",
    "from sklearn import preprocessing\n",
    "from sklearn.pipeline import Pipeline\n",
    "from sklearn.ensemble import AdaBoostRegressor, GradientBoostingRegressor, RandomForestRegressor\n",
    "from sklearn.tree import DecisionTreeRegressor\n",
    "from sklearn.svm import SVR\n",
    "from sklearn.kernel_ridge import KernelRidge\n",
    "from sklearn.gaussian_process import GaussianProcessRegressor, kernels\n",
    "import shelve"
   ]
  },
  {
   "cell_type": "code",
   "execution_count": 2,
   "metadata": {},
   "outputs": [],
   "source": [
    "lattice = 'cubic'\n",
    "coeff=0\n",
    "data = spio.loadmat(lattice+'-data-posd-with-den.mat')\n",
    "X = data['xdata']\n",
    "y = data['ydata'][:,coeff]"
   ]
  },
  {
   "cell_type": "code",
   "execution_count": 3,
   "metadata": {},
   "outputs": [],
   "source": [
    "models_and_parameters = {\n",
    "  'lasso': (linear_model.Lasso(),\n",
    "              {'reg__alpha': [0.01, 0.1, 0.5, 1.,5.,10.]}),\n",
    "    'elnet': (linear_model.ElasticNet(),\n",
    "              {'reg__alpha':[0.01, 0.1, 0.5, 1, 5., 10.], 'reg__l1_ratio':[0.,0.1,0.5,1.,2.1]}),\n",
    "    'krg': (KernelRidge(),\n",
    "            {'reg__kernel':['rbf','linear'], 'reg__alpha': [1e0, 0.1, 1e-2, 1e-3], 'reg__gamma': np.logspace(-2, 2, 5)}),\n",
    "    'gpr': (GaussianProcessRegressor(kernel = kernels.RBF()),\n",
    "            {'reg__kernel__length_scale':[0.01, 0.1, 1., 2., 10., 100.], 'reg__kernel__length_scale_bounds':[(1e-2,1.),(1e-1,1.),(1e-1,10.),(1.,10.),(1.,100.)\\\n",
    ",(1e-2,1e2)]}),\n",
    "    'gbr': (GradientBoostingRegressor(learning_rate=0.01, min_samples_split=2, max_features='sqrt', loss='ls', subsample=0.4),\n",
    "            {'reg__max_depth': [2,3,4,10,20,50],'reg__min_samples_leaf': [2,3,4,10], 'reg__learning_rate':[0.01, 0.1], 'reg__max_features':['auto', 'sqrt', 'l\\\n",
    "og2']}),\n",
    "    'ada': (AdaBoostRegressor(base_estimator=DecisionTreeRegressor(),n_estimators=500,learning_rate=0.01),#max_depth alone doesn't work probably               \n",
    "            {'reg__base_estimator__max_depth': [2,3,4,10], 'reg__base_estimator':[DecisionTreeRegressor(max_depth = 4, max_features='auto'),\n",
    "                                                                                     DecisionTreeRegressor(max_depth = None, max_features='auto'),\n",
    "                                                                                     DecisionTreeRegressor(max_depth = 4, max_features='sqrt'),\n",
    "                                                                                     DecisionTreeRegressor(max_depth = None, max_features='sqrt')]}),\n",
    "    'svr': (SVR(),\n",
    "            {'reg__C': [0.01, 0.05, 0.1, 1], 'reg__kernel': ['linear', 'rbf']}),\n",
    "    'rf': (RandomForestRegressor(),\n",
    "           {'reg__max_depth': [None, 5, 10, 50]}),\n",
    "    'brg': (linear_model.BayesianRidge(fit_intercept=True),\n",
    "            {'reg__alpha_1': [1.e-6, 1.e-5]}),\n",
    "    'lars': (linear_model.Lars(fit_intercept = True, normalize=False),\n",
    "             {'reg__n_nonzero_coefs': [5, 10, 50, 500, np.inf]}),\n",
    "    'ard': (linear_model.ARDRegression(),\n",
    "            {'reg__alpha_1':[1.e-6, 1.e-5]})}"
   ]
  },
  {
   "cell_type": "code",
   "execution_count": 4,
   "metadata": {},
   "outputs": [],
   "source": [
    "scaler = preprocessing.StandardScaler()"
   ]
  },
  {
   "cell_type": "code",
   "execution_count": 5,
   "metadata": {},
   "outputs": [],
   "source": [
    "inner_cv = KFold(n_splits=3, shuffle=True)\n",
    "outer_cv = KFold(n_splits=3, shuffle=True)"
   ]
  },
  {
   "cell_type": "code",
   "execution_count": 6,
   "metadata": {},
   "outputs": [],
   "source": [
    "model=RandomForestRegressor(n_estimators=1000)\n",
    "params={'reg__max_depth': [None, 5, 10, 50,100,200],'reg__max_features':['auto','sqrt','log2'],'reg__min_samples_split':[2,3,4],'reg__min_samples_leaf':[2,3,4]}\n",
    "pipeline = Pipeline([('transformer', scaler), ('reg', model)])"
   ]
  },
  {
   "cell_type": "code",
   "execution_count": 9,
   "metadata": {},
   "outputs": [
    {
     "data": {
      "text/plain": [
       "GridSearchCV(cv=KFold(n_splits=3, random_state=None, shuffle=True),\n",
       "       error_score='raise',\n",
       "       estimator=Pipeline(memory=None,\n",
       "     steps=[('transformer', StandardScaler(copy=True, with_mean=True, with_std=True)), ('reg', RandomForestRegressor(bootstrap=True, criterion='mse', max_depth=None,\n",
       "           max_features='auto', max_leaf_nodes=None,\n",
       "           min_impurity_decrease=0.0, min_impurit...ators=1000, n_jobs=1,\n",
       "           oob_score=False, random_state=None, verbose=0, warm_start=False))]),\n",
       "       fit_params=None, iid=True, n_jobs=-1,\n",
       "       param_grid={'reg__max_depth': [None, 5, 10, 50, 100, 200], 'reg__max_features': ['auto', 'sqrt', 'log2'], 'reg__min_samples_split': [2, 3, 4], 'reg__min_samples_leaf': [2, 3, 4]},\n",
       "       pre_dispatch='2*n_jobs', refit=True, return_train_score='warn',\n",
       "       scoring=None, verbose=0)"
      ]
     },
     "execution_count": 9,
     "metadata": {},
     "output_type": "execute_result"
    }
   ],
   "source": [
    "clf = GridSearchCV(estimator=pipeline, param_grid=params, cv=inner_cv,n_jobs=-1)\n",
    "clf"
   ]
  },
  {
   "cell_type": "code",
   "execution_count": 10,
   "metadata": {},
   "outputs": [
    {
     "data": {
      "text/plain": [
       "{'reg__max_depth': 200,\n",
       " 'reg__max_features': 'sqrt',\n",
       " 'reg__min_samples_leaf': 2,\n",
       " 'reg__min_samples_split': 2}"
      ]
     },
     "execution_count": 10,
     "metadata": {},
     "output_type": "execute_result"
    }
   ],
   "source": [
    "clf.fit(X,y)\n",
    "clf.best_params_"
   ]
  },
  {
   "cell_type": "code",
   "execution_count": 11,
   "metadata": {},
   "outputs": [
    {
     "name": "stdout",
     "output_type": "stream",
     "text": [
      "Cross-validation results:\n",
      "Folds: 3, mean RMSE: 48.200\n",
      "Folds: 3, mean r2: 0.587\n"
     ]
    }
   ],
   "source": [
    "clf.fit(X,y)\n",
    "scores=cross_val_score(clf, X=X, y=y, scoring='neg_mean_squared_error',cv=outer_cv)\n",
    "r2scores=cross_val_score(clf, X=X, y=y, scoring='r2',cv=outer_cv)\n",
    "rmse_scores = [np.sqrt(abs(s)) for s in scores]\n",
    "print('Cross-validation results:')\n",
    "print('Folds: %i, mean RMSE: %.3f' % (len(scores), np.mean(np.abs(rmse_scores))))\n",
    "print('Folds: %i, mean r2: %.3f' % (len(r2scores), np.mean(r2scores)))"
   ]
  },
  {
   "cell_type": "code",
   "execution_count": 36,
   "metadata": {},
   "outputs": [],
   "source": [
    "from matminer.figrecipes.plotly.make_plots import PlotlyFig\n",
    "\n",
    "pf_rf = PlotlyFig(x_title='DFT (MP) C11 (GPa)',\n",
    "                  y_title='Random forest C11 (GPa)',\n",
    "                  plot_title='Random forest regression',\n",
    "                  plot_mode='offline',\n",
    "                  margin_left=150,\n",
    "                  textsize=35,\n",
    "                  ticksize=30,\n",
    "                  filename=\"rf_regression.html\")\n",
    "\n",
    "# a line to represent a perfect model with 1:1 prediction\n",
    "xy_line = {'x_col': [min(y), max(y)],\n",
    "           'y_col': [min(y), max(y)],\n",
    "           'color': 'black',\n",
    "           'mode': 'lines',\n",
    "           'legend': None,\n",
    "           'text': None,\n",
    "           'size': None}\n",
    "\n",
    "\n",
    "pf_rf.xy_plot(x_col=y,\n",
    "              y_col=clf.predict(X),\n",
    "              size=3,\n",
    "              marker_outline_width=0.5,\n",
    "              #text=df_mp['pretty_formula'],\n",
    "              add_xy_plot=[xy_line])"
   ]
  },
  {
   "cell_type": "code",
   "execution_count": 49,
   "metadata": {},
   "outputs": [],
   "source": [
    "coeff=1\n",
    "y = data['ydata'][:,coeff]\n",
    "params=models_and_parameters['brg'][1]\n",
    "scaler = preprocessing.StandardScaler()\n",
    "inner_cv = KFold(n_splits=3, shuffle=True)\n",
    "outer_cv = KFold(n_splits=3, shuffle=True)"
   ]
  },
  {
   "cell_type": "code",
   "execution_count": 50,
   "metadata": {},
   "outputs": [
    {
     "data": {
      "text/plain": [
       "GridSearchCV(cv=KFold(n_splits=3, random_state=None, shuffle=True),\n",
       "       error_score='raise',\n",
       "       estimator=Pipeline(memory=None,\n",
       "     steps=[('transformer', StandardScaler(copy=True, with_mean=True, with_std=True)), ('reg', BayesianRidge(alpha_1=1e-06, alpha_2=1e-06, compute_score=False, copy_X=True,\n",
       "       fit_intercept=True, lambda_1=1e-06, lambda_2=1e-06, n_iter=300,\n",
       "       normalize=False, tol=0.001, verbose=False))]),\n",
       "       fit_params=None, iid=True, n_jobs=-1,\n",
       "       param_grid={'reg__alpha_1': [1e-06, 1e-05]},\n",
       "       pre_dispatch='2*n_jobs', refit=True, return_train_score='warn',\n",
       "       scoring=None, verbose=0)"
      ]
     },
     "execution_count": 50,
     "metadata": {},
     "output_type": "execute_result"
    }
   ],
   "source": [
    "model=linear_model.BayesianRidge(normalize=False)\n",
    "scaler = preprocessing.StandardScaler()\n",
    "pipeline = Pipeline([('transformer', scaler), ('reg', model)])\n",
    "clf2 = GridSearchCV(estimator=pipeline, param_grid=params, cv=inner_cv,n_jobs=-1)\n",
    "clf2"
   ]
  },
  {
   "cell_type": "code",
   "execution_count": 54,
   "metadata": {},
   "outputs": [
    {
     "name": "stdout",
     "output_type": "stream",
     "text": [
      "Cross-validation results:\n",
      "Folds: 3, mean RMSE: 16.871\n",
      "Folds: 3, mean r2: 0.851\n"
     ]
    }
   ],
   "source": [
    "clf2.fit(X,y)\n",
    "clf2.best_params_\n",
    "scores=cross_val_score(clf2, X=X, y=y, scoring='neg_mean_squared_error',cv=outer_cv)\n",
    "r2scores=cross_val_score(clf2, X=X, y=y, scoring='r2',cv=outer_cv)\n",
    "rmse_scores = [np.sqrt(abs(s)) for s in scores]\n",
    "print('Cross-validation results:')\n",
    "print('Folds: %i, mean RMSE: %.3f' % (len(scores), np.mean(np.abs(rmse_scores))))\n",
    "print('Folds: %i, mean r2: %.3f' % (len(r2scores), np.mean(r2scores)))"
   ]
  },
  {
   "cell_type": "code",
   "execution_count": 55,
   "metadata": {},
   "outputs": [],
   "source": [
    "from matminer.figrecipes.plotly.make_plots import PlotlyFig\n",
    "pf_rf = PlotlyFig(x_title='DFT (MP) C12 (GPa)',\n",
    "                  y_title='Bayesian Ridge C12 (GPa)',\n",
    "                  plot_title='Random forest regression',\n",
    "                  plot_mode='offline',\n",
    "                  margin_left=150,\n",
    "                  textsize=35,\n",
    "                  ticksize=30,\n",
    "                  filename=\"br2_regression.html\")\n",
    "\n",
    "# a line to represent a perfect model with 1:1 prediction\n",
    "xy_line = {'x_col': [min(y), max(y)],\n",
    "           'y_col': [min(y), max(y)],\n",
    "           'color': 'black',\n",
    "           'mode': 'lines',\n",
    "           'legend': None,\n",
    "           'text': None,\n",
    "           'size': None}\n",
    "\n",
    "\n",
    "pf_rf.xy_plot(x_col=y,\n",
    "              y_col=clf2.predict(X),\n",
    "              size=3,\n",
    "              marker_outline_width=0.5,\n",
    "              #text=df_mp['pretty_formula'],\n",
    "              add_xy_plot=[xy_line])"
   ]
  },
  {
   "cell_type": "code",
   "execution_count": 39,
   "metadata": {},
   "outputs": [],
   "source": [
    "coeff=2\n",
    "y = data['ydata'][:,coeff]\n",
    "params=models_and_parameters['brg'][1]\n",
    "scaler = preprocessing.StandardScaler()\n",
    "inner_cv = KFold(n_splits=3, shuffle=True)\n",
    "outer_cv = KFold(n_splits=3, shuffle=True)\n",
    "model=linear_model.BayesianRidge(normalize=False)\n",
    "scaler = preprocessing.StandardScaler()\n",
    "pipeline = Pipeline([('transformer', scaler), ('reg', model)])\n"
   ]
  },
  {
   "cell_type": "code",
   "execution_count": 45,
   "metadata": {},
   "outputs": [
    {
     "name": "stdout",
     "output_type": "stream",
     "text": [
      "Cross-validation results:\n",
      "Folds: 3, mean RMSE: 14.252\n",
      "Folds: 3, mean r2: 0.669\n"
     ]
    }
   ],
   "source": [
    "clf3 = GridSearchCV(estimator=pipeline, param_grid=params, cv=inner_cv,n_jobs=-1)\n",
    "clf3\n",
    "clf3.fit(X,y)\n",
    "clf3.best_params_\n",
    "scores=cross_val_score(clf3, X=X, y=y, scoring='neg_mean_squared_error',cv=outer_cv)\n",
    "r2scores=cross_val_score(clf3, X=X, y=y, scoring='r2',cv=outer_cv)\n",
    "rmse_scores = [np.sqrt(abs(s)) for s in scores]\n",
    "print('Cross-validation results:')\n",
    "print('Folds: %i, mean RMSE: %.3f' % (len(scores), np.mean(np.abs(rmse_scores))))\n",
    "print('Folds: %i, mean r2: %.3f' % (len(r2scores), np.mean(r2scores)))"
   ]
  },
  {
   "cell_type": "code",
   "execution_count": 48,
   "metadata": {},
   "outputs": [],
   "source": [
    "from matminer.figrecipes.plotly.make_plots import PlotlyFig\n",
    "pf_rf = PlotlyFig(x_title='DFT (MP) C44 (GPa)',\n",
    "                  y_title='Bayesian Ridge C44 (GPa)',\n",
    "                  plot_title='Random forest regression',\n",
    "                  plot_mode='offline',\n",
    "                  margin_left=150,\n",
    "                  textsize=35,\n",
    "                  ticksize=30,\n",
    "                  filename=\"br3_regression.html\")\n",
    "\n",
    "# a line to represent a perfect model with 1:1 prediction\n",
    "xy_line = {'x_col': [min(y), max(y)],\n",
    "           'y_col': [min(y), max(y)],\n",
    "           'color': 'black',\n",
    "           'mode': 'lines',\n",
    "           'legend': None,\n",
    "           'text': None,\n",
    "           'size': None}\n",
    "\n",
    "pf_rf.xy_plot(x_col=y,\n",
    "              y_col=clf3.predict(X),\n",
    "              size=3,\n",
    "              marker_outline_width=0.5,\n",
    "              #text=df_mp['pretty_formula'],\n",
    "              add_xy_plot=[xy_line])"
   ]
  },
  {
   "cell_type": "code",
   "execution_count": null,
   "metadata": {},
   "outputs": [],
   "source": []
  }
 ],
 "metadata": {
  "kernelspec": {
   "display_name": "Python 3",
   "language": "python",
   "name": "python3"
  },
  "language_info": {
   "codemirror_mode": {
    "name": "ipython",
    "version": 3
   },
   "file_extension": ".py",
   "mimetype": "text/x-python",
   "name": "python",
   "nbconvert_exporter": "python",
   "pygments_lexer": "ipython3",
   "version": "3.6.4"
  }
 },
 "nbformat": 4,
 "nbformat_minor": 2
}
